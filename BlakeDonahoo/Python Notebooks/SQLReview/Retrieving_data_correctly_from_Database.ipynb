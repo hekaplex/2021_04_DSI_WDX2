{
 "cells": [
  {
   "cell_type": "markdown",
   "metadata": {},
   "source": [
    "### Task 1: (Connect to the supplied petsDB, and (OPTIONAL) write a function to check if the connection is done)"
   ]
  },
  {
   "cell_type": "code",
   "execution_count": 24,
   "metadata": {},
   "outputs": [],
   "source": [
    "import sqlite3\n",
    "sql_connection = sqlite3.connect(\"petsdb\")"
   ]
  },
  {
   "cell_type": "code",
   "execution_count": 25,
   "metadata": {},
   "outputs": [
    {
     "name": "stdout",
     "output_type": "stream",
     "text": [
      "True\n"
     ]
    }
   ],
   "source": [
    "def check_conn(conn):\n",
    "    try:\n",
    "        conn.cursor()\n",
    "        return True\n",
    "    except Exception as err:\n",
    "        return False\n",
    "print(check_conn(sql_connection))"
   ]
  },
  {
   "cell_type": "code",
   "execution_count": 26,
   "metadata": {},
   "outputs": [
    {
     "name": "stdout",
     "output_type": "stream",
     "text": [
      "False\n"
     ]
    }
   ],
   "source": [
    "sql_connection.close()\n",
    "print(check_conn(sql_connection))"
   ]
  },
  {
   "cell_type": "markdown",
   "metadata": {},
   "source": [
    "### Task 2: (What are the different age groups in the persons database)"
   ]
  },
  {
   "cell_type": "code",
   "execution_count": 27,
   "metadata": {},
   "outputs": [
    {
     "name": "stdout",
     "output_type": "stream",
     "text": [
      "True\n"
     ]
    }
   ],
   "source": [
    "sql_connection = sqlite3.connect(\"petsdb\")\n",
    "def check_conn(conn):\n",
    "    try:\n",
    "        conn.cursor()\n",
    "        return True\n",
    "    except Exception as err:\n",
    "        return False\n",
    "print(check_conn(sql_connection))"
   ]
  },
  {
   "cell_type": "code",
   "execution_count": 28,
   "metadata": {},
   "outputs": [
    {
     "name": "stdout",
     "output_type": "stream",
     "text": [
      "There are 2 people that are age 5\n",
      "There are 1 people that are age 6\n",
      "There are 1 people that are age 7\n",
      "There are 3 people that are age 8\n",
      "There are 1 people that are age 9\n",
      "There are 2 people that are age 11\n",
      "There are 3 people that are age 12\n",
      "There are 1 people that are age 13\n",
      "There are 4 people that are age 14\n",
      "There are 2 people that are age 16\n",
      "There are 2 people that are age 17\n",
      "There are 3 people that are age 18\n",
      "There are 1 people that are age 19\n",
      "There are 3 people that are age 22\n",
      "There are 2 people that are age 23\n",
      "There are 3 people that are age 24\n",
      "There are 2 people that are age 25\n",
      "There are 1 people that are age 27\n",
      "There are 1 people that are age 30\n",
      "There are 3 people that are age 31\n",
      "There are 1 people that are age 32\n",
      "There are 1 people that are age 33\n",
      "There are 2 people that are age 34\n",
      "There are 3 people that are age 35\n",
      "There are 3 people that are age 36\n",
      "There are 1 people that are age 37\n",
      "There are 2 people that are age 39\n",
      "There are 1 people that are age 40\n",
      "There are 1 people that are age 42\n",
      "There are 2 people that are age 44\n",
      "There are 2 people that are age 48\n",
      "There are 1 people that are age 49\n",
      "There are 1 people that are age 50\n",
      "There are 2 people that are age 51\n",
      "There are 2 people that are age 52\n",
      "There are 2 people that are age 53\n",
      "There are 2 people that are age 54\n",
      "There are 1 people that are age 58\n",
      "There are 1 people that are age 59\n",
      "There are 1 people that are age 60\n",
      "There are 1 people that are age 61\n",
      "There are 2 people that are age 62\n",
      "There are 1 people that are age 63\n",
      "There are 2 people that are age 65\n",
      "There are 2 people that are age 66\n",
      "There are 1 people that are age 67\n",
      "There are 3 people that are age 68\n",
      "There are 1 people that are age 69\n",
      "There are 1 people that are age 70\n",
      "There are 4 people that are age 71\n",
      "There are 1 people that are age 72\n",
      "There are 5 people that are age 73\n",
      "There are 3 people that are age 74\n"
     ]
    }
   ],
   "source": [
    "c = conn.cursor()\n",
    "for ppl, age in c.execute(\"SELECT count(*) , age FROM persons GROUP BY age\"):\n",
    "    print(\"There are {} people that are age {}\".format(ppl , age))"
   ]
  },
  {
   "cell_type": "markdown",
   "metadata": {},
   "source": [
    "### Task 3: Which age group has maximum number of people?"
   ]
  },
  {
   "cell_type": "code",
   "execution_count": 31,
   "metadata": {},
   "outputs": [
    {
     "name": "stdout",
     "output_type": "stream",
     "text": [
      "Highest number of people: 5, came from age group 73\n"
     ]
    }
   ],
   "source": [
    "for ppl, age in c.execute(\"SELECT count(*), age FROM persons GROUP BY age ORDER BY count(*) DESC\"):\n",
    "    print(\"Highest number of people: {}, came from age group {}\".format(ppl, age))\n",
    "    break"
   ]
  },
  {
   "cell_type": "markdown",
   "metadata": {},
   "source": [
    "### Task 4: How many people do not have a full name (Last name is blank/null)"
   ]
  },
  {
   "cell_type": "code",
   "execution_count": 38,
   "metadata": {},
   "outputs": [
    {
     "name": "stdout",
     "output_type": "stream",
     "text": [
      "60\n"
     ]
    }
   ],
   "source": [
    "res = c.execute(\"SELECT count(*) FROM persons WHERE last_name IS null\")\n",
    "for r in res:\n",
    "    ro = str(r)\n",
    "    row = ro.replace('(','').replace(')','').replace(',','')\n",
    "    print(row)"
   ]
  },
  {
   "cell_type": "markdown",
   "metadata": {},
   "source": [
    "### Task 5: How many people has more than one pet? (*)"
   ]
  },
  {
   "cell_type": "code",
   "execution_count": 39,
   "metadata": {},
   "outputs": [
    {
     "name": "stdout",
     "output_type": "stream",
     "text": [
      "There are 43 people with more than one pet\n"
     ]
    }
   ],
   "source": [
    "res = c.execute(\"SELECT count(*) FROM (SELECT count(owner_id) FROM pets GROUP BY owner_id HAVING count(owner_id) >1)\")\n",
    "for row in res:\n",
    "    print(\"There are {} people with more than one pet\".format(row[0]))"
   ]
  },
  {
   "cell_type": "markdown",
   "metadata": {},
   "source": [
    "### Task 6: How many pets have received treaments?\n"
   ]
  },
  {
   "cell_type": "code",
   "execution_count": 40,
   "metadata": {},
   "outputs": [
    {
     "name": "stdout",
     "output_type": "stream",
     "text": [
      "36\n"
     ]
    }
   ],
   "source": [
    "res = c.execute(\"SELECT count(*) FROM pets WHERE treatment_done=1\")\n",
    "for r in res:\n",
    "    ro = str(r)\n",
    "    row = ro.replace('(','').replace(')','').replace(',','')\n",
    "    print(row)"
   ]
  },
  {
   "cell_type": "markdown",
   "metadata": {},
   "source": [
    "### Task 7: How many pets have received treatment that we know the type of?"
   ]
  },
  {
   "cell_type": "code",
   "execution_count": 41,
   "metadata": {},
   "outputs": [
    {
     "name": "stdout",
     "output_type": "stream",
     "text": [
      "16\n"
     ]
    }
   ],
   "source": [
    "res = c.execute(\"SELECT count(*) FROM pets WHERE treatment_done=1 AND pet_type IS NOT null\")\n",
    "for r in res:\n",
    "    ro = str(r)\n",
    "    row = ro.replace('(','').replace(')','').replace(',','')\n",
    "    print(row)"
   ]
  },
  {
   "cell_type": "markdown",
   "metadata": {},
   "source": [
    "### Task 8: How many pets are there from the city called \"east port\""
   ]
  },
  {
   "cell_type": "code",
   "execution_count": 42,
   "metadata": {},
   "outputs": [
    {
     "name": "stdout",
     "output_type": "stream",
     "text": [
      "49\n"
     ]
    }
   ],
   "source": [
    "res = c.execute(\"SELECT count(*) FROM pets JOIN persons ON pets.owner_id = persons.id WHERE persons.city='east port'\")\n",
    "for r in res:\n",
    "    ro = str(r)\n",
    "    row = ro.replace('(','').replace(')','').replace(',','')\n",
    "    print(row)"
   ]
  },
  {
   "cell_type": "markdown",
   "metadata": {},
   "source": [
    "### Task 9: How many pets are there from the city called \"east port\" and who received a treatment?"
   ]
  },
  {
   "cell_type": "code",
   "execution_count": 44,
   "metadata": {},
   "outputs": [
    {
     "name": "stdout",
     "output_type": "stream",
     "text": [
      "11\n"
     ]
    }
   ],
   "source": [
    "res = c.execute(\"SELECT count(*) FROM pets JOIN persons ON pets.owner_id = persons.id WHERE persons.city='east port' AND pets.treatment_done=1\")\n",
    "for r in res:\n",
    "    ro = str(r)\n",
    "    row = ro.replace('(','').replace(')','').replace(',','')\n",
    "    print(row)"
   ]
  },
  {
   "cell_type": "code",
   "execution_count": 45,
   "metadata": {},
   "outputs": [
    {
     "name": "stdout",
     "output_type": "stream",
     "text": [
      "False\n"
     ]
    }
   ],
   "source": [
    "sql_connection.close()\n",
    "print(check_conn(sql_connection))"
   ]
  }
 ],
 "metadata": {
  "kernelspec": {
   "display_name": "Python 3",
   "language": "python",
   "name": "python3"
  },
  "language_info": {
   "codemirror_mode": {
    "name": "ipython",
    "version": 3
   },
   "file_extension": ".py",
   "mimetype": "text/x-python",
   "name": "python",
   "nbconvert_exporter": "python",
   "pygments_lexer": "ipython3",
   "version": "3.8.8"
  }
 },
 "nbformat": 4,
 "nbformat_minor": 2
}
