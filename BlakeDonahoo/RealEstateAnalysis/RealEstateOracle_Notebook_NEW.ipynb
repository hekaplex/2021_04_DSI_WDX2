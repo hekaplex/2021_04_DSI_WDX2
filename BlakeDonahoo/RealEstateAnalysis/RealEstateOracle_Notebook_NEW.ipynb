{
 "cells": [
  {
   "cell_type": "code",
   "execution_count": 1,
   "id": "4ede50bc",
   "metadata": {},
   "outputs": [],
   "source": [
    "### RealEstateOracle Version 2.0 Machine Learning algorithm creation and export \n",
    "## Written in Python 3.9.5\n",
    "# Blake Donahoo 8-20-2021\n",
    "\n",
    "## DONE ##\n",
    "# stopped running live SQL queries so that *.CSV files can be loaded and compiled into a moveable *.exe with the program\n",
    "# limited the input data for predictions to state and date \n",
    "# built and export sales and rental ml models and successfully predicted off of them\n",
    "\n",
    "## TO DO ##\n",
    "# need to add algorithm for automatic encoding/decoding of state and date data \n",
    "# need to add graphics export module for matplotlib visuals to be viewed at the cmd line"
   ]
  },
  {
   "cell_type": "code",
   "execution_count": 2,
   "id": "fa129ff7",
   "metadata": {},
   "outputs": [],
   "source": [
    "# main modules to be compiled into realestateoracle\n",
    "import pandas as pd\n",
    "import matplotlib.pyplot as plt\n",
    "import numpy as np\n",
    "\n",
    "# modules only neccesary for ML construction\n",
    "import sklearn\n",
    "from sklearn import preprocessing\n",
    "le = preprocessing.LabelEncoder()\n",
    "from sklearn.neighbors import KNeighborsRegressor\n",
    "from sklearn.linear_model import LinearRegression\n",
    "from sklearn.model_selection import train_test_split\n",
    "import sklearn.model_selection as model_selection\n",
    "from sklearn.tree import DecisionTreeClassifier\n",
    "from sklearn.model_selection import cross_val_score\n",
    "import joblib"
   ]
  },
  {
   "cell_type": "code",
   "execution_count": 3,
   "id": "9b5752d0",
   "metadata": {},
   "outputs": [],
   "source": [
    "startup_logo =\"\"\" \n",
    "||\\   ||////    ^    ||       ||////   ///// ////////  ^  //////// ||////\n",
    "|| \\  ||       / \\   ||       ||      //        ||    / \\    ||    ||\n",
    "||_// ||////  /__ \\  ||       ||////  //////    ||   /__ \\   ||    ||////\n",
    "|| \\  ||     //    \\ ||       ||          //    ||  //    \\  ||    ||\n",
    "||  \\ ||//////      \\||////   ||//// //////     || //      \\ ||    ||////\n",
    "\n",
    "       \n",
    "    ///////  ||\\       ^     /////// ||      ||//// \n",
    "  ///    /// || \\     / \\   ///      ||      ||\n",
    " ///    ///  ||_//   /__ \\  ///      ||      ||////\n",
    " //    ///   || \\   //    \\ ///      ||      ||\n",
    " ///////     ||  \\ //      \\ /////// ||///// ||////\n",
    "-----------------------------------------------------\n",
    "A primitive data science library for real estate\n",
    "Creator: Blake Donahoo\n",
    "Published: 07-15-2021\n",
    "Version: 2.0\n",
    "Updated on: 08-20-2021\n",
    "\n",
    "Data Source: https://www.zillow.com/research/data/\n",
    "\n",
    "Data & Functionality contained: \n",
    " - Home values in every state since 1996\n",
    " - Calculated value changes over time for every state since 1996\n",
    " - Forecasting Metrics and predictive algorithms\n",
    " - Rental Values in every state since 2014\n",
    " \n",
    "Coming in Version 2.5:\n",
    "  - Mean/Median/Mode, Standard Deviation for every slice of information\n",
    "  - Python generated visualizations like ScatterPlots, Histograms & BarGraphs\n",
    "\"\"\"\n"
   ]
  },
  {
   "cell_type": "code",
   "execution_count": 4,
   "id": "f0e64573",
   "metadata": {},
   "outputs": [],
   "source": [
    "### read data into a DataFrame\n",
    "# Rental NaN values filled with 10-day average \n",
    "# sales NaN values filled with 6-mo average\n",
    "rental = pd.read_csv('realestate_data/Rental_FullEDA_fillNaN.csv', parse_dates = ['Date'])\n",
    "sales = pd.read_csv('realestate_data/Combined_RealEstateData_Cleaned.csv', parse_dates = ['Date'])"
   ]
  },
  {
   "cell_type": "code",
   "execution_count": 5,
   "id": "a09c4439",
   "metadata": {},
   "outputs": [],
   "source": [
    "\n",
    "\n",
    "### move our main \"y\" variable to the first index position to make things easier later \n",
    "# \"y\" for rental is R_Monthly\n",
    "monthly = rental.pop('R_Monthly')\n",
    "rental.insert(0, 'R_Monthly', monthly)\n",
    "rental.reset_index()\n",
    "# \"y\" for sales is Avg_AggMortgage\n",
    "mortgage = sales.pop('Avg_AggMortgage')\n",
    "sales.insert(0, 'Avg_AggMortgage', mortgage)"
   ]
  },
  {
   "cell_type": "code",
   "execution_count": 6,
   "id": "9c5591dc",
   "metadata": {},
   "outputs": [],
   "source": [
    "\n",
    "\n",
    "# Convert string and datetype data into numeric values so that they can be used in our algorithms\n",
    "\n",
    "### convert dates to numerical labels\n",
    "rental['Date'] = le.fit_transform(np.array(rental['Date']))\n",
    "# convert CityName to numerical labels\n",
    "rental['CityName'] = le.fit_transform(np.array(rental['CityName']))\n",
    "# convert Lstate to numerical label Identifiers\n",
    "rental['Lstate'] = le.fit_transform(np.array(rental['Lstate']))\n",
    "# round long float values to int\n",
    "rental['R_Monthly'] = np.rint(np.array(rental.R_Monthly)).astype(int) ### y value ###\n",
    "rental['R_Annual'] = np.rint(np.array(rental.R_Annual)).astype(int)\n",
    "rental['R_PriorMonth'] = np.rint(np.array(rental.R_PriorMonth)).astype(int)\n",
    "rental['R_DiffPrevMonth'] = np.rint(np.array(rental.R_DiffPrevMonth)).astype(int)\n",
    "rental['R_60DayDiff'] = np.rint(np.array(rental.R_60DayDiff)).astype(int)\n",
    "rental['R_60DayChange'] = np.rint(np.array(rental.R_60DayChange)).astype(int)\n",
    "rental['R_90DayDiff'] = np.rint(np.array(rental.R_90DayDiff)).astype(int)\n",
    "rental['R_90DayChange'] = np.rint(np.array(rental.R_90DayChange)).astype(int)\n",
    "\n",
    "\n",
    "### convert dates to numerical label Identifiers\n",
    "sales['Date'] = le.fit_transform(np.array(sales['Date']))\n",
    "# convert Lstate to numerical label Identifiers\n",
    "sales['Lstate'] = le.fit_transform(np.array(sales['Lstate']))\n",
    "# convert CityName to numerical labels\n",
    "sales['CityName'] = le.fit_transform(np.array(sales['CityName']))\n",
    "# round long float values to int\n",
    "sales['Avg_AggMortgage'] = np.rint(np.array(sales.Avg_AggMortgage)).astype(int) ### y value ###\n",
    "# BOTTOM TIER\n",
    "sales['BottomTier'] = np.rint(np.array(sales.BottomTier)).astype(int)\n",
    "sales['B_30DayChange'] = np.rint(np.array(sales.B_30DayChange)).astype(int)\n",
    "sales['B_60DayChange'] = np.rint(np.array(sales.B_60DayChange)).astype(int)\n",
    "sales['B_90DayChange'] = np.rint(np.array(sales.B_90DayChange)).astype(int)\n",
    "sales['B_PrincipalMonthly'] = np.rint(np.array(sales.B_PrincipalMonthly)).astype(int)\n",
    "sales['B_AvgMortgage'] = np.rint(np.array(sales.B_AvgMortgage)).astype(int)\n",
    "sales['B_InterestMonthly'] = np.rint(np.array(sales.B_InterestMonthly)).astype(int)\n",
    "sales['B_AvgAnnual'] = np.rint(np.array(sales.B_90DayChange)).astype(int)\n",
    "# MIDDLE TIER\n",
    "sales['MiddleTier'] = np.rint(np.array(sales.MiddleTier)).astype(int)\n",
    "sales['M_30DayChange'] = np.rint(np.array(sales.M_30DayChange)).astype(int)\n",
    "sales['M_60DayChange'] = np.rint(np.array(sales.M_60DayChange)).astype(int)\n",
    "sales['M_90DayChange'] = np.rint(np.array(sales.M_90DayChange)).astype(int)\n",
    "sales['M_PrincipalMonthly'] = np.rint(np.array(sales.M_PrincipalMonthly)).astype(int)\n",
    "sales['M_AvgMortgage'] = np.rint(np.array(sales.M_AvgMortgage)).astype(int)\n",
    "sales['M_InterestMonthly'] = np.rint(np.array(sales.M_InterestMonthly)).astype(int)\n",
    "sales['M_AvgAnnual'] = np.rint(np.array(sales.M_90DayChange)).astype(int)\n",
    "# TOP TIER\n",
    "sales['TopTier'] = np.rint(np.array(sales.TopTier)).astype(int)\n",
    "sales['T_30DayChange'] = np.rint(np.array(sales.T_30DayChange)).astype(int)\n",
    "sales['T_60DayChange'] = np.rint(np.array(sales.T_60DayChange)).astype(int)\n",
    "sales['T_90DayChange'] = np.rint(np.array(sales.T_90DayChange)).astype(int)\n",
    "sales['T_PrincipalMonthly'] = np.rint(np.array(sales.T_PrincipalMonthly)).astype(int)\n",
    "sales['T_AvgMortgage'] = np.rint(np.array(sales.T_AvgMortgage)).astype(int)\n",
    "sales['T_InterestMonthly'] = np.rint(np.array(sales.T_InterestMonthly)).astype(int)\n",
    "sales['T_AvgAnnual'] = np.rint(np.array(sales.T_90DayChange)).astype(int)"
   ]
  },
  {
   "cell_type": "code",
   "execution_count": 7,
   "id": "fc413371",
   "metadata": {},
   "outputs": [
    {
     "data": {
      "text/html": [
       "<div>\n",
       "<style scoped>\n",
       "    .dataframe tbody tr th:only-of-type {\n",
       "        vertical-align: middle;\n",
       "    }\n",
       "\n",
       "    .dataframe tbody tr th {\n",
       "        vertical-align: top;\n",
       "    }\n",
       "\n",
       "    .dataframe thead th {\n",
       "        text-align: right;\n",
       "    }\n",
       "</style>\n",
       "<table border=\"1\" class=\"dataframe\">\n",
       "  <thead>\n",
       "    <tr style=\"text-align: right;\">\n",
       "      <th></th>\n",
       "      <th>R_Monthly</th>\n",
       "      <th>Lstate</th>\n",
       "      <th>CityName</th>\n",
       "      <th>Date</th>\n",
       "      <th>R_Annual</th>\n",
       "      <th>R_PriorMonth</th>\n",
       "      <th>R_DiffPrevMonth</th>\n",
       "      <th>R_60DayDiff</th>\n",
       "      <th>R_60DayChange</th>\n",
       "      <th>R_90DayDiff</th>\n",
       "      <th>R_90DayChange</th>\n",
       "    </tr>\n",
       "  </thead>\n",
       "  <tbody>\n",
       "    <tr>\n",
       "      <th>9414</th>\n",
       "      <td>1196</td>\n",
       "      <td>40</td>\n",
       "      <td>57</td>\n",
       "      <td>86</td>\n",
       "      <td>14352</td>\n",
       "      <td>1346</td>\n",
       "      <td>-150</td>\n",
       "      <td>1341</td>\n",
       "      <td>-145</td>\n",
       "      <td>1190</td>\n",
       "      <td>6</td>\n",
       "    </tr>\n",
       "    <tr>\n",
       "      <th>9415</th>\n",
       "      <td>1205</td>\n",
       "      <td>40</td>\n",
       "      <td>57</td>\n",
       "      <td>87</td>\n",
       "      <td>14460</td>\n",
       "      <td>1196</td>\n",
       "      <td>9</td>\n",
       "      <td>1346</td>\n",
       "      <td>-141</td>\n",
       "      <td>1341</td>\n",
       "      <td>-136</td>\n",
       "    </tr>\n",
       "    <tr>\n",
       "      <th>9416</th>\n",
       "      <td>1349</td>\n",
       "      <td>40</td>\n",
       "      <td>53</td>\n",
       "      <td>87</td>\n",
       "      <td>16188</td>\n",
       "      <td>1205</td>\n",
       "      <td>144</td>\n",
       "      <td>1196</td>\n",
       "      <td>153</td>\n",
       "      <td>1346</td>\n",
       "      <td>3</td>\n",
       "    </tr>\n",
       "    <tr>\n",
       "      <th>9417</th>\n",
       "      <td>1350</td>\n",
       "      <td>40</td>\n",
       "      <td>53</td>\n",
       "      <td>88</td>\n",
       "      <td>16200</td>\n",
       "      <td>1349</td>\n",
       "      <td>1</td>\n",
       "      <td>1205</td>\n",
       "      <td>145</td>\n",
       "      <td>1196</td>\n",
       "      <td>154</td>\n",
       "    </tr>\n",
       "    <tr>\n",
       "      <th>9418</th>\n",
       "      <td>1219</td>\n",
       "      <td>40</td>\n",
       "      <td>57</td>\n",
       "      <td>88</td>\n",
       "      <td>14628</td>\n",
       "      <td>1350</td>\n",
       "      <td>-131</td>\n",
       "      <td>1349</td>\n",
       "      <td>-130</td>\n",
       "      <td>1205</td>\n",
       "      <td>14</td>\n",
       "    </tr>\n",
       "  </tbody>\n",
       "</table>\n",
       "</div>"
      ],
      "text/plain": [
       "      R_Monthly  Lstate  CityName  Date  R_Annual  R_PriorMonth  \\\n",
       "9414       1196      40        57    86     14352          1346   \n",
       "9415       1205      40        57    87     14460          1196   \n",
       "9416       1349      40        53    87     16188          1205   \n",
       "9417       1350      40        53    88     16200          1349   \n",
       "9418       1219      40        57    88     14628          1350   \n",
       "\n",
       "      R_DiffPrevMonth  R_60DayDiff  R_60DayChange  R_90DayDiff  R_90DayChange  \n",
       "9414             -150         1341           -145         1190              6  \n",
       "9415                9         1346           -141         1341           -136  \n",
       "9416              144         1196            153         1346              3  \n",
       "9417                1         1205            145         1196            154  \n",
       "9418             -131         1349           -130         1205             14  "
      ]
     },
     "execution_count": 7,
     "metadata": {},
     "output_type": "execute_result"
    }
   ],
   "source": [
    "rental.tail()"
   ]
  },
  {
   "cell_type": "code",
   "execution_count": 24,
   "id": "e5bb1955",
   "metadata": {},
   "outputs": [
    {
     "name": "stdout",
     "output_type": "stream",
     "text": [
      "0.9954756479019983\n"
     ]
    }
   ],
   "source": [
    "\n",
    "\n",
    "### RENTAL ###\n",
    "### Predictive modeling and *.mdl export for in-app predictions ###\n",
    "feature_cols = ['Lstate', 'Date']\n",
    "X = rental[feature_cols]\n",
    "y = rental.R_Monthly\n",
    "knr = KNeighborsRegressor(n_neighbors=10)\n",
    "knr.fit(X,y)\n",
    "\n",
    "# test dataset\n",
    "X = rental_array[:,1:10] # rental[ everything else ]\n",
    "y = rental_array[:,0] # rental['R_Monthly']\n",
    "test_size = 0.10\n",
    "seed = 40\n",
    "\n",
    "# train and fit test dataset\n",
    "X_train, X_test, Y_train, Y_test = model_selection.train_test_split(\\\n",
    "                                    X, y, test_size=test_size, random_state=seed)\n",
    "model = KNeighborsRegressor(n_neighbors=10)\n",
    "model.fit(X_train, Y_train)\n",
    "\n",
    "print(cross_val_score(knr, X, y, cv=10, scoring='r2').mean())"
   ]
  },
  {
   "cell_type": "code",
   "execution_count": 25,
   "id": "30fa6978",
   "metadata": {},
   "outputs": [
    {
     "data": {
      "text/plain": [
       "array([   40,    57,    88, 14628,  1350,  -131,  1349,  -130,  1205],\n",
       "      dtype=int64)"
      ]
     },
     "execution_count": 25,
     "metadata": {},
     "output_type": "execute_result"
    }
   ],
   "source": [
    "X[-1,:]"
   ]
  },
  {
   "cell_type": "code",
   "execution_count": 26,
   "id": "f6a18b2f",
   "metadata": {},
   "outputs": [
    {
     "name": "stdout",
     "output_type": "stream",
     "text": [
      "[1681.]\n"
     ]
    },
    {
     "name": "stderr",
     "output_type": "stream",
     "text": [
      "C:\\Users\\Blake\\anaconda3\\lib\\site-packages\\sklearn\\utils\\validation.py:63: FutureWarning: Arrays of bytes/strings is being converted to decimal numbers if dtype='numeric'. This behavior is deprecated in 0.24 and will be removed in 1.1 (renaming of 0.26). Please convert your data to numeric values explicitly instead.\n",
      "  return f(*args, **kwargs)\n"
     ]
    }
   ],
   "source": [
    "### Rental Prediction Test ####\n",
    "\n",
    "#              Lstate  Date\n",
    "rental_test = [['0', '90']]\n",
    "rental_test2 = [['20', '120']]\n",
    "print(knr.predict(rental_test))"
   ]
  },
  {
   "cell_type": "code",
   "execution_count": 27,
   "id": "eb359da3",
   "metadata": {},
   "outputs": [
    {
     "name": "stdout",
     "output_type": "stream",
     "text": [
      "[1525.3]\n"
     ]
    },
    {
     "name": "stderr",
     "output_type": "stream",
     "text": [
      "C:\\Users\\Blake\\anaconda3\\lib\\site-packages\\sklearn\\utils\\validation.py:63: FutureWarning: Arrays of bytes/strings is being converted to decimal numbers if dtype='numeric'. This behavior is deprecated in 0.24 and will be removed in 1.1 (renaming of 0.26). Please convert your data to numeric values explicitly instead.\n",
      "  return f(*args, **kwargs)\n"
     ]
    }
   ],
   "source": [
    "# Rental export and prediction reload / test\n",
    "\n",
    "joblib.dump(knr,'knr_rental.mdl')\n",
    "predict_rental = joblib.load('knr_rental.mdl')\n",
    "print(predict_rental.predict(rental_test2))"
   ]
  },
  {
   "cell_type": "code",
   "execution_count": 28,
   "id": "3145d2da",
   "metadata": {},
   "outputs": [],
   "source": [
    "#feature_cols = ['Lstate', 'Date', 'BottomTier', 'B_30DayChange'\\\n",
    "#                , 'B_60DayChange', 'B_90DayChange', 'B_PrincipalMonthly', 'B_AvgMortgage'\\\n",
    "#                , 'B_InterestMonthly', 'B_AvgAnnual', 'MiddleTier','M_30DayChange'\\\n",
    "#                , 'M_60DayChange', 'M_90DayChange', 'M_PrincipalMonthly'\\\n",
    "#                , 'M_AvgMortgage', 'M_InterestMonthly', 'M_AvgAnnual', 'TopTier'\\\n",
    "#                , 'T_30DayChange', 'T_60DayChange', 'T_90DayChange'\\\n",
    "#                , 'T_PrincipalMonthly', 'T_AvgMortgage', 'T_InterestMonthly', 'T_AvgAnnual']"
   ]
  },
  {
   "cell_type": "code",
   "execution_count": 29,
   "id": "63c4bb10",
   "metadata": {},
   "outputs": [
    {
     "data": {
      "text/plain": [
       "0.9528024234542437"
      ]
     },
     "execution_count": 29,
     "metadata": {},
     "output_type": "execute_result"
    }
   ],
   "source": [
    "\n",
    "\n",
    "### SALES ###\n",
    "### Predictive modeling and *.mdl export for in-app predictions ###\n",
    "feature_cols = ['Lstate', 'Date']\n",
    "X = sales[feature_cols]\n",
    "y = sales.Avg_AggMortgage\n",
    "knr = KNeighborsRegressor(n_neighbors=5)\n",
    "knr.fit(X,y)\n",
    "\n",
    "# test dataset\n",
    "sales_array = sales.values\n",
    "X = sales_array[:,1:24] # sales[ everything else ]\n",
    "Y = sales_array[:,0] # sales['Avg_AggMortgage']\n",
    "test_size = 0.10\n",
    "seed = 40\n",
    "\n",
    "# train and fit test dataset\n",
    "X_train, X_test, Y_train, Y_test = model_selection.train_test_split(\\\n",
    "                                    X, Y, test_size=test_size, random_state=seed)\n",
    "model = KNeighborsRegressor(n_neighbors=5)\n",
    "model.fit(X_train, Y_train)\n",
    "\n",
    "cross_val_score(knr, X, Y, cv=50, scoring='r2').mean()"
   ]
  },
  {
   "cell_type": "code",
   "execution_count": 30,
   "id": "9df0a25d",
   "metadata": {},
   "outputs": [
    {
     "data": {
      "text/plain": [
       "array([ 422637,  792474, 1162311,       6,      88,    4840,    7862,\n",
       "         10582,   11191,   17671,   23577,   17542,   27479,   36571,\n",
       "          1173,    3639,    2466,    2201,    6824,    4623,    3228,\n",
       "         10009,    6781], dtype=int64)"
      ]
     },
     "execution_count": 30,
     "metadata": {},
     "output_type": "execute_result"
    }
   ],
   "source": [
    "X[-1,:]"
   ]
  },
  {
   "cell_type": "code",
   "execution_count": 31,
   "id": "ce06253b",
   "metadata": {},
   "outputs": [
    {
     "name": "stdout",
     "output_type": "stream",
     "text": [
      "[4210.]\n"
     ]
    },
    {
     "name": "stderr",
     "output_type": "stream",
     "text": [
      "C:\\Users\\Blake\\anaconda3\\lib\\site-packages\\sklearn\\utils\\validation.py:63: FutureWarning: Arrays of bytes/strings is being converted to decimal numbers if dtype='numeric'. This behavior is deprecated in 0.24 and will be removed in 1.1 (renaming of 0.26). Please convert your data to numeric values explicitly instead.\n",
      "  return f(*args, **kwargs)\n"
     ]
    }
   ],
   "source": [
    "### Rental Prediction Test ####\n",
    "#              Lstate  Date\n",
    "sales_test = [['5', '10000']]\n",
    "sales_test2 = [['40', '15000']]\n",
    "print(knr.predict(sales_test))"
   ]
  },
  {
   "cell_type": "code",
   "execution_count": 33,
   "id": "ce6c4535",
   "metadata": {},
   "outputs": [
    {
     "name": "stdout",
     "output_type": "stream",
     "text": [
      "[3572.4]\n"
     ]
    },
    {
     "name": "stderr",
     "output_type": "stream",
     "text": [
      "C:\\Users\\Blake\\anaconda3\\lib\\site-packages\\sklearn\\utils\\validation.py:63: FutureWarning: Arrays of bytes/strings is being converted to decimal numbers if dtype='numeric'. This behavior is deprecated in 0.24 and will be removed in 1.1 (renaming of 0.26). Please convert your data to numeric values explicitly instead.\n",
      "  return f(*args, **kwargs)\n"
     ]
    }
   ],
   "source": [
    "# Rental export and prediction reload / test\n",
    "\n",
    "joblib.dump(knr,'knr_sales.mdl')\n",
    "predict_sales = joblib.load('knr_sales.mdl')\n",
    "print(predict_sales.predict(sales_test2))"
   ]
  }
 ],
 "metadata": {
  "kernelspec": {
   "display_name": "Python 3",
   "language": "python",
   "name": "python3"
  },
  "language_info": {
   "codemirror_mode": {
    "name": "ipython",
    "version": 3
   },
   "file_extension": ".py",
   "mimetype": "text/x-python",
   "name": "python",
   "nbconvert_exporter": "python",
   "pygments_lexer": "ipython3",
   "version": "3.8.8"
  }
 },
 "nbformat": 4,
 "nbformat_minor": 5
}
