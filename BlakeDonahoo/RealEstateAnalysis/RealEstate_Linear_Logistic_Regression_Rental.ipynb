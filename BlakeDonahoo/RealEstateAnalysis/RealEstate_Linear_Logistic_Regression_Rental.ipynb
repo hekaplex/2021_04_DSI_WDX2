{
 "cells": [
  {
   "cell_type": "code",
   "execution_count": null,
   "id": "fb4098e4",
   "metadata": {},
   "outputs": [],
   "source": [
    "# LINEAR & LOGISTIC REGRESSION MODELING ((2)) FOR THE REALESTATE DB (((Rental Market)))"
   ]
  },
  {
   "cell_type": "code",
   "execution_count": 111,
   "id": "1fe2a96a",
   "metadata": {},
   "outputs": [],
   "source": [
    "import pandas as pd\n",
    "import numpy as np\n",
    "import seaborn as sns\n",
    "import matplotlib.pyplot as plt\n",
    "%matplotlib inline\n",
    "\n",
    "from sklearn import preprocessing\n",
    "\n",
    "from sklearn.linear_model import LinearRegression\n",
    "from sklearn.model_selection import train_test_split\n",
    "import sklearn.model_selection as model_selection\n",
    "\n",
    "from sklearn.linear_model import LogisticRegression\n",
    "from sklearn.datasets import make_blobs\n",
    "from sklearn.datasets import make_regression\n",
    "\n",
    "from sklearn import metrics\n",
    "\n",
    "from sklearn.tree import DecisionTreeClassifier\n",
    "from sklearn.model_selection import cross_val_score\n",
    "\n",
    "import pickle "
   ]
  },
  {
   "cell_type": "code",
   "execution_count": 155,
   "id": "c14627bc",
   "metadata": {},
   "outputs": [],
   "source": [
    "# read data into a DataFrame\n",
    "rental = pd.read_csv('realestate_data/Rental_FullEDA_fillNaN.csv', parse_dates = ['Date'])"
   ]
  },
  {
   "cell_type": "code",
   "execution_count": 156,
   "id": "11cd24d9",
   "metadata": {},
   "outputs": [
    {
     "data": {
      "text/html": [
       "<div>\n",
       "<style scoped>\n",
       "    .dataframe tbody tr th:only-of-type {\n",
       "        vertical-align: middle;\n",
       "    }\n",
       "\n",
       "    .dataframe tbody tr th {\n",
       "        vertical-align: top;\n",
       "    }\n",
       "\n",
       "    .dataframe thead th {\n",
       "        text-align: right;\n",
       "    }\n",
       "</style>\n",
       "<table border=\"1\" class=\"dataframe\">\n",
       "  <thead>\n",
       "    <tr style=\"text-align: right;\">\n",
       "      <th></th>\n",
       "      <th>Lstate</th>\n",
       "      <th>CityName</th>\n",
       "      <th>Date</th>\n",
       "      <th>R_Annual</th>\n",
       "      <th>R_Monthly</th>\n",
       "      <th>R_PriorMonth</th>\n",
       "      <th>R_DiffPrevMonth</th>\n",
       "      <th>R_60DayDiff</th>\n",
       "      <th>R_60DayChange</th>\n",
       "      <th>R_90DayDiff</th>\n",
       "      <th>R_90DayChange</th>\n",
       "    </tr>\n",
       "  </thead>\n",
       "  <tbody>\n",
       "    <tr>\n",
       "      <th>0</th>\n",
       "      <td>AL</td>\n",
       "      <td>Birmingham</td>\n",
       "      <td>2014-01-01</td>\n",
       "      <td>11088</td>\n",
       "      <td>924</td>\n",
       "      <td>964.291667</td>\n",
       "      <td>2.791667</td>\n",
       "      <td>963.262153</td>\n",
       "      <td>4.866319</td>\n",
       "      <td>962.231409</td>\n",
       "      <td>7.385417</td>\n",
       "    </tr>\n",
       "    <tr>\n",
       "      <th>1</th>\n",
       "      <td>AL</td>\n",
       "      <td>Birmingham</td>\n",
       "      <td>2014-02-01</td>\n",
       "      <td>11328</td>\n",
       "      <td>944</td>\n",
       "      <td>924.000000</td>\n",
       "      <td>20.000000</td>\n",
       "      <td>964.291667</td>\n",
       "      <td>4.791667</td>\n",
       "      <td>963.262153</td>\n",
       "      <td>7.250000</td>\n",
       "    </tr>\n",
       "    <tr>\n",
       "      <th>2</th>\n",
       "      <td>AL</td>\n",
       "      <td>Birmingham</td>\n",
       "      <td>2014-03-01</td>\n",
       "      <td>11244</td>\n",
       "      <td>937</td>\n",
       "      <td>944.000000</td>\n",
       "      <td>-7.000000</td>\n",
       "      <td>924.000000</td>\n",
       "      <td>13.000000</td>\n",
       "      <td>964.291667</td>\n",
       "      <td>7.000000</td>\n",
       "    </tr>\n",
       "    <tr>\n",
       "      <th>3</th>\n",
       "      <td>AL</td>\n",
       "      <td>Birmingham</td>\n",
       "      <td>2014-04-01</td>\n",
       "      <td>11220</td>\n",
       "      <td>935</td>\n",
       "      <td>937.000000</td>\n",
       "      <td>-2.000000</td>\n",
       "      <td>944.000000</td>\n",
       "      <td>-9.000000</td>\n",
       "      <td>924.000000</td>\n",
       "      <td>11.000000</td>\n",
       "    </tr>\n",
       "    <tr>\n",
       "      <th>4</th>\n",
       "      <td>AL</td>\n",
       "      <td>Birmingham</td>\n",
       "      <td>2014-05-01</td>\n",
       "      <td>11244</td>\n",
       "      <td>937</td>\n",
       "      <td>935.000000</td>\n",
       "      <td>2.000000</td>\n",
       "      <td>937.000000</td>\n",
       "      <td>0.000000</td>\n",
       "      <td>944.000000</td>\n",
       "      <td>-7.000000</td>\n",
       "    </tr>\n",
       "  </tbody>\n",
       "</table>\n",
       "</div>"
      ],
      "text/plain": [
       "  Lstate    CityName       Date  R_Annual  R_Monthly  R_PriorMonth  \\\n",
       "0     AL  Birmingham 2014-01-01     11088        924    964.291667   \n",
       "1     AL  Birmingham 2014-02-01     11328        944    924.000000   \n",
       "2     AL  Birmingham 2014-03-01     11244        937    944.000000   \n",
       "3     AL  Birmingham 2014-04-01     11220        935    937.000000   \n",
       "4     AL  Birmingham 2014-05-01     11244        937    935.000000   \n",
       "\n",
       "   R_DiffPrevMonth  R_60DayDiff  R_60DayChange  R_90DayDiff  R_90DayChange  \n",
       "0         2.791667   963.262153       4.866319   962.231409       7.385417  \n",
       "1        20.000000   964.291667       4.791667   963.262153       7.250000  \n",
       "2        -7.000000   924.000000      13.000000   964.291667       7.000000  \n",
       "3        -2.000000   944.000000      -9.000000   924.000000      11.000000  \n",
       "4         2.000000   937.000000       0.000000   944.000000      -7.000000  "
      ]
     },
     "execution_count": 156,
     "metadata": {},
     "output_type": "execute_result"
    }
   ],
   "source": [
    "rental.head()"
   ]
  },
  {
   "cell_type": "code",
   "execution_count": 160,
   "id": "dfd2c993",
   "metadata": {},
   "outputs": [],
   "source": [
    "# Convert string and datetype data into numeric values so that they can be used in our algorithms\n",
    "\n",
    "le = preprocessing.LabelEncoder()\n",
    "\n",
    "# convert dates to numerical labels\n",
    "rental['Date'] = le.fit_transform(np.array(rental['Date']))\n",
    "\n",
    "# convert Lstate to numerical labels\n",
    "rental['Lstate'] = le.fit_transform(np.array(rental['Lstate']))\n",
    "\n",
    "# convert CityName to numerical labels\n",
    "rental['CityName'] = le.fit_transform(np.array(rental['CityName']))\n",
    "\n",
    "# round long float values to int\n",
    "rental['R_Annual'] = np.rint(np.array(rental.R_Annual)).astype(int)\n",
    "rental['R_Monthly'] = np.rint(np.array(rental.R_Monthly)).astype(int)\n",
    "rental['R_PriorMonth'] = np.rint(np.array(rental.R_PriorMonth)).astype(int)\n",
    "rental['R_DiffPrevMonth'] = np.rint(np.array(rental.R_DiffPrevMonth)).astype(int)\n",
    "rental['R_60DayDiff'] = np.rint(np.array(rental.R_60DayDiff)).astype(int)\n",
    "rental['R_60DayChange'] = np.rint(np.array(rental.R_60DayChange)).astype(int)\n",
    "rental['R_90DayDiff'] = np.rint(np.array(rental.R_90DayDiff)).astype(int)\n",
    "rental['R_90DayChange'] = np.rint(np.array(rental.R_90DayChange)).astype(int)"
   ]
  },
  {
   "cell_type": "code",
   "execution_count": 161,
   "id": "b4afb83a",
   "metadata": {},
   "outputs": [
    {
     "data": {
      "text/html": [
       "<div>\n",
       "<style scoped>\n",
       "    .dataframe tbody tr th:only-of-type {\n",
       "        vertical-align: middle;\n",
       "    }\n",
       "\n",
       "    .dataframe tbody tr th {\n",
       "        vertical-align: top;\n",
       "    }\n",
       "\n",
       "    .dataframe thead th {\n",
       "        text-align: right;\n",
       "    }\n",
       "</style>\n",
       "<table border=\"1\" class=\"dataframe\">\n",
       "  <thead>\n",
       "    <tr style=\"text-align: right;\">\n",
       "      <th></th>\n",
       "      <th>Lstate</th>\n",
       "      <th>CityName</th>\n",
       "      <th>Date</th>\n",
       "      <th>R_Annual</th>\n",
       "      <th>R_Monthly</th>\n",
       "      <th>R_PriorMonth</th>\n",
       "      <th>R_DiffPrevMonth</th>\n",
       "      <th>R_60DayDiff</th>\n",
       "      <th>R_60DayChange</th>\n",
       "      <th>R_90DayDiff</th>\n",
       "      <th>R_90DayChange</th>\n",
       "    </tr>\n",
       "  </thead>\n",
       "  <tbody>\n",
       "    <tr>\n",
       "      <th>0</th>\n",
       "      <td>0</td>\n",
       "      <td>10</td>\n",
       "      <td>0</td>\n",
       "      <td>11088</td>\n",
       "      <td>924</td>\n",
       "      <td>964</td>\n",
       "      <td>3</td>\n",
       "      <td>963</td>\n",
       "      <td>5</td>\n",
       "      <td>962</td>\n",
       "      <td>7</td>\n",
       "    </tr>\n",
       "    <tr>\n",
       "      <th>1</th>\n",
       "      <td>0</td>\n",
       "      <td>10</td>\n",
       "      <td>1</td>\n",
       "      <td>11328</td>\n",
       "      <td>944</td>\n",
       "      <td>924</td>\n",
       "      <td>20</td>\n",
       "      <td>964</td>\n",
       "      <td>5</td>\n",
       "      <td>963</td>\n",
       "      <td>7</td>\n",
       "    </tr>\n",
       "    <tr>\n",
       "      <th>2</th>\n",
       "      <td>0</td>\n",
       "      <td>10</td>\n",
       "      <td>2</td>\n",
       "      <td>11244</td>\n",
       "      <td>937</td>\n",
       "      <td>944</td>\n",
       "      <td>-7</td>\n",
       "      <td>924</td>\n",
       "      <td>13</td>\n",
       "      <td>964</td>\n",
       "      <td>7</td>\n",
       "    </tr>\n",
       "    <tr>\n",
       "      <th>3</th>\n",
       "      <td>0</td>\n",
       "      <td>10</td>\n",
       "      <td>3</td>\n",
       "      <td>11220</td>\n",
       "      <td>935</td>\n",
       "      <td>937</td>\n",
       "      <td>-2</td>\n",
       "      <td>944</td>\n",
       "      <td>-9</td>\n",
       "      <td>924</td>\n",
       "      <td>11</td>\n",
       "    </tr>\n",
       "    <tr>\n",
       "      <th>4</th>\n",
       "      <td>0</td>\n",
       "      <td>10</td>\n",
       "      <td>4</td>\n",
       "      <td>11244</td>\n",
       "      <td>937</td>\n",
       "      <td>935</td>\n",
       "      <td>2</td>\n",
       "      <td>937</td>\n",
       "      <td>0</td>\n",
       "      <td>944</td>\n",
       "      <td>-7</td>\n",
       "    </tr>\n",
       "  </tbody>\n",
       "</table>\n",
       "</div>"
      ],
      "text/plain": [
       "   Lstate  CityName  Date  R_Annual  R_Monthly  R_PriorMonth  R_DiffPrevMonth  \\\n",
       "0       0        10     0     11088        924           964                3   \n",
       "1       0        10     1     11328        944           924               20   \n",
       "2       0        10     2     11244        937           944               -7   \n",
       "3       0        10     3     11220        935           937               -2   \n",
       "4       0        10     4     11244        937           935                2   \n",
       "\n",
       "   R_60DayDiff  R_60DayChange  R_90DayDiff  R_90DayChange  \n",
       "0          963              5          962              7  \n",
       "1          964              5          963              7  \n",
       "2          924             13          964              7  \n",
       "3          944             -9          924             11  \n",
       "4          937              0          944             -7  "
      ]
     },
     "execution_count": 161,
     "metadata": {},
     "output_type": "execute_result"
    }
   ],
   "source": [
    "rental.head()"
   ]
  },
  {
   "cell_type": "code",
   "execution_count": 127,
   "id": "908dfcf5",
   "metadata": {},
   "outputs": [
    {
     "name": "stdout",
     "output_type": "stream",
     "text": [
      "<class 'pandas.core.frame.DataFrame'>\n",
      "RangeIndex: 9419 entries, 0 to 9418\n",
      "Data columns (total 11 columns):\n",
      " #   Column           Non-Null Count  Dtype\n",
      "---  ------           --------------  -----\n",
      " 0   Lstate           9419 non-null   int32\n",
      " 1   CityName         9419 non-null   int32\n",
      " 2   Date             9419 non-null   int64\n",
      " 3   R_Annual         9419 non-null   int32\n",
      " 4   R_Monthly        9419 non-null   int32\n",
      " 5   R_PriorMonth     9419 non-null   int32\n",
      " 6   R_DiffPrevMonth  9419 non-null   int32\n",
      " 7   R_60DayDiff      9419 non-null   int32\n",
      " 8   R_60DayChange    9419 non-null   int32\n",
      " 9   R_90DayDiff      9419 non-null   int32\n",
      " 10  R_90DayChange    9419 non-null   int32\n",
      "dtypes: int32(10), int64(1)\n",
      "memory usage: 441.6 KB\n"
     ]
    }
   ],
   "source": [
    "rental.info()"
   ]
  },
  {
   "cell_type": "code",
   "execution_count": 170,
   "id": "1e77a583",
   "metadata": {},
   "outputs": [
    {
     "name": "stdout",
     "output_type": "stream",
     "text": [
      "            R_Annual    R_Monthly  R_DiffPrevMonth  R_60DayChange  \\\n",
      "Lstate                                                              \n",
      "0       12411.505618  1034.292135     3.033708e+00   5.674157e+00   \n",
      "1       10127.730337   843.977528    -2.412903e+07  -4.825806e+07   \n",
      "2       13517.528090  1126.460674    -1.206451e+07  -2.412902e+07   \n",
      "3       23083.604494  1923.633708    -2.412901e+06  -4.825803e+06   \n",
      "4       17826.175281  1485.514607    -4.825806e+06  -9.651610e+06   \n",
      "5       18676.764045  1556.397004    -8.043005e+06  -1.608601e+07   \n",
      "6       23016.269663  1918.022472    -2.412903e+07  -4.825805e+07   \n",
      "7       16378.975281  1364.914607    -2.412902e+06  -4.825804e+06   \n",
      "8       13724.694340  1143.724528    -8.103710e+06  -1.620742e+07   \n",
      "9       26361.033708  2196.752809    -2.412902e+07  -4.825805e+07   \n",
      "10      12690.606742  1057.550562    -2.412903e+07  -4.825806e+07   \n",
      "11      14221.078652  1185.089888    -2.412902e+07  -4.825804e+07   \n",
      "12      19818.067416  1651.505618    -2.412903e+07  -4.825805e+07   \n",
      "13      13105.078652  1092.089888    -2.412903e+07  -4.825805e+07   \n",
      "14       9150.000000   762.500000    -2.440322e+07  -4.880644e+07   \n",
      "15      12004.719101  1000.393258    -2.412903e+07  -4.825805e+07   \n",
      "16      13670.157303  1139.179775    -1.206451e+07  -2.412903e+07   \n",
      "17      20153.617978  1679.468165    -8.043012e+06  -1.608602e+07   \n",
      "18      18344.359551  1528.696629    -2.412903e+07  -4.825805e+07   \n",
      "19      12997.415730  1083.117978    -1.206451e+07  -2.412902e+07   \n",
      "20      16831.955056  1402.662921    -2.412903e+07  -4.825805e+07   \n",
      "21      12519.235955  1043.269663    -1.206451e+07  -2.412903e+07   \n",
      "22      13524.943820  1127.078652    -2.412903e+07  -4.825805e+07   \n",
      "23      14700.134831  1225.011236    -4.825805e+06  -9.651610e+06   \n",
      "24      11576.898876   964.741573    -2.412903e+07  -4.825805e+07   \n",
      "25      12335.460674  1027.955056    -2.412903e+07  -4.825805e+07   \n",
      "26      13981.213483  1165.101124    -2.412902e+07  -4.825805e+07   \n",
      "27      16286.750562  1357.229213    -4.825806e+06  -9.651611e+06   \n",
      "28      11339.961353   944.996779    -3.458105e+06  -6.916211e+06   \n",
      "29      12104.426966  1008.702247    -1.206451e+07  -2.412903e+07   \n",
      "30      16911.370787  1409.280899    -2.412902e+07  -4.825805e+07   \n",
      "31      13885.612756  1157.134396    -4.891761e+06  -9.783523e+06   \n",
      "32      16746.471910  1395.539326    -2.412902e+07  -4.825805e+07   \n",
      "33      13806.000000  1150.500000    -8.073246e+06  -1.614649e+07   \n",
      "34      14390.508475  1199.209040    -6.066336e+06  -1.213267e+07   \n",
      "35      14758.031461  1229.835955    -4.825805e+06  -9.651610e+06   \n",
      "36      13990.741573  1165.895131    -8.043008e+06  -1.608602e+07   \n",
      "37      18360.943820  1530.078652    -2.412902e+07  -4.825805e+07   \n",
      "38      14444.677966  1203.723164    -1.213267e+07  -2.426535e+07   \n",
      "39      16619.865169  1384.988764    -1.206451e+07  -2.412902e+07   \n",
      "40      13909.011236  1159.084270    -1.206451e+07  -2.412903e+07   \n",
      "\n",
      "        R_90DayChange  \n",
      "Lstate                 \n",
      "0        8.280899e+00  \n",
      "1       -7.238708e+07  \n",
      "2       -3.619353e+07  \n",
      "3       -7.238704e+06  \n",
      "4       -1.447741e+07  \n",
      "5       -2.412902e+07  \n",
      "6       -7.238708e+07  \n",
      "7       -7.238706e+06  \n",
      "8       -2.431113e+07  \n",
      "9       -7.238707e+07  \n",
      "10      -7.238708e+07  \n",
      "11      -7.238707e+07  \n",
      "12      -7.238708e+07  \n",
      "13      -7.238708e+07  \n",
      "14      -7.320967e+07  \n",
      "15      -7.238708e+07  \n",
      "16      -3.619354e+07  \n",
      "17      -2.412902e+07  \n",
      "18      -7.238708e+07  \n",
      "19      -3.619354e+07  \n",
      "20      -7.238708e+07  \n",
      "21      -3.619354e+07  \n",
      "22      -7.238708e+07  \n",
      "23      -1.447742e+07  \n",
      "24      -7.238708e+07  \n",
      "25      -7.238708e+07  \n",
      "26      -7.238707e+07  \n",
      "27      -1.447742e+07  \n",
      "28      -1.037432e+07  \n",
      "29      -3.619354e+07  \n",
      "30      -7.238707e+07  \n",
      "31      -1.467528e+07  \n",
      "32      -7.238707e+07  \n",
      "33      -2.421974e+07  \n",
      "34      -1.819901e+07  \n",
      "35      -1.447742e+07  \n",
      "36      -2.412902e+07  \n",
      "37      -7.238708e+07  \n",
      "38      -3.639802e+07  \n",
      "39      -3.619353e+07  \n",
      "40      -3.619354e+07  \n"
     ]
    }
   ],
   "source": [
    "cols = ['R_Annual', 'R_Monthly', 'R_DiffPrevMonth', 'R_60DayChange', 'R_90DayChange']\n",
    "states = rental[cols].groupby(rental['Lstate'])\n",
    "print(states.mean())"
   ]
  },
  {
   "cell_type": "code",
   "execution_count": 130,
   "id": "c3d294cc",
   "metadata": {},
   "outputs": [],
   "source": [
    "# generating a 2d classification dataset \n",
    "X,y = make_blobs(n_samples=100, centers=5, n_features=10, random_state=1)"
   ]
  },
  {
   "cell_type": "code",
   "execution_count": 131,
   "id": "be62255b",
   "metadata": {},
   "outputs": [
    {
     "data": {
      "text/plain": [
       "LogisticRegression()"
      ]
     },
     "execution_count": 131,
     "metadata": {},
     "output_type": "execute_result"
    }
   ],
   "source": [
    "# fit final model\n",
    "rental_LogR = LogisticRegression()\n",
    "rental_LogR.fit(X,y)"
   ]
  },
  {
   "cell_type": "code",
   "execution_count": 132,
   "id": "bb76d85b",
   "metadata": {},
   "outputs": [
    {
     "name": "stdout",
     "output_type": "stream",
     "text": [
      "X=[ -7.62957168  -0.98426898   8.06287876   0.83268813   4.57809873\n",
      "  -4.64338798   3.46380005   6.72512798 -11.00735177   5.31804569], Predicted=[1.87688096e-04 2.17712527e-04 1.40837732e-04 9.99412654e-01\n",
      " 4.11079837e-05]\n",
      "X=[ 6.17492844 10.24140044 -3.41588149  1.8242511   7.22157903  8.72010791\n",
      " -8.06902104 -8.45689316 -6.82571975  7.362092  ], Predicted=[2.69650013e-04 1.63072953e-04 9.99271173e-01 1.79837288e-04\n",
      " 1.16266277e-04]\n",
      "X=[-1.10317989  3.40629717 -5.42243686  7.48677701 -8.32061875  4.92916702\n",
      "  0.53167145 -0.22269977 -8.63637503 -6.54243608], Predicted=[2.35318007e-04 9.96280932e-01 3.61778124e-04 4.38728311e-04\n",
      " 2.68324309e-03]\n",
      "X=[-2.75862791  3.35504729 -6.11984924  8.14897192 -8.61326472  4.34045228\n",
      " -1.36831663  2.05893773 -7.94665917 -4.78510206], Predicted=[2.02240451e-04 9.99066654e-01 1.50013480e-04 2.74702388e-04\n",
      " 3.06389594e-04]\n",
      "X=[ 6.20145276  9.77528316 -3.53321672  3.96546096  6.85712076  8.26969706\n",
      " -8.1772945  -8.08942043 -5.40447373  7.74800649], Predicted=[2.59786722e-04 2.62868280e-04 9.99150009e-01 1.83664043e-04\n",
      " 1.43672005e-04]\n",
      "X=[ -2.34673261   3.56128423 -10.66895863  -3.96601315  -8.18219253\n",
      "  -7.91881241  -4.6149936   -2.3467413   -2.25648607  -0.11129428], Predicted=[9.98444633e-01 1.04058912e-03 9.76764315e-05 1.85904017e-04\n",
      " 2.31197149e-04]\n",
      "X=[10.62338243  4.10379715 -4.04057418  4.47330316 -7.97417538 -2.65790183\n",
      "  9.29332777 -3.71881649 -4.26911018 -8.17459018], Predicted=[1.70045084e-04 1.90577663e-04 3.69717829e-05 5.17420353e-05\n",
      " 9.99550663e-01]\n",
      "X=[-2.4067182   6.09894447 -9.94690475 -4.59034419 -6.8739667  -6.05297297\n",
      " -6.15463682 -2.47158235 -1.7644802   0.42408483], Predicted=[9.97997594e-01 1.29031253e-03 3.49813883e-04 2.05435088e-04\n",
      " 1.56844570e-04]\n",
      "X=[ -8.40834827  -2.21657791   9.58128496   0.74064577   3.4936886\n",
      "  -3.64609052   3.11001771   7.39054547 -10.08136302   6.227394  ], Predicted=[9.87305161e-05 2.18842447e-04 7.56469162e-05 9.99589912e-01\n",
      " 1.68683499e-05]\n",
      "X=[11.05097771  6.93041484 -6.24910202  7.0217506  -6.30782912 -0.70411778\n",
      "  6.97264203 -3.26437171 -4.42541353 -8.00334919], Predicted=[2.15099658e-04 1.28661309e-03 2.88934413e-04 4.46296127e-05\n",
      " 9.98164723e-01]\n"
     ]
    }
   ],
   "source": [
    "# Multi-class prediction\n",
    "# new instance where we do not know the answer (test-set with output witheld)\n",
    "\n",
    "Xnew, _ = make_blobs(n_samples=10, centers=5, n_features=10, random_state=1)\n",
    "ynew = rental_LogR.predict_proba(Xnew)\n",
    "\n",
    "for i in range(len(Xnew)):\n",
    "    print(\"X=%s, Predicted=%s\" % (Xnew[i], ynew[i]))"
   ]
  },
  {
   "cell_type": "code",
   "execution_count": 133,
   "id": "5e7134de",
   "metadata": {},
   "outputs": [
    {
     "data": {
      "text/plain": [
       "LinearRegression()"
      ]
     },
     "execution_count": 133,
     "metadata": {},
     "output_type": "execute_result"
    }
   ],
   "source": [
    "# generating a Regression dataset\n",
    "\n",
    "X, y = make_regression(n_samples=100, n_features=10, noise=0.1, random_state=1)\n",
    "\n",
    "rental_LinR = LinearRegression()\n",
    "rental_LinR.fit(X,y)"
   ]
  },
  {
   "cell_type": "code",
   "execution_count": 134,
   "id": "517509b0",
   "metadata": {},
   "outputs": [
    {
     "name": "stdout",
     "output_type": "stream",
     "text": [
      "X=[ 1.13376944 -0.3224172  -0.17242821 -1.09989127 -2.06014071 -0.87785842\n",
      "  0.58281521  0.04221375 -0.38405435  1.46210794], Predicted=-44.80963489195843\n",
      "X=[ 0.19829972  0.18656139 -0.67066229  0.11900865 -0.20075807  0.37756379\n",
      "  1.12948391  0.12182127  0.41005165 -0.22232814], Predicted=13.846487740869263\n",
      "X=[ 0.86540763 -0.52817175  1.74481176 -2.3015387  -0.61175641 -0.7612069\n",
      " -0.24937038  0.3190391  -1.07296862  1.62434536], Predicted=-22.77391294469603\n",
      "X=[ 0.90085595  0.90159072 -0.12289023 -0.68372786  1.14472371 -0.93576943\n",
      "  0.53035547 -0.26788808  0.50249434 -1.10061918], Predicted=-81.38985413339785\n",
      "X=[ 0.42349435 -0.37528495 -0.34385368  0.07734007  0.18515642  0.04359686\n",
      "  0.69803203 -0.62000084 -0.63873041  1.19891788], Predicted=28.125886856564634\n",
      "X=[ 0.05080775 -0.74715829  0.19091548 -0.63699565 -0.88762896  2.10025514\n",
      "  0.61720311  0.12015895  1.6924546  -0.19183555], Predicted=2.1637766939960166\n",
      "X=[ 0.48851815  0.51292982  1.13162939 -0.07557171  1.25286816  1.51981682\n",
      " -1.39649634  2.18557541 -0.29809284 -0.75439794], Predicted=271.3348693485197\n",
      "X=[ 0.31563495  0.16003707 -0.30620401 -2.02220122 -0.50446586  0.82797464\n",
      "  0.76201118  0.23009474  0.87616892 -1.44411381], Predicted=-222.5417292455468\n",
      "X=[-0.20889423 -1.1425182   0.83898341  0.58662319 -0.35224985  0.93110208\n",
      "  0.88514116  0.28558733 -0.34934272  0.30017032], Predicted=109.38049157026023\n",
      "X=[-0.67124613 -0.6871727  -1.11731035 -0.0126646  -0.39675353  0.2344157\n",
      "  0.74204416  1.65980218 -0.84520564 -0.69166075], Predicted=-29.718977012722128\n"
     ]
    }
   ],
   "source": [
    "# predictions on multiple regressions\n",
    "\n",
    "Xnew, _ = make_regression(n_samples=10, n_features=10, noise=0.1, random_state=1)\n",
    "ynew = rental_LinR.predict(Xnew)\n",
    "\n",
    "for i in range(len(Xnew)):\n",
    "    print(\"X=%s, Predicted=%s\" % (Xnew[i], ynew[i]))"
   ]
  },
  {
   "cell_type": "code",
   "execution_count": 136,
   "id": "3b452c7f",
   "metadata": {},
   "outputs": [
    {
     "name": "stdout",
     "output_type": "stream",
     "text": [
      "X=[-1.39649634, 0.23009474, -0.84520564, 0.53035547, 0.83898341, 0.82797464, -1.09989127, 1.14472371, -1.11731035, 0.76201118], Predicted=122.15988379606262\n"
     ]
    }
   ],
   "source": [
    "# Single class prediction\n",
    "\n",
    "Xnew = [[-1.39649634, 0.23009474, -0.84520564, 0.53035547, 0.83898341, 0.82797464, -1.09989127, 1.14472371, -1.11731035, 0.76201118]]\n",
    "ynew = rental_LinR.predict(Xnew)\n",
    "\n",
    "for i in range(len(Xnew)):\n",
    "    print(\"X=%s, Predicted=%s\" % (Xnew[i], ynew[i]))"
   ]
  },
  {
   "cell_type": "code",
   "execution_count": null,
   "id": "873f22ee",
   "metadata": {},
   "outputs": [],
   "source": []
  },
  {
   "cell_type": "code",
   "execution_count": 172,
   "id": "14cba2b1",
   "metadata": {},
   "outputs": [],
   "source": [
    "# alternative classification dataset\n",
    "rental_array = rental.values\n",
    "X = rental_array[:,1:10] # rental[ everything else ]\n",
    "Y = rental_array[:,0] # rental['Lstate']\n",
    "test_size = 0.25\n",
    "#seed = 5"
   ]
  },
  {
   "cell_type": "code",
   "execution_count": 173,
   "id": "2c3439d6",
   "metadata": {},
   "outputs": [
    {
     "data": {
      "text/plain": [
       "array([[   10,     0, 11088, ...,   963,     5,   962],\n",
       "       [   10,     1, 11328, ...,   964,     5,   963],\n",
       "       [   10,     2, 11244, ...,   924,    13,   964],\n",
       "       ...,\n",
       "       [   53,    87, 16188, ...,  1196,   153,  1346],\n",
       "       [   53,    88, 16200, ...,  1205,   145,  1196],\n",
       "       [   57,    88, 14628, ...,  1349,  -130,  1205]], dtype=int64)"
      ]
     },
     "execution_count": 173,
     "metadata": {},
     "output_type": "execute_result"
    }
   ],
   "source": [
    "X"
   ]
  },
  {
   "cell_type": "code",
   "execution_count": 174,
   "id": "d180e75e",
   "metadata": {},
   "outputs": [
    {
     "data": {
      "text/plain": [
       "array([ 0,  0,  0, ..., 40, 40, 40], dtype=int64)"
      ]
     },
     "execution_count": 174,
     "metadata": {},
     "output_type": "execute_result"
    }
   ],
   "source": [
    "Y"
   ]
  },
  {
   "cell_type": "code",
   "execution_count": 175,
   "id": "c45a4289",
   "metadata": {},
   "outputs": [
    {
     "data": {
      "text/plain": [
       "LogisticRegression()"
      ]
     },
     "execution_count": 175,
     "metadata": {},
     "output_type": "execute_result"
    }
   ],
   "source": [
    "# train and fit alternative dataset\n",
    "X_train, X_test, Y_train, Y_test = model_selection.train_test_split(X, Y, test_size=test_size, random_state=1)\n",
    "model = LogisticRegression()\n",
    "model.fit(X_train, Y_train)"
   ]
  },
  {
   "cell_type": "code",
   "execution_count": 181,
   "id": "a9e3b69b",
   "metadata": {},
   "outputs": [
    {
     "name": "stdout",
     "output_type": "stream",
     "text": [
      "X=[  4.20325994   6.04215842 -10.41334141   4.22522359  10.39978458\n",
      "   5.39087516  -4.31711056   5.33241797  -7.33132623], predict_proba=[0.0243669  0.02436696 0.02438988 0.0243853  0.02438838 0.02444892\n",
      " 0.02444967 0.02434691 0.02428538 0.02434418 0.02439018 0.02444981\n",
      " 0.02434431 0.02439014 0.02434458 0.02434449 0.02438987 0.02438914\n",
      " 0.02439006 0.02438988 0.02435018 0.02442468 0.02435026 0.02444857\n",
      " 0.02434447 0.02439021 0.02444983 0.02434296 0.02438865 0.02434418\n",
      " 0.02439009 0.0244487  0.02444974 0.02442442 0.02438922 0.02440067\n",
      " 0.02438946 0.02444975 0.02444953 0.02438968 0.02438981]\n",
      "X=[-9.62911185 -4.30652551  9.25134712 -7.40725185 -3.18921131  9.21788834\n",
      "  1.12572649  4.52237877 -4.28514771], predict_proba=[0.0243854  0.02438535 0.02439266 0.02439622 0.02439382 0.02441598\n",
      " 0.02441535 0.02439403 0.02434298 0.02435117 0.02439243 0.02441523\n",
      " 0.02435107 0.02439246 0.02435087 0.02435094 0.02439267 0.02439323\n",
      " 0.02439252 0.02439266 0.02439148 0.02442305 0.02439142 0.02441628\n",
      " 0.02435095 0.0243924  0.02441522 0.02435208 0.02439361 0.02435116\n",
      " 0.0243925  0.02441617 0.02441529 0.02442328 0.02439317 0.02437566\n",
      " 0.02439298 0.02441528 0.02441547 0.02439282 0.02439271]\n",
      "X=[ -2.28122675   4.68220791 -11.08838739  -4.5633338   -6.7584698\n",
      "  -6.46140198  -7.02274951  -3.66958268  -2.17540449], predict_proba=[0.02433775 0.02433782 0.02440408 0.02439887 0.02440238 0.02435338\n",
      " 0.02435432 0.0244074  0.02443412 0.02442264 0.02440442 0.0243545\n",
      " 0.02442279 0.02440438 0.02442308 0.02442298 0.02440407 0.02440325\n",
      " 0.02440429 0.02440408 0.02441113 0.02434304 0.02441123 0.02435294\n",
      " 0.02442296 0.02440446 0.02435451 0.02442127 0.02440269 0.02442264\n",
      " 0.02440432 0.0243531  0.0243544  0.02434269 0.02440333 0.02437468\n",
      " 0.0244036  0.02435442 0.02435414 0.02440385 0.024404  ]\n",
      "X=[-9.01666528 -6.14843937  7.1635819  -7.85199591 -0.77035955  9.97032579\n",
      "  0.87420773  4.25932143 -3.1077622 ], predict_proba=[0.02439425 0.02439421 0.02438813 0.02439077 0.02438899 0.0244233\n",
      " 0.02442282 0.02437892 0.02433557 0.02435501 0.02438796 0.02442273\n",
      " 0.02435494 0.02438798 0.02435479 0.02435484 0.02438814 0.02438855\n",
      " 0.02438803 0.02438813 0.02437704 0.02442317 0.02437699 0.02442353\n",
      " 0.02435485 0.02438794 0.02442272 0.02435569 0.02438883 0.02435501\n",
      " 0.02438801 0.02442345 0.02442278 0.02442335 0.02438851 0.02438959\n",
      " 0.02438837 0.02442277 0.02442291 0.02438825 0.02438817]\n",
      "X=[-7.40417415 -7.58469429  7.060092   10.37560699 -3.66067979  4.56404214\n",
      "  7.27707814  7.84060334 -8.28598687], predict_proba=[0.02438114 0.02438109 0.02440432 0.02440769 0.02440542 0.02440824\n",
      " 0.02440765 0.02444505 0.02434488 0.02431192 0.0244041  0.02440754\n",
      " 0.02431183 0.02440413 0.02431164 0.02431171 0.02440433 0.02440486\n",
      " 0.02440419 0.02440432 0.02444264 0.02445527 0.02444258 0.02440852\n",
      " 0.02431172 0.02440408 0.02440753 0.02431276 0.02440522 0.02431191\n",
      " 0.02440417 0.02440841 0.0244076  0.02445549 0.0244048  0.02432244\n",
      " 0.02440463 0.02440759 0.02440776 0.02440447 0.02440437]\n",
      "X=[  0.01866054  -1.02781555   4.05124934  -4.5439223    8.2360648\n",
      " -10.74381084   2.56110629  -1.82050352   2.09099259], predict_proba=[0.02440144 0.02440141 0.02438874 0.02439082 0.02438942 0.02437958\n",
      " 0.02437923 0.02439892 0.02441184 0.02439878 0.0243886  0.02437916\n",
      " 0.02439872 0.02438862 0.0243986  0.02439864 0.02438874 0.02438907\n",
      " 0.02438866 0.02438874 0.02439743 0.02438615 0.02439739 0.02437974\n",
      " 0.02439865 0.02438859 0.02437915 0.02439933 0.0243893  0.02439878\n",
      " 0.02438864 0.02437969 0.0243792  0.02438628 0.02438904 0.0243899\n",
      " 0.02438893 0.02437919 0.02437929 0.02438883 0.02438877]\n",
      "X=[ -0.78614167   4.2951065  -11.03575127  -4.96282837  -8.12313875\n",
      "  -7.49694403  -6.33728737  -4.82743975  -1.96148752], predict_proba=[0.02433535 0.02433543 0.02440564 0.02440047 0.02440396 0.02434589\n",
      " 0.02434682 0.0244142  0.0244454  0.02442683 0.02440598 0.02434701\n",
      " 0.02442698 0.02440593 0.02442727 0.02442717 0.02440563 0.02440481\n",
      " 0.02440584 0.02440564 0.0244179  0.02433828 0.024418   0.02434545\n",
      " 0.02442715 0.02440601 0.02434702 0.02442547 0.02440426 0.02442683\n",
      " 0.02440588 0.02434561 0.02434691 0.02433794 0.0244049  0.02437044\n",
      " 0.02440517 0.02434693 0.02434665 0.02440541 0.02440556]\n",
      "X=[ 4.72906979  6.3843427  -9.26839611  6.61039334  9.53904441  4.6224848\n",
      " -3.90352595  7.5246596  -7.86651006], predict_proba=[0.02436871 0.02436876 0.02439229 0.02438827 0.02439098 0.02444526\n",
      " 0.02444591 0.02436112 0.02428976 0.02433588 0.02439255 0.02444603\n",
      " 0.02433599 0.02439252 0.02433623 0.02433615 0.02439228 0.02439165\n",
      " 0.02439245 0.02439229 0.02436399 0.02443231 0.02436406 0.02444494\n",
      " 0.02433613 0.02439258 0.02444604 0.0243348  0.02439122 0.02433588\n",
      " 0.02439247 0.02444506 0.02444597 0.02443209 0.02439171 0.02438765\n",
      " 0.02439192 0.02444598 0.02444578 0.02439211 0.02439223]\n",
      "X=[-7.11201064 -5.80973144  5.13441458  9.64336036 -3.80167321  4.47604024\n",
      "  5.71435948  9.43958185 -7.97405835], predict_proba=[0.02438294 0.0243829  0.02440406 0.02440649 0.02440485 0.02440697\n",
      " 0.02440655 0.02444487 0.02434747 0.02431337 0.0244039  0.02440647\n",
      " 0.02431331 0.02440392 0.02431318 0.02431323 0.02440407 0.02440445\n",
      " 0.02440397 0.02440406 0.02444314 0.02445466 0.02444309 0.02440717\n",
      " 0.02431323 0.02440389 0.02440646 0.02431397 0.02440471 0.02431337\n",
      " 0.02440395 0.0244071  0.02440651 0.02445483 0.02440441 0.02432277\n",
      " 0.02440428 0.02440651 0.02440663 0.02440417 0.0244041 ]\n",
      "X=[ 2.81836343 -1.16858902  4.38777424 -5.88806903  8.419583   -9.26831756\n",
      "  2.99323862 -0.4038539   2.42209636], predict_proba=[0.02440974 0.02440971 0.02438699 0.02438914 0.02438769 0.02438411\n",
      " 0.02438374 0.02439773 0.02440668 0.02439356 0.02438685 0.02438367\n",
      " 0.0243935  0.02438687 0.02439338 0.02439342 0.024387   0.02438734\n",
      " 0.02438691 0.02438699 0.02439619 0.02439371 0.02439616 0.02438428\n",
      " 0.02439343 0.02438684 0.02438366 0.02439414 0.02438757 0.02439356\n",
      " 0.0243869  0.02438422 0.02438371 0.02439384 0.0243873  0.02439066\n",
      " 0.02438719 0.0243837  0.02438381 0.02438709 0.02438703]\n"
     ]
    }
   ],
   "source": [
    "# Multi-class prediction for alternative dataset\n",
    "# new instance where we do not know the answer (test-set with output witheld)\n",
    "\n",
    "Xnew, _ = make_blobs(n_samples=10, centers=5, n_features=9, random_state=1)\n",
    "ynew = model.predict_proba(Xnew)\n",
    "ynew2 = model.predict(Xnew)\n",
    "\n",
    "for i in range(len(Xnew)):\n",
    "    print(\"X=%s, predict_proba=%s\" % (Xnew[i], ynew[i]))"
   ]
  },
  {
   "cell_type": "code",
   "execution_count": 182,
   "id": "ffacaa0d",
   "metadata": {},
   "outputs": [
    {
     "name": "stdout",
     "output_type": "stream",
     "text": [
      "X=[  4.20325994   6.04215842 -10.41334141   4.22522359  10.39978458\n",
      "   5.39087516  -4.31711056   5.33241797  -7.33132623], predicted=26\n",
      "X=[-9.62911185 -4.30652551  9.25134712 -7.40725185 -3.18921131  9.21788834\n",
      "  1.12572649  4.52237877 -4.28514771], predicted=33\n",
      "X=[ -2.28122675   4.68220791 -11.08838739  -4.5633338   -6.7584698\n",
      "  -6.46140198  -7.02274951  -3.66958268  -2.17540449], predicted=8\n",
      "X=[-9.01666528 -6.14843937  7.1635819  -7.85199591 -0.77035955  9.97032579\n",
      "  0.87420773  4.25932143 -3.1077622 ], predicted=23\n",
      "X=[-7.40417415 -7.58469429  7.060092   10.37560699 -3.66067979  4.56404214\n",
      "  7.27707814  7.84060334 -8.28598687], predicted=33\n",
      "X=[  0.01866054  -1.02781555   4.05124934  -4.5439223    8.2360648\n",
      " -10.74381084   2.56110629  -1.82050352   2.09099259], predicted=8\n",
      "X=[ -0.78614167   4.2951065  -11.03575127  -4.96282837  -8.12313875\n",
      "  -7.49694403  -6.33728737  -4.82743975  -1.96148752], predicted=8\n",
      "X=[ 4.72906979  6.3843427  -9.26839611  6.61039334  9.53904441  4.6224848\n",
      " -3.90352595  7.5246596  -7.86651006], predicted=26\n",
      "X=[-7.11201064 -5.80973144  5.13441458  9.64336036 -3.80167321  4.47604024\n",
      "  5.71435948  9.43958185 -7.97405835], predicted=33\n",
      "X=[ 2.81836343 -1.16858902  4.38777424 -5.88806903  8.419583   -9.26831756\n",
      "  2.99323862 -0.4038539   2.42209636], predicted=0\n"
     ]
    }
   ],
   "source": [
    "for i in range(len(Xnew)):\n",
    "    print(\"X=%s, predicted=%s\" % (Xnew[i], ynew2[i]))"
   ]
  },
  {
   "cell_type": "code",
   "execution_count": null,
   "id": "02c12bf1",
   "metadata": {},
   "outputs": [],
   "source": [
    "###### Decision Tree Classifier ######"
   ]
  },
  {
   "cell_type": "code",
   "execution_count": 186,
   "id": "404d21cb",
   "metadata": {},
   "outputs": [],
   "source": [
    "# define X and y\n",
    "\n",
    "feature_cols = ['CityName', 'Date', 'R_Annual', 'R_Monthly','R_PriorMonth', 'R_DiffPrevMonth', 'R_60DayDiff', 'R_60DayChange', 'R_90DayDiff', 'R_90DayChange']\n",
    "X = rental[feature_cols]\n",
    "\n",
    "y = rental.Lstate"
   ]
  },
  {
   "cell_type": "code",
   "execution_count": 188,
   "id": "359a7785",
   "metadata": {},
   "outputs": [
    {
     "data": {
      "text/plain": [
       "0.9843071034560396"
      ]
     },
     "execution_count": 188,
     "metadata": {},
     "output_type": "execute_result"
    }
   ],
   "source": [
    "treeclf = DecisionTreeClassifier(max_depth=30, random_state=1)\n",
    "cross_val_score(treeclf, X, y, cv=50, scoring='accuracy').mean()"
   ]
  }
 ],
 "metadata": {
  "kernelspec": {
   "display_name": "Python 3",
   "language": "python",
   "name": "python3"
  },
  "language_info": {
   "codemirror_mode": {
    "name": "ipython",
    "version": 3
   },
   "file_extension": ".py",
   "mimetype": "text/x-python",
   "name": "python",
   "nbconvert_exporter": "python",
   "pygments_lexer": "ipython3",
   "version": "3.8.8"
  }
 },
 "nbformat": 4,
 "nbformat_minor": 5
}
