{
 "cells": [
  {
   "cell_type": "code",
   "execution_count": 1,
   "metadata": {},
   "outputs": [
    {
     "output_type": "stream",
     "name": "stdout",
     "text": [
      "Requirement already satisfied: pip in /Library/Frameworks/Python.framework/Versions/3.9/lib/python3.9/site-packages (21.1.3)\n",
      "Note: you may need to restart the kernel to use updated packages.\n"
     ]
    }
   ],
   "source": [
    "pip install --upgrade pip\n"
   ]
  },
  {
   "cell_type": "code",
   "execution_count": 2,
   "metadata": {},
   "outputs": [
    {
     "output_type": "stream",
     "name": "stdout",
     "text": [
      "Requirement already satisfied: requests in /Library/Frameworks/Python.framework/Versions/3.9/lib/python3.9/site-packages (2.25.1)\n",
      "Requirement already satisfied: chardet<5,>=3.0.2 in /Library/Frameworks/Python.framework/Versions/3.9/lib/python3.9/site-packages (from requests) (4.0.0)\n",
      "Requirement already satisfied: urllib3<1.27,>=1.21.1 in /Library/Frameworks/Python.framework/Versions/3.9/lib/python3.9/site-packages (from requests) (1.26.6)\n",
      "Requirement already satisfied: certifi>=2017.4.17 in /Library/Frameworks/Python.framework/Versions/3.9/lib/python3.9/site-packages (from requests) (2021.5.30)\n",
      "Requirement already satisfied: idna<3,>=2.5 in /Library/Frameworks/Python.framework/Versions/3.9/lib/python3.9/site-packages (from requests) (2.10)\n",
      "Note: you may need to restart the kernel to use updated packages.\n"
     ]
    }
   ],
   "source": [
    "pip install requests"
   ]
  },
  {
   "cell_type": "code",
   "execution_count": 3,
   "metadata": {},
   "outputs": [
    {
     "output_type": "stream",
     "name": "stdout",
     "text": [
      "Requirement already satisfied: BeautifulSoup4 in /Library/Frameworks/Python.framework/Versions/3.9/lib/python3.9/site-packages (4.9.3)\n",
      "Requirement already satisfied: soupsieve>1.2 in /Library/Frameworks/Python.framework/Versions/3.9/lib/python3.9/site-packages (from BeautifulSoup4) (2.2.1)\n",
      "Note: you may need to restart the kernel to use updated packages.\n"
     ]
    }
   ],
   "source": [
    "pip install BeautifulSoup4"
   ]
  },
  {
   "cell_type": "code",
   "execution_count": 4,
   "metadata": {},
   "outputs": [],
   "source": [
    "import requests\n",
    "from requests import get\n",
    "from bs4 import BeautifulSoup\n",
    "import pandas as pd \n",
    "import numpy as np "
   ]
  },
  {
   "cell_type": "code",
   "execution_count": 5,
   "metadata": {},
   "outputs": [],
   "source": [
    "headers = {'Accept-Lanuage': 'en-US, en;q=0.5'}"
   ]
  },
  {
   "cell_type": "code",
   "execution_count": 32,
   "metadata": {},
   "outputs": [],
   "source": [
    "#URL is a variable and we have to assign a website to it \n",
    "#results is a variable to store (request.get) our action  "
   ]
  },
  {
   "cell_type": "code",
   "execution_count": 6,
   "metadata": {},
   "outputs": [],
   "source": [
    "url = 'https://www.imdb.com/search/title/?groups=top_1000&ref_=adv_prv'\n",
    "\n",
    "results = requests.get(url, headers=headers)"
   ]
  },
  {
   "cell_type": "code",
   "execution_count": 7,
   "metadata": {
    "tags": []
   },
   "outputs": [],
   "source": [
    "soup = BeautifulSoup(results.text, 'html.parser')\n",
    "\n"
   ]
  },
  {
   "cell_type": "code",
   "execution_count": 35,
   "metadata": {},
   "outputs": [],
   "source": [
    "#Making list to store the data "
   ]
  },
  {
   "cell_type": "code",
   "execution_count": 8,
   "metadata": {},
   "outputs": [],
   "source": [
    "titles = []\n",
    "years = []\n",
    "time = []\n",
    "imdb_ratings = []\n",
    "metascores = []\n",
    "votes = []\n",
    "us_gross = []"
   ]
  },
  {
   "cell_type": "code",
   "execution_count": 9,
   "metadata": {
    "tags": []
   },
   "outputs": [],
   "source": [
    "movie_div = soup.find_all('div', class_='lister-item mode-advanced')"
   ]
  },
  {
   "cell_type": "code",
   "execution_count": 10,
   "metadata": {
    "tags": []
   },
   "outputs": [],
   "source": [
    "for container in movie_div:\n",
    "    name = container.h3.a.text\n",
    "    titles.append(name)\n",
    "\n",
    "    year = container.h3.find('span', class_='lister-item-year').text\n",
    "    years.append(year)\n",
    "\n",
    "    runtime = container.find('span', class_='runtime').text if container.p.find('span', class_='runtime') else ''\n",
    "    time.append(runtime)\n",
    "    \n",
    "    imdb = float(container.strong.text)\n",
    "    imdb_ratings.append(imdb)\n",
    "\n",
    "    m_score = container.find('span', class_='metascore').text if container.find('span', class_='metascore') else '-'\n",
    "    metascores.append(m_score)\n",
    "\n",
    "    nv = container.find_all('span', attrs={'name': 'nv'})\n",
    "\n",
    "    vote = nv[0].text \n",
    "    votes.append(vote)\n",
    "\n",
    "    grosses = nv[1].text if len(nv) > 1 else '-'\n",
    "    us_gross.append(grosses)"
   ]
  },
  {
   "cell_type": "code",
   "execution_count": 11,
   "metadata": {},
   "outputs": [
    {
     "output_type": "stream",
     "name": "stdout",
     "text": [
      "['Once Upon a Time... In Hollywood', 'The Godfather', 'Avengers: Endgame', \"Harry Potter and the Sorcerer's Stone\", \"Zack Snyder's Justice League\", 'The Shawshank Redemption', 'Thor: Ragnarok', 'Pulp Fiction', 'The Sandlot', 'Jaws', 'Boogie Nights', 'Another Round', 'The Father', 'The Goonies', 'Terminator 2: Judgment Day', 'Guardians of the Galaxy', 'Parasite', 'The Game', 'Joker', 'Knives Out', 'The Lord of the Rings: The Fellowship of the Ring', 'Star Trek', 'The Dark Knight', 'Avengers: Infinity War', 'The Wolf of Wall Street', 'Interstellar', 'Forrest Gump', 'The Mitchells vs the Machines', 'Titanic', 'The Hobbit: An Unexpected Journey', 'Soul', 'Inception', 'Inglourious Basterds', 'Fight Club', 'The Matrix', 'Kill Bill: Vol. 1', 'Hamilton', 'Goodfellas', 'The Big Lebowski', 'Saving Private Ryan', 'The Gentlemen', 'Mad Max: Fury Road', 'Back to the Future', 'Django Unchained', 'The Godfather: Part II', 'Alien', 'The Avengers', 'Edge of Tomorrow', 'Blade Runner 2049', 'The Godfather: Part III']\n['(2019)', '(1972)', '(2019)', '(2001)', '(2021)', '(1994)', '(2017)', '(1994)', '(1993)', '(1975)', '(1997)', '(2020)', '(I) (2020)', '(1985)', '(1991)', '(2014)', '(2019)', '(1997)', '(2019)', '(2019)', '(2001)', '(2009)', '(2008)', '(2018)', '(2013)', '(2014)', '(1994)', '(2021)', '(1997)', '(2012)', '(2020)', '(2010)', '(2009)', '(1999)', '(1999)', '(2003)', '(2020)', '(1990)', '(1998)', '(1998)', '(2019)', '(2015)', '(1985)', '(2012)', '(1974)', '(1979)', '(2012)', '(2014)', '(2017)', '(1990)']\n['161 min', '175 min', '181 min', '152 min', '242 min', '142 min', '130 min', '154 min', '101 min', '124 min', '155 min', '117 min', '97 min', '114 min', '137 min', '121 min', '132 min', '129 min', '122 min', '130 min', '178 min', '127 min', '152 min', '149 min', '180 min', '169 min', '142 min', '113 min', '194 min', '169 min', '100 min', '148 min', '153 min', '139 min', '136 min', '111 min', '160 min', '146 min', '117 min', '169 min', '113 min', '120 min', '116 min', '165 min', '202 min', '117 min', '143 min', '113 min', '164 min', '162 min']\n[7.6, 9.2, 8.4, 7.6, 8.1, 9.3, 7.9, 8.9, 7.8, 8.0, 7.9, 7.8, 8.3, 7.8, 8.5, 8.0, 8.6, 7.8, 8.4, 7.9, 8.8, 7.9, 9.0, 8.4, 8.2, 8.6, 8.8, 7.7, 7.8, 7.8, 8.1, 8.8, 8.3, 8.8, 8.7, 8.1, 8.4, 8.7, 8.1, 8.6, 7.8, 8.1, 8.5, 8.4, 9.0, 8.4, 8.0, 7.9, 8.0, 7.6]\n['83        ', '100        ', '78        ', '64        ', '54        ', '80        ', '74        ', '94        ', '55        ', '87        ', '85        ', '79        ', '88        ', '62        ', '75        ', '76        ', '96        ', '61        ', '59        ', '82        ', '92        ', '82        ', '84        ', '68        ', '75        ', '74        ', '82        ', '80        ', '75        ', '58        ', '83        ', '74        ', '69        ', '66        ', '73        ', '69        ', '90        ', '90        ', '71        ', '91        ', '51        ', '90        ', '87        ', '81        ', '90        ', '89        ', '69        ', '71        ', '81        ', '60        ']\n['601,131', '1,674,177', '901,360', '684,371', '313,536', '2,420,891', '627,238', '1,878,390', '82,377', '555,649', '245,908', '91,644', '79,158', '251,529', '1,018,875', '1,074,576', '630,128', '361,151', '1,026,425', '504,561', '1,705,804', '584,412', '2,378,207', '896,006', '1,238,555', '1,580,280', '1,870,167', '66,630', '1,078,676', '772,220', '261,916', '2,134,565', '1,310,552', '1,909,236', '1,725,159', '1,028,657', '68,573', '1,051,991', '753,302', '1,273,422', '271,492', '911,803', '1,092,742', '1,402,511', '1,162,650', '809,979', '1,291,494', '619,677', '485,329', '370,297']\n['$142.50M', '$134.97M', '$858.37M', '$317.58M', '-', '$28.34M', '$315.06M', '$107.93M', '$32.42M', '$260.00M', '$26.40M', '-', '-', '$61.50M', '$204.84M', '$333.18M', '$53.37M', '$48.32M', '$335.45M', '$165.36M', '$315.54M', '$257.73M', '$534.86M', '$678.82M', '$116.90M', '$188.02M', '$330.25M', '-', '$659.33M', '$303.00M', '-', '$292.58M', '$120.54M', '$37.03M', '$171.48M', '$70.10M', '-', '$46.84M', '$17.50M', '$216.54M', '-', '$154.06M', '$210.61M', '$162.81M', '$57.30M', '$78.90M', '$623.28M', '$100.21M', '$92.05M', '$66.67M']\n"
     ]
    }
   ],
   "source": [
    "print(titles)\n",
    "print(years)\n",
    "print(time)\n",
    "print(imdb_ratings)\n",
    "print(metascores)\n",
    "print(votes)\n",
    "print(us_gross)"
   ]
  },
  {
   "cell_type": "code",
   "execution_count": 18,
   "metadata": {},
   "outputs": [
    {
     "output_type": "stream",
     "name": "stdout",
     "text": [
      "                                                movie  year  timeMin  imbd  \\\n0                    Once Upon a Time... In Hollywood  2019      161   7.6   \n1                                       The Godfather  1972      175   9.2   \n2                                   Avengers: Endgame  2019      181   8.4   \n3               Harry Potter and the Sorcerer's Stone  2001      152   7.6   \n4                        Zack Snyder's Justice League  2021      242   8.1   \n5                            The Shawshank Redemption  1994      142   9.3   \n6                                      Thor: Ragnarok  2017      130   7.9   \n7                                        Pulp Fiction  1994      154   8.9   \n8                                         The Sandlot  1993      101   7.8   \n9                                                Jaws  1975      124   8.0   \n10                                      Boogie Nights  1997      155   7.9   \n11                                      Another Round  2020      117   7.8   \n12                                         The Father  2020       97   8.3   \n13                                        The Goonies  1985      114   7.8   \n14                         Terminator 2: Judgment Day  1991      137   8.5   \n15                            Guardians of the Galaxy  2014      121   8.0   \n16                                           Parasite  2019      132   8.6   \n17                                           The Game  1997      129   7.8   \n18                                              Joker  2019      122   8.4   \n19                                         Knives Out  2019      130   7.9   \n20  The Lord of the Rings: The Fellowship of the Ring  2001      178   8.8   \n21                                          Star Trek  2009      127   7.9   \n22                                    The Dark Knight  2008      152   9.0   \n23                             Avengers: Infinity War  2018      149   8.4   \n24                            The Wolf of Wall Street  2013      180   8.2   \n25                                       Interstellar  2014      169   8.6   \n26                                       Forrest Gump  1994      142   8.8   \n27                      The Mitchells vs the Machines  2021      113   7.7   \n28                                            Titanic  1997      194   7.8   \n29                  The Hobbit: An Unexpected Journey  2012      169   7.8   \n30                                               Soul  2020      100   8.1   \n31                                          Inception  2010      148   8.8   \n32                               Inglourious Basterds  2009      153   8.3   \n33                                         Fight Club  1999      139   8.8   \n34                                         The Matrix  1999      136   8.7   \n35                                  Kill Bill: Vol. 1  2003      111   8.1   \n36                                           Hamilton  2020      160   8.4   \n37                                         Goodfellas  1990      146   8.7   \n38                                   The Big Lebowski  1998      117   8.1   \n39                                Saving Private Ryan  1998      169   8.6   \n40                                      The Gentlemen  2019      113   7.8   \n41                                 Mad Max: Fury Road  2015      120   8.1   \n42                                 Back to the Future  1985      116   8.5   \n43                                   Django Unchained  2012      165   8.4   \n44                             The Godfather: Part II  1974      202   9.0   \n45                                              Alien  1979      117   8.4   \n46                                       The Avengers  2012      143   8.0   \n47                                   Edge of Tomorrow  2014      113   7.9   \n48                                  Blade Runner 2049  2017      164   8.0   \n49                            The Godfather: Part III  1990      162   7.6   \n\n    metascore    votes  us_grossMillions  \n0          83   601131            142.50  \n1         100  1674177            134.97  \n2          78   901360            858.37  \n3          64   684371            317.58  \n4          54   313536               NaN  \n5          80  2420891             28.34  \n6          74   627238            315.06  \n7          94  1878390            107.93  \n8          55    82377             32.42  \n9          87   555649            260.00  \n10         85   245908             26.40  \n11         79    91644               NaN  \n12         88    79158               NaN  \n13         62   251529             61.50  \n14         75  1018875            204.84  \n15         76  1074576            333.18  \n16         96   630128             53.37  \n17         61   361151             48.32  \n18         59  1026425            335.45  \n19         82   504561            165.36  \n20         92  1705804            315.54  \n21         82   584412            257.73  \n22         84  2378207            534.86  \n23         68   896006            678.82  \n24         75  1238555            116.90  \n25         74  1580280            188.02  \n26         82  1870167            330.25  \n27         80    66630               NaN  \n28         75  1078676            659.33  \n29         58   772220            303.00  \n30         83   261916               NaN  \n31         74  2134565            292.58  \n32         69  1310552            120.54  \n33         66  1909236             37.03  \n34         73  1725159            171.48  \n35         69  1028657             70.10  \n36         90    68573               NaN  \n37         90  1051991             46.84  \n38         71   753302             17.50  \n39         91  1273422            216.54  \n40         51   271492               NaN  \n41         90   911803            154.06  \n42         87  1092742            210.61  \n43         81  1402511            162.81  \n44         90  1162650             57.30  \n45         89   809979             78.90  \n46         69  1291494            623.28  \n47         71   619677            100.21  \n48         81   485329             92.05  \n49         60   370297             66.67  \n"
     ]
    }
   ],
   "source": [
    "movies = pd.DataFrame({'movie': titles, 'year': years, 'timeMin': time, 'imbd': imdb_ratings, 'metascore': metascores, 'votes': votes, 'us_grossMillions': us_gross})\n",
    "\n",
    "movies['year'] = movies['year'].str.extract('(\\d+)').astype(int)\n",
    "movies['timeMin'] = movies['timeMin'].str.extract('(\\d+)').astype(int)\n",
    "movies['metascore'] = movies['metascore'].astype(int)\n",
    "movies['votes'] = movies['votes'].str.replace(',', '').astype(int)\n",
    "movies['us_grossMillions'] = movies['us_grossMillions'].map(lambda x: x.lstrip('$').rstrip('M'))\n",
    "movies['us_grossMillions'] = pd.to_numeric(movies['us_grossMillions'], errors='coerce')\n",
    "\n",
    "print(movies)"
   ]
  },
  {
   "cell_type": "code",
   "execution_count": 19,
   "metadata": {},
   "outputs": [
    {
     "output_type": "stream",
     "name": "stdout",
     "text": [
      "movie                object\nyear                  int64\ntimeMin               int64\nimbd                float64\nmetascore             int64\nvotes                 int64\nus_grossMillions    float64\ndtype: object\n"
     ]
    }
   ],
   "source": [
    "print(movies.dtypes)"
   ]
  },
  {
   "cell_type": "code",
   "execution_count": 22,
   "metadata": {},
   "outputs": [],
   "source": [
    "movies.to_csv('/Users/kafuiquashie/Desktop/movies.csv')"
   ]
  },
  {
   "cell_type": "code",
   "execution_count": null,
   "metadata": {},
   "outputs": [],
   "source": []
  },
  {
   "cell_type": "code",
   "execution_count": null,
   "metadata": {},
   "outputs": [],
   "source": []
  }
 ],
 "metadata": {
  "interpreter": {
   "hash": "aee8b7b246df8f9039afb4144a1f6fd8d2ca17a180786b69acc140d282b71a49"
  },
  "kernelspec": {
   "name": "python3",
   "display_name": "Python 3.9.4 64-bit"
  },
  "language_info": {
   "codemirror_mode": {
    "name": "ipython",
    "version": 3
   },
   "file_extension": ".py",
   "mimetype": "text/x-python",
   "name": "python",
   "nbconvert_exporter": "python",
   "pygments_lexer": "ipython3",
   "version": "3.9.4"
  }
 },
 "nbformat": 4,
 "nbformat_minor": 4
}