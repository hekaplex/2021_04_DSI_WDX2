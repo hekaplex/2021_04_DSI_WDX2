{
 "cells": [
  {
   "cell_type": "code",
   "execution_count": null,
   "metadata": {},
   "outputs": [],
   "source": [
    "#I committed both of the below datasets to GitHub\n",
    "import pandas as pd\n",
    "df1 = pd.read_csv(r\"C:\\2021_04_DSI_WDX2\\Rogers_James\\Pandas\\Dataset2.csv\")\n",
    "df2 = pd.read_csv(r\"C:\\2021_04_DSI_WDX2\\Rogers_James\\Pandas\\Dataset1.csv\")"
   ]
  },
  {
   "cell_type": "code",
   "execution_count": null,
   "metadata": {},
   "outputs": [],
   "source": [
    "#As part of cleaning, I noticed dataset1 had a lot of duplicates so I'm removing any from both sets\n",
    "df1 = df1.drop_duplicates()\n",
    "df2 = df2.drop_duplicates()"
   ]
  },
  {
   "cell_type": "code",
   "execution_count": null,
   "metadata": {},
   "outputs": [],
   "source": [
    "#I'm merging both datasets here and joining on 'id' in this step\n",
    "main_df = pd.merge(df1, df2, on=\"id\")"
   ]
  },
  {
   "cell_type": "code",
   "execution_count": null,
   "metadata": {},
   "outputs": [],
   "source": [
    "main_df = pd.merge(df1, df2, on=\"id\")"
   ]
  },
  {
   "cell_type": "code",
   "execution_count": null,
   "metadata": {},
   "outputs": [],
   "source": [
    "count = main_df[\"state_orig_time\"].value_counts()\n",
    "count\n",
    "count.plot(kind=\"bar\", figsize=(10,10))\n"
   ]
  },
  {
   "cell_type": "code",
   "execution_count": null,
   "metadata": {},
   "outputs": [],
   "source": []
  }
 ],
 "metadata": {
  "kernelspec": {
   "display_name": "Python 3",
   "language": "python",
   "name": "python3"
  },
  "language_info": {
   "codemirror_mode": {
    "name": "ipython",
    "version": 3
   },
   "file_extension": ".py",
   "mimetype": "text/x-python",
   "name": "python",
   "nbconvert_exporter": "python",
   "pygments_lexer": "ipython3",
   "version": "3.7.3"
  }
 },
 "nbformat": 4,
 "nbformat_minor": 2
}
