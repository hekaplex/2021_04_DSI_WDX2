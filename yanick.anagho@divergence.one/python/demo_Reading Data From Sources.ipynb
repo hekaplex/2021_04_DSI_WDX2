{
 "metadata": {
  "language_info": {
   "codemirror_mode": {
    "name": "ipython",
    "version": 3
   },
   "file_extension": ".py",
   "mimetype": "text/x-python",
   "name": "python",
   "nbconvert_exporter": "python",
   "pygments_lexer": "ipython3",
   "version": "3.9.4"
  },
  "orig_nbformat": 4,
  "kernelspec": {
   "name": "python3",
   "display_name": "Python 3.9.4 64-bit"
  },
  "interpreter": {
   "hash": "63fd5069d213b44bf678585dea6b12cceca9941eaf7f819626cde1f2670de90d"
  }
 },
 "nbformat": 4,
 "nbformat_minor": 2,
 "cells": [
  {
   "cell_type": "code",
   "execution_count": 1,
   "metadata": {},
   "outputs": [],
   "source": [
    "import numpy as np\n",
    "import pandas as pd\n"
   ]
  },
  {
   "cell_type": "code",
   "execution_count": 2,
   "metadata": {},
   "outputs": [
    {
     "output_type": "stream",
     "name": "stdout",
     "text": [
      "^C\n"
     ]
    }
   ],
   "source": [
    "!pip uninstall tabula"
   ]
  },
  {
   "cell_type": "code",
   "execution_count": null,
   "metadata": {},
   "outputs": [],
   "source": [
    "!pip install openpyxl --user\n",
    "!pip install lxml --user\n",
    "!pip uinstall tabula-py --user"
   ]
  },
  {
   "source": [
    "EXERCISE 1: READ DATA FROM A CSV"
   ],
   "cell_type": "markdown",
   "metadata": {}
  },
  {
   "cell_type": "code",
   "execution_count": 5,
   "metadata": {},
   "outputs": [],
   "source": [
    "df1 = pd.read_csv(\"CSV_EX_1.csv\")"
   ]
  },
  {
   "cell_type": "code",
   "execution_count": 6,
   "metadata": {},
   "outputs": [
    {
     "output_type": "execute_result",
     "data": {
      "text/plain": [
       "   Bedroom   Sq. foot    Locality   Price ($)\n",
       "0        2       1500        Good      300000\n",
       "1        3       1300        Fair      240000\n",
       "2        3       1900   Very good      450000\n",
       "3        3       1850         Bad      280000\n",
       "4        2       1640        Good      310000"
      ],
      "text/html": "<div>\n<style scoped>\n    .dataframe tbody tr th:only-of-type {\n        vertical-align: middle;\n    }\n\n    .dataframe tbody tr th {\n        vertical-align: top;\n    }\n\n    .dataframe thead th {\n        text-align: right;\n    }\n</style>\n<table border=\"1\" class=\"dataframe\">\n  <thead>\n    <tr style=\"text-align: right;\">\n      <th></th>\n      <th>Bedroom</th>\n      <th>Sq. foot</th>\n      <th>Locality</th>\n      <th>Price ($)</th>\n    </tr>\n  </thead>\n  <tbody>\n    <tr>\n      <th>0</th>\n      <td>2</td>\n      <td>1500</td>\n      <td>Good</td>\n      <td>300000</td>\n    </tr>\n    <tr>\n      <th>1</th>\n      <td>3</td>\n      <td>1300</td>\n      <td>Fair</td>\n      <td>240000</td>\n    </tr>\n    <tr>\n      <th>2</th>\n      <td>3</td>\n      <td>1900</td>\n      <td>Very good</td>\n      <td>450000</td>\n    </tr>\n    <tr>\n      <th>3</th>\n      <td>3</td>\n      <td>1850</td>\n      <td>Bad</td>\n      <td>280000</td>\n    </tr>\n    <tr>\n      <th>4</th>\n      <td>2</td>\n      <td>1640</td>\n      <td>Good</td>\n      <td>310000</td>\n    </tr>\n  </tbody>\n</table>\n</div>"
     },
     "metadata": {},
     "execution_count": 6
    }
   ],
   "source": [
    "df1"
   ]
  },
  {
   "cell_type": "code",
   "execution_count": 5,
   "metadata": {},
   "outputs": [],
   "source": [
    "df1.describe\n",
    "df2 = pd.read_csv(\"CSV_EX_2.csv\", header=None, names=['Bedroom', 'Sq. foot','Locality','Price ($)'])"
   ]
  },
  {
   "cell_type": "code",
   "execution_count": 6,
   "metadata": {},
   "outputs": [
    {
     "output_type": "execute_result",
     "data": {
      "text/plain": [
       "   Bedroom  Sq. foot    Locality  Price ($)\n",
       "0        2      1500        Good     300000\n",
       "1        3      1300        Fair     240000\n",
       "2        3      1900   Very good     450000\n",
       "3        3      1850         Bad     280000\n",
       "4        2      1640        Good     310000"
      ],
      "text/html": "<div>\n<style scoped>\n    .dataframe tbody tr th:only-of-type {\n        vertical-align: middle;\n    }\n\n    .dataframe tbody tr th {\n        vertical-align: top;\n    }\n\n    .dataframe thead th {\n        text-align: right;\n    }\n</style>\n<table border=\"1\" class=\"dataframe\">\n  <thead>\n    <tr style=\"text-align: right;\">\n      <th></th>\n      <th>Bedroom</th>\n      <th>Sq. foot</th>\n      <th>Locality</th>\n      <th>Price ($)</th>\n    </tr>\n  </thead>\n  <tbody>\n    <tr>\n      <th>0</th>\n      <td>2</td>\n      <td>1500</td>\n      <td>Good</td>\n      <td>300000</td>\n    </tr>\n    <tr>\n      <th>1</th>\n      <td>3</td>\n      <td>1300</td>\n      <td>Fair</td>\n      <td>240000</td>\n    </tr>\n    <tr>\n      <th>2</th>\n      <td>3</td>\n      <td>1900</td>\n      <td>Very good</td>\n      <td>450000</td>\n    </tr>\n    <tr>\n      <th>3</th>\n      <td>3</td>\n      <td>1850</td>\n      <td>Bad</td>\n      <td>280000</td>\n    </tr>\n    <tr>\n      <th>4</th>\n      <td>2</td>\n      <td>1640</td>\n      <td>Good</td>\n      <td>310000</td>\n    </tr>\n  </tbody>\n</table>\n</div>"
     },
     "metadata": {},
     "execution_count": 6
    }
   ],
   "source": [
    "df2"
   ]
  },
  {
   "source": [
    "EXERCISE 3: Read data from a CSV where delimiters/seperators are not comma"
   ],
   "cell_type": "markdown",
   "metadata": {}
  },
  {
   "cell_type": "code",
   "execution_count": 7,
   "metadata": {},
   "outputs": [],
   "source": [
    "df3 = pd.read_csv(\"csv_ex_3.csv\")"
   ]
  },
  {
   "cell_type": "code",
   "execution_count": 8,
   "metadata": {},
   "outputs": [
    {
     "output_type": "execute_result",
     "data": {
      "text/plain": [
       "       Bedroom; Sq. foot; Locality; Price ($)\n",
       "count                                       5\n",
       "unique                                      5\n",
       "top                     3; 1300; Fair; 240000\n",
       "freq                                        1"
      ],
      "text/html": "<div>\n<style scoped>\n    .dataframe tbody tr th:only-of-type {\n        vertical-align: middle;\n    }\n\n    .dataframe tbody tr th {\n        vertical-align: top;\n    }\n\n    .dataframe thead th {\n        text-align: right;\n    }\n</style>\n<table border=\"1\" class=\"dataframe\">\n  <thead>\n    <tr style=\"text-align: right;\">\n      <th></th>\n      <th>Bedroom; Sq. foot; Locality; Price ($)</th>\n    </tr>\n  </thead>\n  <tbody>\n    <tr>\n      <th>count</th>\n      <td>5</td>\n    </tr>\n    <tr>\n      <th>unique</th>\n      <td>5</td>\n    </tr>\n    <tr>\n      <th>top</th>\n      <td>3; 1300; Fair; 240000</td>\n    </tr>\n    <tr>\n      <th>freq</th>\n      <td>1</td>\n    </tr>\n  </tbody>\n</table>\n</div>"
     },
     "metadata": {},
     "execution_count": 8
    }
   ],
   "source": [
    "df3.describe()"
   ]
  },
  {
   "cell_type": "code",
   "execution_count": 9,
   "metadata": {},
   "outputs": [],
   "source": [
    "df3 = pd.read_csv(\"csv_ex_3.csv\", sep=';')"
   ]
  },
  {
   "cell_type": "code",
   "execution_count": 10,
   "metadata": {},
   "outputs": [
    {
     "output_type": "execute_result",
     "data": {
      "text/plain": [
       "        Locality\n",
       "count          5\n",
       "unique         4\n",
       "top         Good\n",
       "freq           2"
      ],
      "text/html": "<div>\n<style scoped>\n    .dataframe tbody tr th:only-of-type {\n        vertical-align: middle;\n    }\n\n    .dataframe tbody tr th {\n        vertical-align: top;\n    }\n\n    .dataframe thead th {\n        text-align: right;\n    }\n</style>\n<table border=\"1\" class=\"dataframe\">\n  <thead>\n    <tr style=\"text-align: right;\">\n      <th></th>\n      <th>Locality</th>\n    </tr>\n  </thead>\n  <tbody>\n    <tr>\n      <th>count</th>\n      <td>5</td>\n    </tr>\n    <tr>\n      <th>unique</th>\n      <td>4</td>\n    </tr>\n    <tr>\n      <th>top</th>\n      <td>Good</td>\n    </tr>\n    <tr>\n      <th>freq</th>\n      <td>2</td>\n    </tr>\n  </tbody>\n</table>\n</div>"
     },
     "metadata": {},
     "execution_count": 10
    }
   ],
   "source": [
    "df3.describe(include=['O'])"
   ]
  },
  {
   "source": [
    "EXERCISE 4: How to bypass given headers with your own"
   ],
   "cell_type": "markdown",
   "metadata": {}
  },
  {
   "cell_type": "code",
   "execution_count": 8,
   "metadata": {},
   "outputs": [],
   "source": [
    "df4 = pd.read_csv(\"csv_ex_1.csv\", names=['A','B','C','D'])"
   ]
  },
  {
   "cell_type": "code",
   "execution_count": 9,
   "metadata": {},
   "outputs": [
    {
     "output_type": "execute_result",
     "data": {
      "text/plain": [
       "         A          B           C           D\n",
       "0  Bedroom   Sq. foot    Locality   Price ($)\n",
       "1        2       1500        Good      300000\n",
       "2        3       1300        Fair      240000\n",
       "3        3       1900   Very good      450000\n",
       "4        3       1850         Bad      280000\n",
       "5        2       1640        Good      310000"
      ],
      "text/html": "<div>\n<style scoped>\n    .dataframe tbody tr th:only-of-type {\n        vertical-align: middle;\n    }\n\n    .dataframe tbody tr th {\n        vertical-align: top;\n    }\n\n    .dataframe thead th {\n        text-align: right;\n    }\n</style>\n<table border=\"1\" class=\"dataframe\">\n  <thead>\n    <tr style=\"text-align: right;\">\n      <th></th>\n      <th>A</th>\n      <th>B</th>\n      <th>C</th>\n      <th>D</th>\n    </tr>\n  </thead>\n  <tbody>\n    <tr>\n      <th>0</th>\n      <td>Bedroom</td>\n      <td>Sq. foot</td>\n      <td>Locality</td>\n      <td>Price ($)</td>\n    </tr>\n    <tr>\n      <th>1</th>\n      <td>2</td>\n      <td>1500</td>\n      <td>Good</td>\n      <td>300000</td>\n    </tr>\n    <tr>\n      <th>2</th>\n      <td>3</td>\n      <td>1300</td>\n      <td>Fair</td>\n      <td>240000</td>\n    </tr>\n    <tr>\n      <th>3</th>\n      <td>3</td>\n      <td>1900</td>\n      <td>Very good</td>\n      <td>450000</td>\n    </tr>\n    <tr>\n      <th>4</th>\n      <td>3</td>\n      <td>1850</td>\n      <td>Bad</td>\n      <td>280000</td>\n    </tr>\n    <tr>\n      <th>5</th>\n      <td>2</td>\n      <td>1640</td>\n      <td>Good</td>\n      <td>310000</td>\n    </tr>\n  </tbody>\n</table>\n</div>"
     },
     "metadata": {},
     "execution_count": 9
    }
   ],
   "source": [
    "df4"
   ]
  },
  {
   "cell_type": "code",
   "execution_count": 13,
   "metadata": {},
   "outputs": [],
   "source": [
    "df4 = pd.read_csv(\"csv_ex_1.csv\", header=0, names=['A','B','C','D'])"
   ]
  },
  {
   "cell_type": "code",
   "execution_count": 14,
   "metadata": {},
   "outputs": [
    {
     "output_type": "execute_result",
     "data": {
      "text/plain": [
       "   A     B           C       D\n",
       "0  2  1500        Good  300000\n",
       "1  3  1300        Fair  240000\n",
       "2  3  1900   Very good  450000\n",
       "3  3  1850         Bad  280000\n",
       "4  2  1640        Good  310000"
      ],
      "text/html": "<div>\n<style scoped>\n    .dataframe tbody tr th:only-of-type {\n        vertical-align: middle;\n    }\n\n    .dataframe tbody tr th {\n        vertical-align: top;\n    }\n\n    .dataframe thead th {\n        text-align: right;\n    }\n</style>\n<table border=\"1\" class=\"dataframe\">\n  <thead>\n    <tr style=\"text-align: right;\">\n      <th></th>\n      <th>A</th>\n      <th>B</th>\n      <th>C</th>\n      <th>D</th>\n    </tr>\n  </thead>\n  <tbody>\n    <tr>\n      <th>0</th>\n      <td>2</td>\n      <td>1500</td>\n      <td>Good</td>\n      <td>300000</td>\n    </tr>\n    <tr>\n      <th>1</th>\n      <td>3</td>\n      <td>1300</td>\n      <td>Fair</td>\n      <td>240000</td>\n    </tr>\n    <tr>\n      <th>2</th>\n      <td>3</td>\n      <td>1900</td>\n      <td>Very good</td>\n      <td>450000</td>\n    </tr>\n    <tr>\n      <th>3</th>\n      <td>3</td>\n      <td>1850</td>\n      <td>Bad</td>\n      <td>280000</td>\n    </tr>\n    <tr>\n      <th>4</th>\n      <td>2</td>\n      <td>1640</td>\n      <td>Good</td>\n      <td>310000</td>\n    </tr>\n  </tbody>\n</table>\n</div>"
     },
     "metadata": {},
     "execution_count": 14
    }
   ],
   "source": [
    "df4"
   ]
  },
  {
   "cell_type": "code",
   "execution_count": 15,
   "metadata": {},
   "outputs": [],
   "source": [
    "df5 = pd.read_csv(\"csv_ex_skiprows.csv\", skiprows=2)"
   ]
  },
  {
   "cell_type": "code",
   "execution_count": 16,
   "metadata": {},
   "outputs": [
    {
     "output_type": "execute_result",
     "data": {
      "text/plain": [
       "   Bedroom   Sq. foot    Locality   Price ($)\n",
       "0        2       1500        Good      300000\n",
       "1        3       1300        Fair      240000\n",
       "2        3       1900   Very good      450000\n",
       "3        3       1850         Bad      280000\n",
       "4        2       1640        Good      310000"
      ],
      "text/html": "<div>\n<style scoped>\n    .dataframe tbody tr th:only-of-type {\n        vertical-align: middle;\n    }\n\n    .dataframe tbody tr th {\n        vertical-align: top;\n    }\n\n    .dataframe thead th {\n        text-align: right;\n    }\n</style>\n<table border=\"1\" class=\"dataframe\">\n  <thead>\n    <tr style=\"text-align: right;\">\n      <th></th>\n      <th>Bedroom</th>\n      <th>Sq. foot</th>\n      <th>Locality</th>\n      <th>Price ($)</th>\n    </tr>\n  </thead>\n  <tbody>\n    <tr>\n      <th>0</th>\n      <td>2</td>\n      <td>1500</td>\n      <td>Good</td>\n      <td>300000</td>\n    </tr>\n    <tr>\n      <th>1</th>\n      <td>3</td>\n      <td>1300</td>\n      <td>Fair</td>\n      <td>240000</td>\n    </tr>\n    <tr>\n      <th>2</th>\n      <td>3</td>\n      <td>1900</td>\n      <td>Very good</td>\n      <td>450000</td>\n    </tr>\n    <tr>\n      <th>3</th>\n      <td>3</td>\n      <td>1850</td>\n      <td>Bad</td>\n      <td>280000</td>\n    </tr>\n    <tr>\n      <th>4</th>\n      <td>2</td>\n      <td>1640</td>\n      <td>Good</td>\n      <td>310000</td>\n    </tr>\n  </tbody>\n</table>\n</div>"
     },
     "metadata": {},
     "execution_count": 16
    }
   ],
   "source": [
    "df5"
   ]
  },
  {
   "source": [
    "EXERCISE 6: Skip footers\n"
   ],
   "cell_type": "markdown",
   "metadata": {}
  },
  {
   "cell_type": "code",
   "execution_count": 17,
   "metadata": {},
   "outputs": [],
   "source": [
    "df6 = pd.read_csv(\"csv_ex_skipfooter.csv\")"
   ]
  },
  {
   "cell_type": "code",
   "execution_count": 18,
   "metadata": {},
   "outputs": [
    {
     "output_type": "execute_result",
     "data": {
      "text/plain": [
       "  Filetype: CSV                Unnamed: 1  Unnamed: 2  Unnamed: 3\n",
       "0           NaN    Info about some houses         NaN         NaN\n",
       "1       Bedroom                  Sq. foot    Locality   Price ($)\n",
       "2             2                      1500        Good      300000\n",
       "3             3                      1300        Fair      240000\n",
       "4             3                      1900   Very good      450000\n",
       "5             3                      1850         Bad      280000\n",
       "6             2                      1640        Good      310000\n",
       "7           NaN   This is the end of file         NaN         NaN"
      ],
      "text/html": "<div>\n<style scoped>\n    .dataframe tbody tr th:only-of-type {\n        vertical-align: middle;\n    }\n\n    .dataframe tbody tr th {\n        vertical-align: top;\n    }\n\n    .dataframe thead th {\n        text-align: right;\n    }\n</style>\n<table border=\"1\" class=\"dataframe\">\n  <thead>\n    <tr style=\"text-align: right;\">\n      <th></th>\n      <th>Filetype: CSV</th>\n      <th>Unnamed: 1</th>\n      <th>Unnamed: 2</th>\n      <th>Unnamed: 3</th>\n    </tr>\n  </thead>\n  <tbody>\n    <tr>\n      <th>0</th>\n      <td>NaN</td>\n      <td>Info about some houses</td>\n      <td>NaN</td>\n      <td>NaN</td>\n    </tr>\n    <tr>\n      <th>1</th>\n      <td>Bedroom</td>\n      <td>Sq. foot</td>\n      <td>Locality</td>\n      <td>Price ($)</td>\n    </tr>\n    <tr>\n      <th>2</th>\n      <td>2</td>\n      <td>1500</td>\n      <td>Good</td>\n      <td>300000</td>\n    </tr>\n    <tr>\n      <th>3</th>\n      <td>3</td>\n      <td>1300</td>\n      <td>Fair</td>\n      <td>240000</td>\n    </tr>\n    <tr>\n      <th>4</th>\n      <td>3</td>\n      <td>1900</td>\n      <td>Very good</td>\n      <td>450000</td>\n    </tr>\n    <tr>\n      <th>5</th>\n      <td>3</td>\n      <td>1850</td>\n      <td>Bad</td>\n      <td>280000</td>\n    </tr>\n    <tr>\n      <th>6</th>\n      <td>2</td>\n      <td>1640</td>\n      <td>Good</td>\n      <td>310000</td>\n    </tr>\n    <tr>\n      <th>7</th>\n      <td>NaN</td>\n      <td>This is the end of file</td>\n      <td>NaN</td>\n      <td>NaN</td>\n    </tr>\n  </tbody>\n</table>\n</div>"
     },
     "metadata": {},
     "execution_count": 18
    }
   ],
   "source": [
    "df6"
   ]
  },
  {
   "cell_type": "code",
   "execution_count": 19,
   "metadata": {},
   "outputs": [],
   "source": [
    "df6 = pd.read_csv(\"csv_ex_skipfooter.csv\", skipfooter=1, skiprows=2, engine='python')"
   ]
  },
  {
   "cell_type": "code",
   "execution_count": 20,
   "metadata": {},
   "outputs": [
    {
     "output_type": "execute_result",
     "data": {
      "text/plain": [
       "   Bedroom   Sq. foot    Locality   Price ($)\n",
       "0        2       1500        Good      300000\n",
       "1        3       1300        Fair      240000\n",
       "2        3       1900   Very good      450000\n",
       "3        3       1850         Bad      280000\n",
       "4        2       1640        Good      310000"
      ],
      "text/html": "<div>\n<style scoped>\n    .dataframe tbody tr th:only-of-type {\n        vertical-align: middle;\n    }\n\n    .dataframe tbody tr th {\n        vertical-align: top;\n    }\n\n    .dataframe thead th {\n        text-align: right;\n    }\n</style>\n<table border=\"1\" class=\"dataframe\">\n  <thead>\n    <tr style=\"text-align: right;\">\n      <th></th>\n      <th>Bedroom</th>\n      <th>Sq. foot</th>\n      <th>Locality</th>\n      <th>Price ($)</th>\n    </tr>\n  </thead>\n  <tbody>\n    <tr>\n      <th>0</th>\n      <td>2</td>\n      <td>1500</td>\n      <td>Good</td>\n      <td>300000</td>\n    </tr>\n    <tr>\n      <th>1</th>\n      <td>3</td>\n      <td>1300</td>\n      <td>Fair</td>\n      <td>240000</td>\n    </tr>\n    <tr>\n      <th>2</th>\n      <td>3</td>\n      <td>1900</td>\n      <td>Very good</td>\n      <td>450000</td>\n    </tr>\n    <tr>\n      <th>3</th>\n      <td>3</td>\n      <td>1850</td>\n      <td>Bad</td>\n      <td>280000</td>\n    </tr>\n    <tr>\n      <th>4</th>\n      <td>2</td>\n      <td>1640</td>\n      <td>Good</td>\n      <td>310000</td>\n    </tr>\n  </tbody>\n</table>\n</div>"
     },
     "metadata": {},
     "execution_count": 20
    }
   ],
   "source": [
    "df6"
   ]
  },
  {
   "source": [
    "EXERCISE 7: Read only first n rows (especially useful for large files)"
   ],
   "cell_type": "markdown",
   "metadata": {}
  },
  {
   "cell_type": "code",
   "execution_count": 21,
   "metadata": {},
   "outputs": [],
   "source": [
    "df7 = pd.read_csv(\"csv_ex_1.csv\", nrows=3)"
   ]
  },
  {
   "cell_type": "code",
   "execution_count": 22,
   "metadata": {},
   "outputs": [
    {
     "output_type": "execute_result",
     "data": {
      "text/plain": [
       "   Bedroom   Sq. foot    Locality   Price ($)\n",
       "0        2       1500        Good      300000\n",
       "1        3       1300        Fair      240000\n",
       "2        3       1900   Very good      450000"
      ],
      "text/html": "<div>\n<style scoped>\n    .dataframe tbody tr th:only-of-type {\n        vertical-align: middle;\n    }\n\n    .dataframe tbody tr th {\n        vertical-align: top;\n    }\n\n    .dataframe thead th {\n        text-align: right;\n    }\n</style>\n<table border=\"1\" class=\"dataframe\">\n  <thead>\n    <tr style=\"text-align: right;\">\n      <th></th>\n      <th>Bedroom</th>\n      <th>Sq. foot</th>\n      <th>Locality</th>\n      <th>Price ($)</th>\n    </tr>\n  </thead>\n  <tbody>\n    <tr>\n      <th>0</th>\n      <td>2</td>\n      <td>1500</td>\n      <td>Good</td>\n      <td>300000</td>\n    </tr>\n    <tr>\n      <th>1</th>\n      <td>3</td>\n      <td>1300</td>\n      <td>Fair</td>\n      <td>240000</td>\n    </tr>\n    <tr>\n      <th>2</th>\n      <td>3</td>\n      <td>1900</td>\n      <td>Very good</td>\n      <td>450000</td>\n    </tr>\n  </tbody>\n</table>\n</div>"
     },
     "metadata": {},
     "execution_count": 22
    }
   ],
   "source": [
    "df7"
   ]
  },
  {
   "cell_type": "code",
   "execution_count": 23,
   "metadata": {},
   "outputs": [],
   "source": [
    "list_of_dataframe = []\n",
    "rows_in_a_chunk = 10\n",
    "num_chunks = 5\n",
    "df_dummy = pd.read_csv(\"Boston_housing.csv\", nrows=2)\n",
    "colnames = df_dummy.columns\n",
    "for i in range(0, num_chunks*rows_in_a_chunk, rows_in_a_chunk):\n",
    "    df = pd.read_csv(\"Boston_housing.csv\", header=0, skiprows=i, nrows=rows_in_a_chunk, names=colnames)\n",
    "    list_of_dataframe.append(df)"
   ]
  },
  {
   "cell_type": "code",
   "execution_count": 24,
   "metadata": {},
   "outputs": [],
   "source": [
    "df8 = pd.read_csv(\"Boston_housing.csv\")"
   ]
  },
  {
   "cell_type": "code",
   "execution_count": 25,
   "metadata": {},
   "outputs": [
    {
     "output_type": "execute_result",
     "data": {
      "text/plain": [
       "            CRIM         ZN      INDUS  CHAS        NOX         RM        AGE  \\\n",
       "count  10.000000  10.000000  10.000000  10.0  10.000000  10.000000  10.000000   \n",
       "mean    0.569789   3.750000   8.059000   0.0   0.533800   5.926200  63.610000   \n",
       "std     0.319835   6.038074   0.130422   0.0   0.006763   0.239033  22.799876   \n",
       "min     0.093780   0.000000   7.870000   0.0   0.524000   5.456000  29.300000   \n",
       "25%     0.325515   0.000000   7.937500   0.0   0.527500   5.847750  43.375000   \n",
       "50%     0.633860   0.000000   8.140000   0.0   0.538000   5.942000  65.650000   \n",
       "75%     0.769600   9.375000   8.140000   0.0   0.538000   6.004250  82.600000   \n",
       "max     1.053930  12.500000   8.140000   0.0   0.538000   6.377000  94.300000   \n",
       "\n",
       "             DIS        RAD         TAX    PTRATIO           B      LSTAT  \\\n",
       "count  10.000000  10.000000   10.000000  10.000000   10.000000  10.000000   \n",
       "mean    4.804180   4.300000  308.200000  19.260000  380.600000  12.064000   \n",
       "std     0.910659   0.483046    1.932184   2.801666   32.615287   4.127609   \n",
       "min     3.796500   4.000000  307.000000  15.200000  288.990000   6.580000   \n",
       "25%     4.308900   4.000000  307.000000  16.650000  386.775000   8.917500   \n",
       "50%     4.498600   4.000000  307.000000  21.000000  390.725000  11.485000   \n",
       "75%     5.265050   4.750000  310.000000  21.000000  394.845000  14.320000   \n",
       "max     6.346700   5.000000  311.000000  21.000000  396.900000  20.450000   \n",
       "\n",
       "           PRICE  \n",
       "count  10.000000  \n",
       "mean   19.310000  \n",
       "std     2.282518  \n",
       "min    15.000000  \n",
       "25%    18.200000  \n",
       "50%    19.400000  \n",
       "75%    20.350000  \n",
       "max    23.100000  "
      ],
      "text/html": "<div>\n<style scoped>\n    .dataframe tbody tr th:only-of-type {\n        vertical-align: middle;\n    }\n\n    .dataframe tbody tr th {\n        vertical-align: top;\n    }\n\n    .dataframe thead th {\n        text-align: right;\n    }\n</style>\n<table border=\"1\" class=\"dataframe\">\n  <thead>\n    <tr style=\"text-align: right;\">\n      <th></th>\n      <th>CRIM</th>\n      <th>ZN</th>\n      <th>INDUS</th>\n      <th>CHAS</th>\n      <th>NOX</th>\n      <th>RM</th>\n      <th>AGE</th>\n      <th>DIS</th>\n      <th>RAD</th>\n      <th>TAX</th>\n      <th>PTRATIO</th>\n      <th>B</th>\n      <th>LSTAT</th>\n      <th>PRICE</th>\n    </tr>\n  </thead>\n  <tbody>\n    <tr>\n      <th>count</th>\n      <td>10.000000</td>\n      <td>10.000000</td>\n      <td>10.000000</td>\n      <td>10.0</td>\n      <td>10.000000</td>\n      <td>10.000000</td>\n      <td>10.000000</td>\n      <td>10.000000</td>\n      <td>10.000000</td>\n      <td>10.000000</td>\n      <td>10.000000</td>\n      <td>10.000000</td>\n      <td>10.000000</td>\n      <td>10.000000</td>\n    </tr>\n    <tr>\n      <th>mean</th>\n      <td>0.569789</td>\n      <td>3.750000</td>\n      <td>8.059000</td>\n      <td>0.0</td>\n      <td>0.533800</td>\n      <td>5.926200</td>\n      <td>63.610000</td>\n      <td>4.804180</td>\n      <td>4.300000</td>\n      <td>308.200000</td>\n      <td>19.260000</td>\n      <td>380.600000</td>\n      <td>12.064000</td>\n      <td>19.310000</td>\n    </tr>\n    <tr>\n      <th>std</th>\n      <td>0.319835</td>\n      <td>6.038074</td>\n      <td>0.130422</td>\n      <td>0.0</td>\n      <td>0.006763</td>\n      <td>0.239033</td>\n      <td>22.799876</td>\n      <td>0.910659</td>\n      <td>0.483046</td>\n      <td>1.932184</td>\n      <td>2.801666</td>\n      <td>32.615287</td>\n      <td>4.127609</td>\n      <td>2.282518</td>\n    </tr>\n    <tr>\n      <th>min</th>\n      <td>0.093780</td>\n      <td>0.000000</td>\n      <td>7.870000</td>\n      <td>0.0</td>\n      <td>0.524000</td>\n      <td>5.456000</td>\n      <td>29.300000</td>\n      <td>3.796500</td>\n      <td>4.000000</td>\n      <td>307.000000</td>\n      <td>15.200000</td>\n      <td>288.990000</td>\n      <td>6.580000</td>\n      <td>15.000000</td>\n    </tr>\n    <tr>\n      <th>25%</th>\n      <td>0.325515</td>\n      <td>0.000000</td>\n      <td>7.937500</td>\n      <td>0.0</td>\n      <td>0.527500</td>\n      <td>5.847750</td>\n      <td>43.375000</td>\n      <td>4.308900</td>\n      <td>4.000000</td>\n      <td>307.000000</td>\n      <td>16.650000</td>\n      <td>386.775000</td>\n      <td>8.917500</td>\n      <td>18.200000</td>\n    </tr>\n    <tr>\n      <th>50%</th>\n      <td>0.633860</td>\n      <td>0.000000</td>\n      <td>8.140000</td>\n      <td>0.0</td>\n      <td>0.538000</td>\n      <td>5.942000</td>\n      <td>65.650000</td>\n      <td>4.498600</td>\n      <td>4.000000</td>\n      <td>307.000000</td>\n      <td>21.000000</td>\n      <td>390.725000</td>\n      <td>11.485000</td>\n      <td>19.400000</td>\n    </tr>\n    <tr>\n      <th>75%</th>\n      <td>0.769600</td>\n      <td>9.375000</td>\n      <td>8.140000</td>\n      <td>0.0</td>\n      <td>0.538000</td>\n      <td>6.004250</td>\n      <td>82.600000</td>\n      <td>5.265050</td>\n      <td>4.750000</td>\n      <td>310.000000</td>\n      <td>21.000000</td>\n      <td>394.845000</td>\n      <td>14.320000</td>\n      <td>20.350000</td>\n    </tr>\n    <tr>\n      <th>max</th>\n      <td>1.053930</td>\n      <td>12.500000</td>\n      <td>8.140000</td>\n      <td>0.0</td>\n      <td>0.538000</td>\n      <td>6.377000</td>\n      <td>94.300000</td>\n      <td>6.346700</td>\n      <td>5.000000</td>\n      <td>311.000000</td>\n      <td>21.000000</td>\n      <td>396.900000</td>\n      <td>20.450000</td>\n      <td>23.100000</td>\n    </tr>\n  </tbody>\n</table>\n</div>"
     },
     "metadata": {},
     "execution_count": 25
    }
   ],
   "source": [
    "list_of_dataframe[1].describe()"
   ]
  },
  {
   "source": [
    "EXERCISE 10: Read CSV from inside a compressed (.zip/.gz/.bz2/.xz) file\n"
   ],
   "cell_type": "markdown",
   "metadata": {}
  },
  {
   "cell_type": "code",
   "execution_count": 26,
   "metadata": {},
   "outputs": [],
   "source": [
    "df10 = pd.read_csv('csv_ex_1.zip')"
   ]
  },
  {
   "cell_type": "code",
   "execution_count": 27,
   "metadata": {},
   "outputs": [
    {
     "output_type": "execute_result",
     "data": {
      "text/plain": [
       "   Bedroom   Sq. foot    Locality   Price ($)\n",
       "0        2       1500        Good      300000\n",
       "1        3       1300        Fair      240000\n",
       "2        3       1900   Very good      450000\n",
       "3        3       1850         Bad      280000\n",
       "4        2       1640        Good      310000"
      ],
      "text/html": "<div>\n<style scoped>\n    .dataframe tbody tr th:only-of-type {\n        vertical-align: middle;\n    }\n\n    .dataframe tbody tr th {\n        vertical-align: top;\n    }\n\n    .dataframe thead th {\n        text-align: right;\n    }\n</style>\n<table border=\"1\" class=\"dataframe\">\n  <thead>\n    <tr style=\"text-align: right;\">\n      <th></th>\n      <th>Bedroom</th>\n      <th>Sq. foot</th>\n      <th>Locality</th>\n      <th>Price ($)</th>\n    </tr>\n  </thead>\n  <tbody>\n    <tr>\n      <th>0</th>\n      <td>2</td>\n      <td>1500</td>\n      <td>Good</td>\n      <td>300000</td>\n    </tr>\n    <tr>\n      <th>1</th>\n      <td>3</td>\n      <td>1300</td>\n      <td>Fair</td>\n      <td>240000</td>\n    </tr>\n    <tr>\n      <th>2</th>\n      <td>3</td>\n      <td>1900</td>\n      <td>Very good</td>\n      <td>450000</td>\n    </tr>\n    <tr>\n      <th>3</th>\n      <td>3</td>\n      <td>1850</td>\n      <td>Bad</td>\n      <td>280000</td>\n    </tr>\n    <tr>\n      <th>4</th>\n      <td>2</td>\n      <td>1640</td>\n      <td>Good</td>\n      <td>310000</td>\n    </tr>\n  </tbody>\n</table>\n</div>"
     },
     "metadata": {},
     "execution_count": 27
    }
   ],
   "source": [
    "df10"
   ]
  },
  {
   "source": [
    "EXERCISE 11: Reading from an Excel file - how to use `sheet_name`"
   ],
   "cell_type": "markdown",
   "metadata": {}
  },
  {
   "cell_type": "code",
   "execution_count": 28,
   "metadata": {},
   "outputs": [],
   "source": [
    "df11_1 = pd.read_excel(\"Housing_data.xlsx\", sheet_name=\"Data_Tab_1\")\n",
    "df11_2 = pd.read_excel(\"Housing_data.xlsx\", sheet_name=\"Data_Tab_2\")\n",
    "df11_3 = pd.read_excel(\"Housing_data.xlsx\", sheet_name=\"Data_Tab_3\")"
   ]
  },
  {
   "cell_type": "code",
   "execution_count": 29,
   "metadata": {},
   "outputs": [
    {
     "output_type": "execute_result",
     "data": {
      "text/plain": [
       "(9, 14)"
      ]
     },
     "metadata": {},
     "execution_count": 29
    }
   ],
   "source": [
    "df11_1.shape"
   ]
  },
  {
   "source": [
    "EXERCISE 13: General delimited text file can be read same as CSV"
   ],
   "cell_type": "markdown",
   "metadata": {}
  },
  {
   "cell_type": "code",
   "execution_count": 30,
   "metadata": {},
   "outputs": [
    {
     "output_type": "execute_result",
     "data": {
      "text/plain": [
       "   Bedroom   Sq. foot    Locality   Price ($)\n",
       "0        2       1500        Good      300000\n",
       "1        3       1300        Fair      240000\n",
       "2        3       1900   Very good      450000\n",
       "3        3       1850         Bad      280000\n",
       "4        2       1640        Good      310000"
      ],
      "text/html": "<div>\n<style scoped>\n    .dataframe tbody tr th:only-of-type {\n        vertical-align: middle;\n    }\n\n    .dataframe tbody tr th {\n        vertical-align: top;\n    }\n\n    .dataframe thead th {\n        text-align: right;\n    }\n</style>\n<table border=\"1\" class=\"dataframe\">\n  <thead>\n    <tr style=\"text-align: right;\">\n      <th></th>\n      <th>Bedroom</th>\n      <th>Sq. foot</th>\n      <th>Locality</th>\n      <th>Price ($)</th>\n    </tr>\n  </thead>\n  <tbody>\n    <tr>\n      <th>0</th>\n      <td>2</td>\n      <td>1500</td>\n      <td>Good</td>\n      <td>300000</td>\n    </tr>\n    <tr>\n      <th>1</th>\n      <td>3</td>\n      <td>1300</td>\n      <td>Fair</td>\n      <td>240000</td>\n    </tr>\n    <tr>\n      <th>2</th>\n      <td>3</td>\n      <td>1900</td>\n      <td>Very good</td>\n      <td>450000</td>\n    </tr>\n    <tr>\n      <th>3</th>\n      <td>3</td>\n      <td>1850</td>\n      <td>Bad</td>\n      <td>280000</td>\n    </tr>\n    <tr>\n      <th>4</th>\n      <td>2</td>\n      <td>1640</td>\n      <td>Good</td>\n      <td>310000</td>\n    </tr>\n  </tbody>\n</table>\n</div>"
     },
     "metadata": {},
     "execution_count": 30
    }
   ],
   "source": [
    "df13 = pd.read_table(\"Table_EX_1.txt\", delimiter=',')\n",
    "df13"
   ]
  },
  {
   "source": [
    "EXERCISE 14: Read HTML tables directly from an URL"
   ],
   "cell_type": "markdown",
   "metadata": {}
  },
  {
   "cell_type": "code",
   "execution_count": 31,
   "metadata": {},
   "outputs": [],
   "source": [
    "url = 'https://en.wikipedia.org/wiki/2016_Summer_Olympics_medal_table'\n",
    "list_of_df = pd.read_html(url)"
   ]
  },
  {
   "cell_type": "code",
   "execution_count": 32,
   "metadata": {},
   "outputs": [
    {
     "output_type": "execute_result",
     "data": {
      "text/plain": [
       "                Rank                         NOC  Gold  Silver  Bronze  Total\n",
       "0                  1         United States (USA)    46      37      38    121\n",
       "1                  2         Great Britain (GBR)    27      23      17     67\n",
       "2                  3                 China (CHN)    26      18      26     70\n",
       "3                  4                Russia (RUS)    19      17      20     56\n",
       "4                  5               Germany (GER)    17      10      15     42\n",
       "..               ...                         ...   ...     ...     ...    ...\n",
       "82                78               Nigeria (NGR)     0       0       1      1\n",
       "83                78              Portugal (POR)     0       0       1      1\n",
       "84                78   Trinidad and Tobago (TTO)     0       0       1      1\n",
       "85                78  United Arab Emirates (UAE)     0       0       1      1\n",
       "86  Totals (86 NOCs)            Totals (86 NOCs)   307     307     359    973\n",
       "\n",
       "[87 rows x 6 columns]"
      ],
      "text/html": "<div>\n<style scoped>\n    .dataframe tbody tr th:only-of-type {\n        vertical-align: middle;\n    }\n\n    .dataframe tbody tr th {\n        vertical-align: top;\n    }\n\n    .dataframe thead th {\n        text-align: right;\n    }\n</style>\n<table border=\"1\" class=\"dataframe\">\n  <thead>\n    <tr style=\"text-align: right;\">\n      <th></th>\n      <th>Rank</th>\n      <th>NOC</th>\n      <th>Gold</th>\n      <th>Silver</th>\n      <th>Bronze</th>\n      <th>Total</th>\n    </tr>\n  </thead>\n  <tbody>\n    <tr>\n      <th>0</th>\n      <td>1</td>\n      <td>United States (USA)</td>\n      <td>46</td>\n      <td>37</td>\n      <td>38</td>\n      <td>121</td>\n    </tr>\n    <tr>\n      <th>1</th>\n      <td>2</td>\n      <td>Great Britain (GBR)</td>\n      <td>27</td>\n      <td>23</td>\n      <td>17</td>\n      <td>67</td>\n    </tr>\n    <tr>\n      <th>2</th>\n      <td>3</td>\n      <td>China (CHN)</td>\n      <td>26</td>\n      <td>18</td>\n      <td>26</td>\n      <td>70</td>\n    </tr>\n    <tr>\n      <th>3</th>\n      <td>4</td>\n      <td>Russia (RUS)</td>\n      <td>19</td>\n      <td>17</td>\n      <td>20</td>\n      <td>56</td>\n    </tr>\n    <tr>\n      <th>4</th>\n      <td>5</td>\n      <td>Germany (GER)</td>\n      <td>17</td>\n      <td>10</td>\n      <td>15</td>\n      <td>42</td>\n    </tr>\n    <tr>\n      <th>...</th>\n      <td>...</td>\n      <td>...</td>\n      <td>...</td>\n      <td>...</td>\n      <td>...</td>\n      <td>...</td>\n    </tr>\n    <tr>\n      <th>82</th>\n      <td>78</td>\n      <td>Nigeria (NGR)</td>\n      <td>0</td>\n      <td>0</td>\n      <td>1</td>\n      <td>1</td>\n    </tr>\n    <tr>\n      <th>83</th>\n      <td>78</td>\n      <td>Portugal (POR)</td>\n      <td>0</td>\n      <td>0</td>\n      <td>1</td>\n      <td>1</td>\n    </tr>\n    <tr>\n      <th>84</th>\n      <td>78</td>\n      <td>Trinidad and Tobago (TTO)</td>\n      <td>0</td>\n      <td>0</td>\n      <td>1</td>\n      <td>1</td>\n    </tr>\n    <tr>\n      <th>85</th>\n      <td>78</td>\n      <td>United Arab Emirates (UAE)</td>\n      <td>0</td>\n      <td>0</td>\n      <td>1</td>\n      <td>1</td>\n    </tr>\n    <tr>\n      <th>86</th>\n      <td>Totals (86 NOCs)</td>\n      <td>Totals (86 NOCs)</td>\n      <td>307</td>\n      <td>307</td>\n      <td>359</td>\n      <td>973</td>\n    </tr>\n  </tbody>\n</table>\n<p>87 rows × 6 columns</p>\n</div>"
     },
     "metadata": {},
     "execution_count": 32
    }
   ],
   "source": [
    "list_of_df[1]"
   ]
  },
  {
   "cell_type": "code",
   "execution_count": 33,
   "metadata": {},
   "outputs": [
    {
     "output_type": "stream",
     "name": "stdout",
     "text": [
      "(4, 1)\n(87, 6)\n(10, 9)\n(4, 2)\n(1, 2)\n(1, 2)\n"
     ]
    }
   ],
   "source": [
    "for t in list_of_df:\n",
    "    print(t.shape)"
   ]
  },
  {
   "cell_type": "code",
   "execution_count": 34,
   "metadata": {},
   "outputs": [
    {
     "output_type": "execute_result",
     "data": {
      "text/plain": [
       "  Rank                  NOC  Gold  Silver  Bronze  Total\n",
       "0    1  United States (USA)    46      37      38    121\n",
       "1    2  Great Britain (GBR)    27      23      17     67\n",
       "2    3          China (CHN)    26      18      26     70\n",
       "3    4         Russia (RUS)    19      17      20     56\n",
       "4    5        Germany (GER)    17      10      15     42"
      ],
      "text/html": "<div>\n<style scoped>\n    .dataframe tbody tr th:only-of-type {\n        vertical-align: middle;\n    }\n\n    .dataframe tbody tr th {\n        vertical-align: top;\n    }\n\n    .dataframe thead th {\n        text-align: right;\n    }\n</style>\n<table border=\"1\" class=\"dataframe\">\n  <thead>\n    <tr style=\"text-align: right;\">\n      <th></th>\n      <th>Rank</th>\n      <th>NOC</th>\n      <th>Gold</th>\n      <th>Silver</th>\n      <th>Bronze</th>\n      <th>Total</th>\n    </tr>\n  </thead>\n  <tbody>\n    <tr>\n      <th>0</th>\n      <td>1</td>\n      <td>United States (USA)</td>\n      <td>46</td>\n      <td>37</td>\n      <td>38</td>\n      <td>121</td>\n    </tr>\n    <tr>\n      <th>1</th>\n      <td>2</td>\n      <td>Great Britain (GBR)</td>\n      <td>27</td>\n      <td>23</td>\n      <td>17</td>\n      <td>67</td>\n    </tr>\n    <tr>\n      <th>2</th>\n      <td>3</td>\n      <td>China (CHN)</td>\n      <td>26</td>\n      <td>18</td>\n      <td>26</td>\n      <td>70</td>\n    </tr>\n    <tr>\n      <th>3</th>\n      <td>4</td>\n      <td>Russia (RUS)</td>\n      <td>19</td>\n      <td>17</td>\n      <td>20</td>\n      <td>56</td>\n    </tr>\n    <tr>\n      <th>4</th>\n      <td>5</td>\n      <td>Germany (GER)</td>\n      <td>17</td>\n      <td>10</td>\n      <td>15</td>\n      <td>42</td>\n    </tr>\n  </tbody>\n</table>\n</div>"
     },
     "metadata": {},
     "execution_count": 34
    }
   ],
   "source": [
    "df15 = list_of_df[1]\n",
    "df15.head()"
   ]
  },
  {
   "source": [
    "EXERCISE 16: Read in a JSON file"
   ],
   "cell_type": "markdown",
   "metadata": {}
  },
  {
   "cell_type": "code",
   "execution_count": 35,
   "metadata": {},
   "outputs": [],
   "source": [
    "df16 = pd.read_json('movies.json')\n"
   ]
  },
  {
   "cell_type": "code",
   "execution_count": 36,
   "metadata": {},
   "outputs": [
    {
     "output_type": "stream",
     "name": "stdout",
     "text": [
      "['Hailee Steinfeld', 'John Cena', 'Jorge Lendeborg Jr.', 'Jason Drucker', 'Rachel Crow', 'Pamela Adlon']\n"
     ]
    }
   ],
   "source": [
    "for cast in df16[df16['title']=='Bumblebee']['cast']:\n",
    "    print (cast)"
   ]
  },
  {
   "cell_type": "code",
   "execution_count": 37,
   "metadata": {},
   "outputs": [],
   "source": [
    "cast_of_avengers = df16[(df16['title']==\"The Avengers\") & (df16['year']==2012)]['cast']"
   ]
  },
  {
   "cell_type": "code",
   "execution_count": 38,
   "metadata": {},
   "outputs": [
    {
     "output_type": "stream",
     "name": "stdout",
     "text": [
      "[['Robert Downey, Jr.', 'Chris Evans', 'Mark Ruffalo', 'Chris Hemsworth', 'Scarlett Johansson', 'Jeremy Renner', 'Tom Hiddleston', 'Clark Gregg', 'Cobie Smulders', 'Stellan Skarsgård', 'Samuel L. Jackson']]\n"
     ]
    }
   ],
   "source": [
    "print(list(cast_of_avengers))"
   ]
  },
  {
   "source": [
    "EXERCISE 17: Read Stata file (.dta)"
   ],
   "cell_type": "markdown",
   "metadata": {}
  },
  {
   "cell_type": "code",
   "execution_count": 39,
   "metadata": {},
   "outputs": [
    {
     "output_type": "execute_result",
     "data": {
      "text/plain": [
       "         id  year  province  totalpop  totalso2      reg_GDP  time  treatment  \\\n",
       "0   Beijing  1991   Beijing    1094.0    210000   598.900024   1.0          0   \n",
       "1   Beijing  1992   Beijing    1102.0    200000   709.099976   2.0          0   \n",
       "2   Beijing  1993   Beijing    1112.0    203736   863.530029   3.0          0   \n",
       "3   Beijing  1994   Beijing    1125.0    175616  1084.030029   4.0          0   \n",
       "4   Beijing  1995   Beijing    1251.0    214899  1394.890015   5.0          0   \n",
       "\n",
       "   provincearea  group       SO2PC     SO2PGDP     GDPPC    GDPPC2  \\\n",
       "0         16800      1  191.956131  191.956131  0.547441  0.299691   \n",
       "1         16800      1  181.488205  181.488205  0.643466  0.414049   \n",
       "2         16800      1  183.215820  183.215820  0.776556  0.603039   \n",
       "3         16800      1  156.103104  156.103104  0.963582  0.928491   \n",
       "4         16800      1  171.781769  171.781769  1.115020  1.243270   \n",
       "\n",
       "   pop_density  \n",
       "0     0.065119  \n",
       "1     0.065595  \n",
       "2     0.066190  \n",
       "3     0.066964  \n",
       "4     0.074464  "
      ],
      "text/html": "<div>\n<style scoped>\n    .dataframe tbody tr th:only-of-type {\n        vertical-align: middle;\n    }\n\n    .dataframe tbody tr th {\n        vertical-align: top;\n    }\n\n    .dataframe thead th {\n        text-align: right;\n    }\n</style>\n<table border=\"1\" class=\"dataframe\">\n  <thead>\n    <tr style=\"text-align: right;\">\n      <th></th>\n      <th>id</th>\n      <th>year</th>\n      <th>province</th>\n      <th>totalpop</th>\n      <th>totalso2</th>\n      <th>reg_GDP</th>\n      <th>time</th>\n      <th>treatment</th>\n      <th>provincearea</th>\n      <th>group</th>\n      <th>SO2PC</th>\n      <th>SO2PGDP</th>\n      <th>GDPPC</th>\n      <th>GDPPC2</th>\n      <th>pop_density</th>\n    </tr>\n  </thead>\n  <tbody>\n    <tr>\n      <th>0</th>\n      <td>Beijing</td>\n      <td>1991</td>\n      <td>Beijing</td>\n      <td>1094.0</td>\n      <td>210000</td>\n      <td>598.900024</td>\n      <td>1.0</td>\n      <td>0</td>\n      <td>16800</td>\n      <td>1</td>\n      <td>191.956131</td>\n      <td>191.956131</td>\n      <td>0.547441</td>\n      <td>0.299691</td>\n      <td>0.065119</td>\n    </tr>\n    <tr>\n      <th>1</th>\n      <td>Beijing</td>\n      <td>1992</td>\n      <td>Beijing</td>\n      <td>1102.0</td>\n      <td>200000</td>\n      <td>709.099976</td>\n      <td>2.0</td>\n      <td>0</td>\n      <td>16800</td>\n      <td>1</td>\n      <td>181.488205</td>\n      <td>181.488205</td>\n      <td>0.643466</td>\n      <td>0.414049</td>\n      <td>0.065595</td>\n    </tr>\n    <tr>\n      <th>2</th>\n      <td>Beijing</td>\n      <td>1993</td>\n      <td>Beijing</td>\n      <td>1112.0</td>\n      <td>203736</td>\n      <td>863.530029</td>\n      <td>3.0</td>\n      <td>0</td>\n      <td>16800</td>\n      <td>1</td>\n      <td>183.215820</td>\n      <td>183.215820</td>\n      <td>0.776556</td>\n      <td>0.603039</td>\n      <td>0.066190</td>\n    </tr>\n    <tr>\n      <th>3</th>\n      <td>Beijing</td>\n      <td>1994</td>\n      <td>Beijing</td>\n      <td>1125.0</td>\n      <td>175616</td>\n      <td>1084.030029</td>\n      <td>4.0</td>\n      <td>0</td>\n      <td>16800</td>\n      <td>1</td>\n      <td>156.103104</td>\n      <td>156.103104</td>\n      <td>0.963582</td>\n      <td>0.928491</td>\n      <td>0.066964</td>\n    </tr>\n    <tr>\n      <th>4</th>\n      <td>Beijing</td>\n      <td>1995</td>\n      <td>Beijing</td>\n      <td>1251.0</td>\n      <td>214899</td>\n      <td>1394.890015</td>\n      <td>5.0</td>\n      <td>0</td>\n      <td>16800</td>\n      <td>1</td>\n      <td>171.781769</td>\n      <td>171.781769</td>\n      <td>1.115020</td>\n      <td>1.243270</td>\n      <td>0.074464</td>\n    </tr>\n  </tbody>\n</table>\n</div>"
     },
     "metadata": {},
     "execution_count": 39
    }
   ],
   "source": [
    "df17 = pd.read_stata(\"wu-data.dta\")\n",
    "df17.head()"
   ]
  },
  {
   "source": [
    "EXERCISE 18: Read tabular data from PDF file"
   ],
   "cell_type": "markdown",
   "metadata": {}
  },
  {
   "cell_type": "code",
   "execution_count": 7,
   "metadata": {},
   "outputs": [
    {
     "output_type": "error",
     "ename": "ImportError",
     "evalue": "cannot import name 'read_pdf' from 'tabula' (C:\\Users\\yanick\\AppData\\Roaming\\Python\\Python39\\site-packages\\tabula\\__init__.py)",
     "traceback": [
      "\u001b[1;31m---------------------------------------------------------------------------\u001b[0m",
      "\u001b[1;31mImportError\u001b[0m                               Traceback (most recent call last)",
      "\u001b[1;32m<ipython-input-7-5c1882f30047>\u001b[0m in \u001b[0;36m<module>\u001b[1;34m\u001b[0m\n\u001b[1;32m----> 1\u001b[1;33m \u001b[1;32mfrom\u001b[0m \u001b[0mtabula\u001b[0m \u001b[1;32mimport\u001b[0m \u001b[0mread_pdf\u001b[0m\u001b[1;33m\u001b[0m\u001b[1;33m\u001b[0m\u001b[0m\n\u001b[0m",
      "\u001b[1;31mImportError\u001b[0m: cannot import name 'read_pdf' from 'tabula' (C:\\Users\\yanick\\AppData\\Roaming\\Python\\Python39\\site-packages\\tabula\\__init__.py)"
     ]
    }
   ],
   "source": [
    "from tabula import read_pdf"
   ]
  },
  {
   "cell_type": "code",
   "execution_count": null,
   "metadata": {},
   "outputs": [],
   "source": []
  }
 ]
}