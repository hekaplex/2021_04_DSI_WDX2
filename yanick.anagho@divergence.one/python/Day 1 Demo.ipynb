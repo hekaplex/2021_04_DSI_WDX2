{
 "metadata": {
  "language_info": {
   "codemirror_mode": {
    "name": "ipython",
    "version": 3
   },
   "file_extension": ".py",
   "mimetype": "text/x-python",
   "name": "python",
   "nbconvert_exporter": "python",
   "pygments_lexer": "ipython3",
   "version": "3.8.3"
  },
  "orig_nbformat": 4,
  "kernelspec": {
   "name": "python3",
   "display_name": "Python 3.8.3 64-bit"
  },
  "interpreter": {
   "hash": "22842a70e595467b16a29ff54dfb2c374c95a4168b40b7124ee245ac45f959e0"
  }
 },
 "nbformat": 4,
 "nbformat_minor": 2,
 "cells": [
  {
   "source": [
    "This Demo will showcase a console app that allows the user to enter an order selection and receive confirmation of the order for pickup\n"
   ],
   "cell_type": "markdown",
   "metadata": {}
  },
  {
   "cell_type": "code",
   "execution_count": 60,
   "metadata": {},
   "outputs": [
    {
     "output_type": "stream",
     "name": "stdout",
     "text": [
      "Welcome to Drive-by Wonderland Foods !\n",
      "Enter your order selection number from the menu below:\n",
      "\n",
      "********************Menu********************\n",
      "1.\tTropical Thunder Sliders Combo - $5.50\n",
      "2.\tRumble Jumble Fufu Combo - $6.25\n",
      "3.\tWonka Makosa Nuggets Combo - $5.75\n",
      "********************Menu********************\n",
      "\n",
      "You entered 8. Your Selection should be any of [1, 2, 3]\n",
      "You entered 6. Your Selection should be any of [1, 2, 3]\n",
      "You entered 0. Your Selection should be any of [1, 2, 3]\n",
      "You selected: Rumble Jumble Fufu Combo - $6.25\n",
      "Drive to the next window and pay\n"
     ]
    }
   ],
   "source": [
    "print(\"Welcome to Drive-by Wonderland Foods !\")\n",
    "print(\"Enter your order selection number from the menu below:\\n\")\n",
    "star = '*'\n",
    "menu = {1:\"Tropical Thunder Sliders Combo - $5.50\", 2:\"Rumble Jumble Fufu Combo - $6.25\", 3:\"Wonka Makosa Nuggets Combo - $5.75\"}\n",
    "print(star*20 + \"Menu\" + star*20)\n",
    "for k, v in menu.items():\n",
    "    print(\"{}.\\t{}\".format(k,v))\n",
    "print(star*20 + \"Menu\" + star*20 + \"\\n\")\n",
    "select = input(\"Selection:\")\n",
    "while int(select) not in menu.keys():\n",
    "    print(\"You entered {}. Your Selection should be any of {}\".format(select, list(menu.keys())))\n",
    "    select = input(\"Enter your order selection number: \")\n",
    "print(\"You selected: {}\".format(menu[int(select)]))\n",
    "print(\"Drive to the next window and pay\")"
   ]
  },
  {
   "cell_type": "code",
   "execution_count": 57,
   "metadata": {},
   "outputs": [
    {
     "output_type": "stream",
     "name": "stdout",
     "text": [
      "[1, 2, 3]\n"
     ]
    }
   ],
   "source": [
    "print(\"{}\".format(str(list(menu.keys()))))"
   ]
  },
  {
   "cell_type": "code",
   "execution_count": null,
   "metadata": {},
   "outputs": [],
   "source": []
  }
 ]
}