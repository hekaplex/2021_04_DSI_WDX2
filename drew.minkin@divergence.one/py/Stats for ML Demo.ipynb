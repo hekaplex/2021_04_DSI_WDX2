{
  "cells": [
    {
      "metadata": {
        "trusted": true
      },
      "cell_type": "code",
      "source": [
        "import pandas as pd\n",
        "\n",
        "df = pd.read_csv('C:\\h2o\\prediction_full_dataset.csv')"
      ],
      "execution_count": 1,
      "outputs": []
    },
    {
      "metadata": {
        "trusted": true
      },
      "cell_type": "code",
      "source": [
        "df.describe()"
      ],
      "execution_count": 7,
      "outputs": [
        {
          "output_type": "execute_result",
          "data": {
            "text/plain": [
              "       Unnamed: 0     predict          p0          p1  PassengerId  \\\n",
              "count  891.000000  891.000000  891.000000  891.000000   891.000000   \n",
              "mean   445.000000    0.408530    0.614206    0.385794   446.000000   \n",
              "std    257.353842    0.491838    0.361207    0.361207   257.353842   \n",
              "min      0.000000    0.000000    0.000000    0.003613     1.000000   \n",
              "25%    222.500000    0.000000    0.240600    0.065690   223.500000   \n",
              "50%    445.000000    0.000000    0.790066    0.209934   446.000000   \n",
              "75%    667.500000    1.000000    0.934310    0.759400   668.500000   \n",
              "max    890.000000    1.000000    0.996387    1.000000   891.000000   \n",
              "\n",
              "         Survived      Pclass         Age       SibSp       Parch  \\\n",
              "count  891.000000  891.000000  714.000000  891.000000  891.000000   \n",
              "mean     0.383838    2.308642   29.699118    0.523008    0.381594   \n",
              "std      0.486592    0.836071   14.526497    1.102743    0.806057   \n",
              "min      0.000000    1.000000    0.420000    0.000000    0.000000   \n",
              "25%      0.000000    2.000000   20.125000    0.000000    0.000000   \n",
              "50%      0.000000    3.000000   28.000000    0.000000    0.000000   \n",
              "75%      1.000000    3.000000   38.000000    1.000000    0.000000   \n",
              "max      1.000000    3.000000   80.000000    8.000000    6.000000   \n",
              "\n",
              "             Ticket        Fare   Fare_ZScore    Age_ZScore  \n",
              "count  6.610000e+02  891.000000  8.910000e+02  7.140000e+02  \n",
              "mean   2.603185e+05   32.204208  6.690620e-16  2.124040e-16  \n",
              "std    4.716093e+05   49.693429  1.000562e+00  1.000701e+00  \n",
              "min    6.930000e+02    0.000000 -6.484217e-01 -2.016979e+00  \n",
              "25%    1.999600e+04    7.910400 -4.891482e-01 -6.595416e-01  \n",
              "50%    2.361710e+05   14.454200 -3.573909e-01 -1.170488e-01  \n",
              "75%    3.477430e+05   31.000000 -2.424635e-02  5.718310e-01  \n",
              "max    3.101298e+06  512.329200  9.667167e+00  3.465126e+00  "
            ],
            "text/html": "<div>\n<style scoped>\n    .dataframe tbody tr th:only-of-type {\n        vertical-align: middle;\n    }\n\n    .dataframe tbody tr th {\n        vertical-align: top;\n    }\n\n    .dataframe thead th {\n        text-align: right;\n    }\n</style>\n<table border=\"1\" class=\"dataframe\">\n  <thead>\n    <tr style=\"text-align: right;\">\n      <th></th>\n      <th>Unnamed: 0</th>\n      <th>predict</th>\n      <th>p0</th>\n      <th>p1</th>\n      <th>PassengerId</th>\n      <th>Survived</th>\n      <th>Pclass</th>\n      <th>Age</th>\n      <th>SibSp</th>\n      <th>Parch</th>\n      <th>Ticket</th>\n      <th>Fare</th>\n      <th>Fare_ZScore</th>\n      <th>Age_ZScore</th>\n    </tr>\n  </thead>\n  <tbody>\n    <tr>\n      <th>count</th>\n      <td>891.000000</td>\n      <td>891.000000</td>\n      <td>891.000000</td>\n      <td>891.000000</td>\n      <td>891.000000</td>\n      <td>891.000000</td>\n      <td>891.000000</td>\n      <td>714.000000</td>\n      <td>891.000000</td>\n      <td>891.000000</td>\n      <td>6.610000e+02</td>\n      <td>891.000000</td>\n      <td>8.910000e+02</td>\n      <td>7.140000e+02</td>\n    </tr>\n    <tr>\n      <th>mean</th>\n      <td>445.000000</td>\n      <td>0.408530</td>\n      <td>0.614206</td>\n      <td>0.385794</td>\n      <td>446.000000</td>\n      <td>0.383838</td>\n      <td>2.308642</td>\n      <td>29.699118</td>\n      <td>0.523008</td>\n      <td>0.381594</td>\n      <td>2.603185e+05</td>\n      <td>32.204208</td>\n      <td>6.690620e-16</td>\n      <td>2.124040e-16</td>\n    </tr>\n    <tr>\n      <th>std</th>\n      <td>257.353842</td>\n      <td>0.491838</td>\n      <td>0.361207</td>\n      <td>0.361207</td>\n      <td>257.353842</td>\n      <td>0.486592</td>\n      <td>0.836071</td>\n      <td>14.526497</td>\n      <td>1.102743</td>\n      <td>0.806057</td>\n      <td>4.716093e+05</td>\n      <td>49.693429</td>\n      <td>1.000562e+00</td>\n      <td>1.000701e+00</td>\n    </tr>\n    <tr>\n      <th>min</th>\n      <td>0.000000</td>\n      <td>0.000000</td>\n      <td>0.000000</td>\n      <td>0.003613</td>\n      <td>1.000000</td>\n      <td>0.000000</td>\n      <td>1.000000</td>\n      <td>0.420000</td>\n      <td>0.000000</td>\n      <td>0.000000</td>\n      <td>6.930000e+02</td>\n      <td>0.000000</td>\n      <td>-6.484217e-01</td>\n      <td>-2.016979e+00</td>\n    </tr>\n    <tr>\n      <th>25%</th>\n      <td>222.500000</td>\n      <td>0.000000</td>\n      <td>0.240600</td>\n      <td>0.065690</td>\n      <td>223.500000</td>\n      <td>0.000000</td>\n      <td>2.000000</td>\n      <td>20.125000</td>\n      <td>0.000000</td>\n      <td>0.000000</td>\n      <td>1.999600e+04</td>\n      <td>7.910400</td>\n      <td>-4.891482e-01</td>\n      <td>-6.595416e-01</td>\n    </tr>\n    <tr>\n      <th>50%</th>\n      <td>445.000000</td>\n      <td>0.000000</td>\n      <td>0.790066</td>\n      <td>0.209934</td>\n      <td>446.000000</td>\n      <td>0.000000</td>\n      <td>3.000000</td>\n      <td>28.000000</td>\n      <td>0.000000</td>\n      <td>0.000000</td>\n      <td>2.361710e+05</td>\n      <td>14.454200</td>\n      <td>-3.573909e-01</td>\n      <td>-1.170488e-01</td>\n    </tr>\n    <tr>\n      <th>75%</th>\n      <td>667.500000</td>\n      <td>1.000000</td>\n      <td>0.934310</td>\n      <td>0.759400</td>\n      <td>668.500000</td>\n      <td>1.000000</td>\n      <td>3.000000</td>\n      <td>38.000000</td>\n      <td>1.000000</td>\n      <td>0.000000</td>\n      <td>3.477430e+05</td>\n      <td>31.000000</td>\n      <td>-2.424635e-02</td>\n      <td>5.718310e-01</td>\n    </tr>\n    <tr>\n      <th>max</th>\n      <td>890.000000</td>\n      <td>1.000000</td>\n      <td>0.996387</td>\n      <td>1.000000</td>\n      <td>891.000000</td>\n      <td>1.000000</td>\n      <td>3.000000</td>\n      <td>80.000000</td>\n      <td>8.000000</td>\n      <td>6.000000</td>\n      <td>3.101298e+06</td>\n      <td>512.329200</td>\n      <td>9.667167e+00</td>\n      <td>3.465126e+00</td>\n    </tr>\n  </tbody>\n</table>\n</div>"
          },
          "metadata": {},
          "execution_count": 7
        }
      ]
    },
    {
      "cell_type": "code",
      "execution_count": 3,
      "metadata": {},
      "outputs": [
        {
          "output_type": "execute_result",
          "data": {
            "text/plain": [
              "                                          Name   Sex Cabin Embarked    Cluster\n",
              "count                                      891   891   204      889        891\n",
              "unique                                     891     2   147        3          4\n",
              "top     Taussig, Mrs. Emil (Tillie Mandelbaum)  male    G6        S  Cluster 3\n",
              "freq                                         1   577     4      644        317"
            ],
            "text/html": "<div>\n<style scoped>\n    .dataframe tbody tr th:only-of-type {\n        vertical-align: middle;\n    }\n\n    .dataframe tbody tr th {\n        vertical-align: top;\n    }\n\n    .dataframe thead th {\n        text-align: right;\n    }\n</style>\n<table border=\"1\" class=\"dataframe\">\n  <thead>\n    <tr style=\"text-align: right;\">\n      <th></th>\n      <th>Name</th>\n      <th>Sex</th>\n      <th>Cabin</th>\n      <th>Embarked</th>\n      <th>Cluster</th>\n    </tr>\n  </thead>\n  <tbody>\n    <tr>\n      <th>count</th>\n      <td>891</td>\n      <td>891</td>\n      <td>204</td>\n      <td>889</td>\n      <td>891</td>\n    </tr>\n    <tr>\n      <th>unique</th>\n      <td>891</td>\n      <td>2</td>\n      <td>147</td>\n      <td>3</td>\n      <td>4</td>\n    </tr>\n    <tr>\n      <th>top</th>\n      <td>Taussig, Mrs. Emil (Tillie Mandelbaum)</td>\n      <td>male</td>\n      <td>G6</td>\n      <td>S</td>\n      <td>Cluster 3</td>\n    </tr>\n    <tr>\n      <th>freq</th>\n      <td>1</td>\n      <td>577</td>\n      <td>4</td>\n      <td>644</td>\n      <td>317</td>\n    </tr>\n  </tbody>\n</table>\n</div>"
          },
          "metadata": {},
          "execution_count": 3
        }
      ],
      "source": [
        "df.describe(include='O')"
      ]
    },
    {
      "metadata": {
        "trusted": true
      },
      "cell_type": "code",
      "source": [
        "df_no_zscore.describe()"
      ],
      "execution_count": null,
      "outputs": []
    },
    {
      "metadata": {
        "trusted": true
      },
      "cell_type": "code",
      "source": [
        "df['Fare_ZScore'] = (df['Fare'] - df['Fare'].mean()) / df['Fare'].std(ddof=0)"
      ],
      "execution_count": 4,
      "outputs": []
    },
    {
      "cell_type": "code",
      "execution_count": 6,
      "metadata": {},
      "outputs": [],
      "source": [
        "df['Age_ZScore'] = (df['Age'] - df['Age'].mean()) / df['Age'].std(ddof=0)"
      ]
    },
    {
      "metadata": {
        "trusted": true
      },
      "cell_type": "code",
      "source": [
        "df_no_zscore = df"
      ],
      "execution_count": 8,
      "outputs": []
    },
    {
      "metadata": {
        "trusted": true
      },
      "cell_type": "code",
      "source": [
        "df_no_zscore.to_csv('C:\\h2o\\prediction_full_datasetz_zscore.csv')"
      ],
      "execution_count": 9,
      "outputs": []
    },
    {
      "metadata": {
        "trusted": true
      },
      "cell_type": "code",
      "source": [
        "#reference do not run\n",
        "df['NVVar1_ZScore'] \\\n",
        "    = (\n",
        "            df['NVVar1']  \\\n",
        "            -  \\\n",
        "            df['NVVar1'].mean() \\\n",
        "        )  \\\n",
        "            /  \\\n",
        "        df['NVVar1'].std(ddof=0)"
      ],
      "execution_count": 6,
      "outputs": []
    },
    {
      "metadata": {
        "trusted": true
      },
      "cell_type": "code",
      "source": [
        "df"
      ],
      "execution_count": 10,
      "outputs": [
        {
          "output_type": "execute_result",
          "data": {
            "text/plain": [
              "     Unnamed: 0  predict        p0        p1  PassengerId  Survived  Pclass  \\\n",
              "0             0        0  0.984842  0.015158            1         0       3   \n",
              "1             1        1  0.022236  0.977764            2         1       1   \n",
              "2             2        1  0.313374  0.686626            3         1       3   \n",
              "3             3        1  0.010000  0.990000            4         1       1   \n",
              "4             4        0  0.971236  0.028764            5         0       3   \n",
              "..          ...      ...       ...       ...          ...       ...     ...   \n",
              "886         886        0  0.947372  0.052628          887         0       2   \n",
              "887         887        1  0.020800  0.979200          888         1       1   \n",
              "888         888        0  0.889099  0.110901          889         0       3   \n",
              "889         889        1  0.525238  0.474762          890         1       1   \n",
              "890         890        0  0.739700  0.260300          891         0       3   \n",
              "\n",
              "                                                  Name     Sex   Age  SibSp  \\\n",
              "0                              Braund, Mr. Owen Harris    male  22.0      1   \n",
              "1    Cumings, Mrs. John Bradley (Florence Briggs Th...  female  38.0      1   \n",
              "2                               Heikkinen, Miss. Laina  female  26.0      0   \n",
              "3         Futrelle, Mrs. Jacques Heath (Lily May Peel)  female  35.0      1   \n",
              "4                             Allen, Mr. William Henry    male  35.0      0   \n",
              "..                                                 ...     ...   ...    ...   \n",
              "886                              Montvila, Rev. Juozas    male  27.0      0   \n",
              "887                       Graham, Miss. Margaret Edith  female  19.0      0   \n",
              "888           Johnston, Miss. Catherine Helen Carrie\"\"  female   NaN      1   \n",
              "889                              Behr, Mr. Karl Howell    male  26.0      0   \n",
              "890                                Dooley, Mr. Patrick    male  32.0      0   \n",
              "\n",
              "     Parch    Ticket     Fare Cabin Embarked    Cluster  Fare_ZScore  \\\n",
              "0        0       NaN   7.2500   NaN        S  Cluster 3    -0.502445   \n",
              "1        0       NaN  71.2833   C85        C  Cluster 3     0.786845   \n",
              "2        0       NaN   7.9250   NaN        S  Cluster 3    -0.488854   \n",
              "3        0  113803.0  53.1000  C123        S  Cluster 2     0.420730   \n",
              "4        0  373450.0   8.0500   NaN        S  Cluster 0    -0.486337   \n",
              "..     ...       ...      ...   ...      ...        ...          ...   \n",
              "886      0  211536.0  13.0000   NaN        S  Cluster 3    -0.386671   \n",
              "887      0  112053.0  30.0000   B42        S  Cluster 2    -0.044381   \n",
              "888      2       NaN  23.4500   NaN        S  Cluster 3    -0.176263   \n",
              "889      0  111369.0  30.0000  C148        C  Cluster 2    -0.044381   \n",
              "890      0  370376.0   7.7500   NaN        Q  Cluster 0    -0.492378   \n",
              "\n",
              "     Age_ZScore  \n",
              "0     -0.530377  \n",
              "1      0.571831  \n",
              "2     -0.254825  \n",
              "3      0.365167  \n",
              "4      0.365167  \n",
              "..          ...  \n",
              "886   -0.185937  \n",
              "887   -0.737041  \n",
              "888         NaN  \n",
              "889   -0.254825  \n",
              "890    0.158503  \n",
              "\n",
              "[891 rows x 19 columns]"
            ],
            "text/html": "<div>\n<style scoped>\n    .dataframe tbody tr th:only-of-type {\n        vertical-align: middle;\n    }\n\n    .dataframe tbody tr th {\n        vertical-align: top;\n    }\n\n    .dataframe thead th {\n        text-align: right;\n    }\n</style>\n<table border=\"1\" class=\"dataframe\">\n  <thead>\n    <tr style=\"text-align: right;\">\n      <th></th>\n      <th>Unnamed: 0</th>\n      <th>predict</th>\n      <th>p0</th>\n      <th>p1</th>\n      <th>PassengerId</th>\n      <th>Survived</th>\n      <th>Pclass</th>\n      <th>Name</th>\n      <th>Sex</th>\n      <th>Age</th>\n      <th>SibSp</th>\n      <th>Parch</th>\n      <th>Ticket</th>\n      <th>Fare</th>\n      <th>Cabin</th>\n      <th>Embarked</th>\n      <th>Cluster</th>\n      <th>Fare_ZScore</th>\n      <th>Age_ZScore</th>\n    </tr>\n  </thead>\n  <tbody>\n    <tr>\n      <th>0</th>\n      <td>0</td>\n      <td>0</td>\n      <td>0.984842</td>\n      <td>0.015158</td>\n      <td>1</td>\n      <td>0</td>\n      <td>3</td>\n      <td>Braund, Mr. Owen Harris</td>\n      <td>male</td>\n      <td>22.0</td>\n      <td>1</td>\n      <td>0</td>\n      <td>NaN</td>\n      <td>7.2500</td>\n      <td>NaN</td>\n      <td>S</td>\n      <td>Cluster 3</td>\n      <td>-0.502445</td>\n      <td>-0.530377</td>\n    </tr>\n    <tr>\n      <th>1</th>\n      <td>1</td>\n      <td>1</td>\n      <td>0.022236</td>\n      <td>0.977764</td>\n      <td>2</td>\n      <td>1</td>\n      <td>1</td>\n      <td>Cumings, Mrs. John Bradley (Florence Briggs Th...</td>\n      <td>female</td>\n      <td>38.0</td>\n      <td>1</td>\n      <td>0</td>\n      <td>NaN</td>\n      <td>71.2833</td>\n      <td>C85</td>\n      <td>C</td>\n      <td>Cluster 3</td>\n      <td>0.786845</td>\n      <td>0.571831</td>\n    </tr>\n    <tr>\n      <th>2</th>\n      <td>2</td>\n      <td>1</td>\n      <td>0.313374</td>\n      <td>0.686626</td>\n      <td>3</td>\n      <td>1</td>\n      <td>3</td>\n      <td>Heikkinen, Miss. Laina</td>\n      <td>female</td>\n      <td>26.0</td>\n      <td>0</td>\n      <td>0</td>\n      <td>NaN</td>\n      <td>7.9250</td>\n      <td>NaN</td>\n      <td>S</td>\n      <td>Cluster 3</td>\n      <td>-0.488854</td>\n      <td>-0.254825</td>\n    </tr>\n    <tr>\n      <th>3</th>\n      <td>3</td>\n      <td>1</td>\n      <td>0.010000</td>\n      <td>0.990000</td>\n      <td>4</td>\n      <td>1</td>\n      <td>1</td>\n      <td>Futrelle, Mrs. Jacques Heath (Lily May Peel)</td>\n      <td>female</td>\n      <td>35.0</td>\n      <td>1</td>\n      <td>0</td>\n      <td>113803.0</td>\n      <td>53.1000</td>\n      <td>C123</td>\n      <td>S</td>\n      <td>Cluster 2</td>\n      <td>0.420730</td>\n      <td>0.365167</td>\n    </tr>\n    <tr>\n      <th>4</th>\n      <td>4</td>\n      <td>0</td>\n      <td>0.971236</td>\n      <td>0.028764</td>\n      <td>5</td>\n      <td>0</td>\n      <td>3</td>\n      <td>Allen, Mr. William Henry</td>\n      <td>male</td>\n      <td>35.0</td>\n      <td>0</td>\n      <td>0</td>\n      <td>373450.0</td>\n      <td>8.0500</td>\n      <td>NaN</td>\n      <td>S</td>\n      <td>Cluster 0</td>\n      <td>-0.486337</td>\n      <td>0.365167</td>\n    </tr>\n    <tr>\n      <th>...</th>\n      <td>...</td>\n      <td>...</td>\n      <td>...</td>\n      <td>...</td>\n      <td>...</td>\n      <td>...</td>\n      <td>...</td>\n      <td>...</td>\n      <td>...</td>\n      <td>...</td>\n      <td>...</td>\n      <td>...</td>\n      <td>...</td>\n      <td>...</td>\n      <td>...</td>\n      <td>...</td>\n      <td>...</td>\n      <td>...</td>\n      <td>...</td>\n    </tr>\n    <tr>\n      <th>886</th>\n      <td>886</td>\n      <td>0</td>\n      <td>0.947372</td>\n      <td>0.052628</td>\n      <td>887</td>\n      <td>0</td>\n      <td>2</td>\n      <td>Montvila, Rev. Juozas</td>\n      <td>male</td>\n      <td>27.0</td>\n      <td>0</td>\n      <td>0</td>\n      <td>211536.0</td>\n      <td>13.0000</td>\n      <td>NaN</td>\n      <td>S</td>\n      <td>Cluster 3</td>\n      <td>-0.386671</td>\n      <td>-0.185937</td>\n    </tr>\n    <tr>\n      <th>887</th>\n      <td>887</td>\n      <td>1</td>\n      <td>0.020800</td>\n      <td>0.979200</td>\n      <td>888</td>\n      <td>1</td>\n      <td>1</td>\n      <td>Graham, Miss. Margaret Edith</td>\n      <td>female</td>\n      <td>19.0</td>\n      <td>0</td>\n      <td>0</td>\n      <td>112053.0</td>\n      <td>30.0000</td>\n      <td>B42</td>\n      <td>S</td>\n      <td>Cluster 2</td>\n      <td>-0.044381</td>\n      <td>-0.737041</td>\n    </tr>\n    <tr>\n      <th>888</th>\n      <td>888</td>\n      <td>0</td>\n      <td>0.889099</td>\n      <td>0.110901</td>\n      <td>889</td>\n      <td>0</td>\n      <td>3</td>\n      <td>Johnston, Miss. Catherine Helen Carrie\"\"</td>\n      <td>female</td>\n      <td>NaN</td>\n      <td>1</td>\n      <td>2</td>\n      <td>NaN</td>\n      <td>23.4500</td>\n      <td>NaN</td>\n      <td>S</td>\n      <td>Cluster 3</td>\n      <td>-0.176263</td>\n      <td>NaN</td>\n    </tr>\n    <tr>\n      <th>889</th>\n      <td>889</td>\n      <td>1</td>\n      <td>0.525238</td>\n      <td>0.474762</td>\n      <td>890</td>\n      <td>1</td>\n      <td>1</td>\n      <td>Behr, Mr. Karl Howell</td>\n      <td>male</td>\n      <td>26.0</td>\n      <td>0</td>\n      <td>0</td>\n      <td>111369.0</td>\n      <td>30.0000</td>\n      <td>C148</td>\n      <td>C</td>\n      <td>Cluster 2</td>\n      <td>-0.044381</td>\n      <td>-0.254825</td>\n    </tr>\n    <tr>\n      <th>890</th>\n      <td>890</td>\n      <td>0</td>\n      <td>0.739700</td>\n      <td>0.260300</td>\n      <td>891</td>\n      <td>0</td>\n      <td>3</td>\n      <td>Dooley, Mr. Patrick</td>\n      <td>male</td>\n      <td>32.0</td>\n      <td>0</td>\n      <td>0</td>\n      <td>370376.0</td>\n      <td>7.7500</td>\n      <td>NaN</td>\n      <td>Q</td>\n      <td>Cluster 0</td>\n      <td>-0.492378</td>\n      <td>0.158503</td>\n    </tr>\n  </tbody>\n</table>\n<p>891 rows × 19 columns</p>\n</div>"
          },
          "metadata": {},
          "execution_count": 10
        }
      ]
    },
    {
      "cell_type": "code",
      "execution_count": null,
      "metadata": {},
      "outputs": [],
      "source": []
    }
  ],
  "metadata": {
    "kernelspec": {
      "name": "python385jvsc74a57bd0c94be41889154d41bf43aca8d1a8d1cd64b97c119170e03e2ed46ca87183f0c5",
      "display_name": "Python 3.8.5 64-bit ('base': conda)"
    },
    "language_info": {
      "mimetype": "text/x-python",
      "nbconvert_exporter": "python",
      "name": "python",
      "pygments_lexer": "ipython3",
      "version": "3.8.5",
      "file_extension": ".py",
      "codemirror_mode": {
        "version": 3,
        "name": "ipython"
      }
    }
  },
  "nbformat": 4,
  "nbformat_minor": 2
}