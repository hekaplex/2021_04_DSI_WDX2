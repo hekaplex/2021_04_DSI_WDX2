{
  "cells": [
    {
      "metadata": {
        "trusted": true
      },
      "cell_type": "code",
      "source": "import pandas as pd\n\ndf = pd.read_csv('labtrain1.csv')",
      "execution_count": 1,
      "outputs": []
    },
    {
      "metadata": {
        "trusted": true
      },
      "cell_type": "code",
      "source": "df_no_zscore.describe()",
      "execution_count": null,
      "outputs": []
    },
    {
      "metadata": {
        "trusted": true
      },
      "cell_type": "code",
      "source": "df.describe()",
      "execution_count": 7,
      "outputs": [
        {
          "output_type": "execute_result",
          "execution_count": 7,
          "data": {
            "text/html": "<div>\n<style scoped>\n    .dataframe tbody tr th:only-of-type {\n        vertical-align: middle;\n    }\n\n    .dataframe tbody tr th {\n        vertical-align: top;\n    }\n\n    .dataframe thead th {\n        text-align: right;\n    }\n</style>\n<table border=\"1\" class=\"dataframe\">\n  <thead>\n    <tr style=\"text-align: right;\">\n      <th></th>\n      <th>Row_ID</th>\n      <th>Calendar_Year</th>\n      <th>Model_Year</th>\n      <th>NVVar1</th>\n      <th>NVVar2</th>\n      <th>NVVar3</th>\n      <th>NVVar4</th>\n      <th>HasLoss</th>\n      <th>NVVar1_ZScore</th>\n    </tr>\n  </thead>\n  <tbody>\n    <tr>\n      <th>count</th>\n      <td>5.332000e+03</td>\n      <td>5332.000000</td>\n      <td>5332.000000</td>\n      <td>5332.000000</td>\n      <td>5332.000000</td>\n      <td>5332.000000</td>\n      <td>5332.000000</td>\n      <td>5332.000000</td>\n      <td>5.332000e+03</td>\n    </tr>\n    <tr>\n      <th>mean</th>\n      <td>6.487360e+06</td>\n      <td>2006.052701</td>\n      <td>1999.383346</td>\n      <td>0.044210</td>\n      <td>0.078245</td>\n      <td>0.079615</td>\n      <td>0.055697</td>\n      <td>0.502251</td>\n      <td>2.585599e-15</td>\n    </tr>\n    <tr>\n      <th>std</th>\n      <td>3.825032e+06</td>\n      <td>0.815829</td>\n      <td>4.932872</td>\n      <td>1.098786</td>\n      <td>1.131062</td>\n      <td>1.128958</td>\n      <td>1.103533</td>\n      <td>0.500042</td>\n      <td>1.000094e+00</td>\n    </tr>\n    <tr>\n      <th>min</th>\n      <td>1.573000e+03</td>\n      <td>2005.000000</td>\n      <td>1981.000000</td>\n      <td>-0.231530</td>\n      <td>-0.266117</td>\n      <td>-0.272337</td>\n      <td>-0.251419</td>\n      <td>0.000000</td>\n      <td>-2.509735e-01</td>\n    </tr>\n    <tr>\n      <th>25%</th>\n      <td>3.229406e+06</td>\n      <td>2005.000000</td>\n      <td>1996.000000</td>\n      <td>-0.231530</td>\n      <td>-0.266117</td>\n      <td>-0.272337</td>\n      <td>-0.251419</td>\n      <td>0.000000</td>\n      <td>-2.509735e-01</td>\n    </tr>\n    <tr>\n      <th>50%</th>\n      <td>6.380048e+06</td>\n      <td>2006.000000</td>\n      <td>2000.000000</td>\n      <td>-0.231530</td>\n      <td>-0.266117</td>\n      <td>-0.272337</td>\n      <td>-0.251419</td>\n      <td>1.000000</td>\n      <td>-2.509735e-01</td>\n    </tr>\n    <tr>\n      <th>75%</th>\n      <td>9.802822e+06</td>\n      <td>2007.000000</td>\n      <td>2003.000000</td>\n      <td>-0.231530</td>\n      <td>-0.266117</td>\n      <td>-0.272337</td>\n      <td>-0.251419</td>\n      <td>1.000000</td>\n      <td>-2.509735e-01</td>\n    </tr>\n    <tr>\n      <th>max</th>\n      <td>1.318136e+07</td>\n      <td>2007.000000</td>\n      <td>2008.000000</td>\n      <td>6.627110</td>\n      <td>8.883081</td>\n      <td>8.691144</td>\n      <td>6.388802</td>\n      <td>1.000000</td>\n      <td>5.991626e+00</td>\n    </tr>\n  </tbody>\n</table>\n</div>",
            "text/plain": "             Row_ID  Calendar_Year   Model_Year       NVVar1       NVVar2  \\\ncount  5.332000e+03    5332.000000  5332.000000  5332.000000  5332.000000   \nmean   6.487360e+06    2006.052701  1999.383346     0.044210     0.078245   \nstd    3.825032e+06       0.815829     4.932872     1.098786     1.131062   \nmin    1.573000e+03    2005.000000  1981.000000    -0.231530    -0.266117   \n25%    3.229406e+06    2005.000000  1996.000000    -0.231530    -0.266117   \n50%    6.380048e+06    2006.000000  2000.000000    -0.231530    -0.266117   \n75%    9.802822e+06    2007.000000  2003.000000    -0.231530    -0.266117   \nmax    1.318136e+07    2007.000000  2008.000000     6.627110     8.883081   \n\n            NVVar3       NVVar4      HasLoss  NVVar1_ZScore  \ncount  5332.000000  5332.000000  5332.000000   5.332000e+03  \nmean      0.079615     0.055697     0.502251   2.585599e-15  \nstd       1.128958     1.103533     0.500042   1.000094e+00  \nmin      -0.272337    -0.251419     0.000000  -2.509735e-01  \n25%      -0.272337    -0.251419     0.000000  -2.509735e-01  \n50%      -0.272337    -0.251419     1.000000  -2.509735e-01  \n75%      -0.272337    -0.251419     1.000000  -2.509735e-01  \nmax       8.691144     6.388802     1.000000   5.991626e+00  "
          },
          "metadata": {}
        }
      ]
    },
    {
      "metadata": {
        "trusted": true
      },
      "cell_type": "code",
      "source": "df['NVVar1_ZScore'] = (df['NVVar1'] - df['NVVar1'].mean()) / df['NVVar1'].std(ddof=0)",
      "execution_count": null,
      "outputs": []
    },
    {
      "metadata": {
        "trusted": true
      },
      "cell_type": "code",
      "source": "df_no_zscore = df",
      "execution_count": null,
      "outputs": []
    },
    {
      "metadata": {
        "trusted": true
      },
      "cell_type": "code",
      "source": "df.to_csv('labtrain2.csv')",
      "execution_count": null,
      "outputs": []
    },
    {
      "metadata": {
        "trusted": true
      },
      "cell_type": "code",
      "source": "#reference do not run\ndf['NVVar1_ZScore'] \\\n    = (\n            df['NVVar1']  \\\n            -  \\\n            df['NVVar1'].mean() \\\n        )  \\\n            /  \\\n        df['NVVar1'].std(ddof=0)",
      "execution_count": 6,
      "outputs": []
    },
    {
      "metadata": {
        "trusted": true
      },
      "cell_type": "code",
      "source": "",
      "execution_count": null,
      "outputs": []
    }
  ],
  "metadata": {
    "kernelspec": {
      "name": "python36",
      "display_name": "Python 3.6",
      "language": "python"
    },
    "language_info": {
      "mimetype": "text/x-python",
      "nbconvert_exporter": "python",
      "name": "python",
      "pygments_lexer": "ipython3",
      "version": "3.6.6",
      "file_extension": ".py",
      "codemirror_mode": {
        "version": 3,
        "name": "ipython"
      }
    }
  },
  "nbformat": 4,
  "nbformat_minor": 2
}