{
 "cells": [
  {
   "cell_type": "markdown",
   "metadata": {},
   "source": [
    "# Lesson 7: Advanced Web Scraping and Data Gathering\n",
    "## Topic 1: Basics of web-scraping using `requests` and `BeautifulSoup` libraries"
   ]
  },
  {
   "cell_type": "markdown",
   "metadata": {},
   "source": [
    "### Import `requests` library"
   ]
  },
  {
   "cell_type": "code",
   "execution_count": 1,
   "metadata": {},
   "outputs": [],
   "source": [
    "import requests"
   ]
  },
  {
   "cell_type": "code",
   "execution_count": 9,
   "metadata": {},
   "outputs": [
    {
     "data": {
      "text/plain": [
       "'choc'"
      ]
     },
     "execution_count": 9,
     "metadata": {},
     "output_type": "execute_result"
    }
   ],
   "source": [
    "foo = \"choc\"\n",
    "foo \\\n",
    ".upper() \\\n",
    ".lower()"
   ]
  },
  {
   "cell_type": "markdown",
   "metadata": {},
   "source": [
    "### Exercise 1: Use `requests` to get a response from the Wikipedia home page"
   ]
  },
  {
   "cell_type": "code",
   "execution_count": 2,
   "metadata": {},
   "outputs": [],
   "source": [
    "# First assign the URL of Wikipedia home page to a string \n",
    "wiki_home = \"https://en.wikipedia.org/wiki/Main_Page\""
   ]
  },
  {
   "cell_type": "code",
   "execution_count": 4,
   "metadata": {},
   "outputs": [],
   "source": [
    "# Use the 'get' method from requests library to get a response\n",
    "response = requests.get(wiki_home)"
   ]
  },
  {
   "cell_type": "code",
   "execution_count": 65,
   "metadata": {},
   "outputs": [
    {
     "data": {
      "text/plain": [
       "requests.models.Response"
      ]
     },
     "execution_count": 65,
     "metadata": {},
     "output_type": "execute_result"
    }
   ],
   "source": [
    "# What is this 'response' object anyway\n",
    "type(response)"
   ]
  },
  {
   "cell_type": "markdown",
   "metadata": {},
   "source": [
    "### Exercise 2: Write a small function to check the status of web request\n",
    "\n",
    "This kind of small helper/utility functions are incredibly useful for complex projects.\n",
    "\n",
    "Start building **a habit of writing small functions to accomplish small modular tasks**, instead of writing long scripts, which are hard to debug and track."
   ]
  },
  {
   "cell_type": "code",
   "execution_count": 66,
   "metadata": {},
   "outputs": [],
   "source": [
    "def status_check(r):\n",
    "    if r.status_code==200:\n",
    "        print(\"Success!\")\n",
    "        return 1\n",
    "    else:\n",
    "        print(\"Failed!\")\n",
    "        return -1"
   ]
  },
  {
   "cell_type": "code",
   "execution_count": 67,
   "metadata": {},
   "outputs": [
    {
     "name": "stdout",
     "output_type": "stream",
     "text": [
      "Success!\n"
     ]
    },
    {
     "data": {
      "text/plain": [
       "1"
      ]
     },
     "execution_count": 67,
     "metadata": {},
     "output_type": "execute_result"
    }
   ],
   "source": [
    "status_check(response)"
   ]
  },
  {
   "cell_type": "markdown",
   "metadata": {},
   "source": [
    "### Exercise 3: Write small function to check the encoding of the web page"
   ]
  },
  {
   "cell_type": "code",
   "execution_count": 68,
   "metadata": {},
   "outputs": [],
   "source": [
    "def encoding_check(r):\n",
    "    return (r.encoding)"
   ]
  },
  {
   "cell_type": "code",
   "execution_count": 69,
   "metadata": {},
   "outputs": [
    {
     "data": {
      "text/plain": [
       "'UTF-8'"
      ]
     },
     "execution_count": 69,
     "metadata": {},
     "output_type": "execute_result"
    }
   ],
   "source": [
    "encoding_check(response)"
   ]
  },
  {
   "cell_type": "markdown",
   "metadata": {},
   "source": [
    "### Exercise 4: Write a small function to decode the concents of the `response`"
   ]
  },
  {
   "cell_type": "code",
   "execution_count": 70,
   "metadata": {},
   "outputs": [],
   "source": [
    "def decode_content(r,encoding):\n",
    "    return (r.content.decode(encoding))"
   ]
  },
  {
   "cell_type": "code",
   "execution_count": 71,
   "metadata": {},
   "outputs": [],
   "source": [
    "contents = decode_content(response,encoding_check(response))"
   ]
  },
  {
   "cell_type": "markdown",
   "metadata": {},
   "source": [
    "#### What is the type of the contents?"
   ]
  },
  {
   "cell_type": "code",
   "execution_count": 72,
   "metadata": {},
   "outputs": [
    {
     "data": {
      "text/plain": [
       "str"
      ]
     },
     "execution_count": 72,
     "metadata": {},
     "output_type": "execute_result"
    }
   ],
   "source": [
    "type(contents)"
   ]
  },
  {
   "cell_type": "markdown",
   "metadata": {},
   "source": [
    "#### Fantastic! Finally we got a string object. Did you see how easy it was to read text from a popular webpage like Wikipedia?"
   ]
  },
  {
   "cell_type": "markdown",
   "metadata": {},
   "source": [
    "### Exercise 5: Check the length of the text you got back and print some selected portions"
   ]
  },
  {
   "cell_type": "code",
   "execution_count": 73,
   "metadata": {},
   "outputs": [
    {
     "data": {
      "text/plain": [
       "76942"
      ]
     },
     "execution_count": 73,
     "metadata": {},
     "output_type": "execute_result"
    }
   ],
   "source": [
    "len(contents)"
   ]
  },
  {
   "cell_type": "code",
   "execution_count": 74,
   "metadata": {},
   "outputs": [
    {
     "name": "stdout",
     "output_type": "stream",
     "text": [
      "<!DOCTYPE html>\n",
      "<html class=\"client-nojs\" lang=\"en\" dir=\"ltr\">\n",
      "<head>\n",
      "<meta charset=\"UTF-8\"/>\n",
      "<title>Wikipedia, the free encyclopedia</title>\n",
      "<script>document.documentElement.className = document.documentElement.className.replace( /(^|\\s)client-nojs(\\s|$)/, \"$1client-js$2\" );</script>\n",
      "<script>(window.RLQ=window.RLQ||[]).push(function(){mw.config.set({\"wgCanonicalNamespace\":\"\",\"wgCanonicalSpecialPageName\":false,\"wgNamespaceNumber\":0,\"wgPageName\":\"Main_Page\",\"wgTitle\":\"Main Page\",\"wgCurRevisionId\":865422981,\"wgRevisionId\":865422981,\"wgArticleId\":15580374,\"wgIsArticle\":true,\"wgIsRedirect\":false,\"wgAction\":\"view\",\"wgUserName\":null,\"wgUserGroups\":[\"*\"],\"wgCategories\":[],\"wgBreakFrames\":false,\"wgPageContentLanguage\":\"en\",\"wgPageContentModel\":\"wikitext\",\"wgSeparatorTransformTable\":[\"\",\"\"],\"wgDigitTransformTable\":[\"\",\"\"],\"wgDefaultDateFormat\":\"dmy\",\"wgMonthNames\":[\"\",\"January\",\"February\",\"March\",\"April\",\"May\",\"June\",\"July\",\"August\",\"September\",\"October\",\"November\",\"December\"],\"wgMonthNamesShor\n"
     ]
    }
   ],
   "source": [
    "print(contents[:1000])"
   ]
  },
  {
   "cell_type": "code",
   "execution_count": 75,
   "metadata": {},
   "outputs": [
    {
     "name": "stdout",
     "output_type": "stream",
     "text": [
      "y_I_Soter_Louvre_Ma849.jpg/160px-Ptolemy_I_Soter_Louvre_Ma849.jpg 2x\" data-file-width=\"2700\" data-file-height=\"4050\" /></a><div class=\"thumbcaption\" style=\"padding: 0.25em 0; word-wrap: break-word;\">Bust of Ptolemy I in the <a href=\"/wiki/Louvre\" title=\"Louvre\">Louvre</a></div></div>\n",
      "</div>\n",
      "<ul><li>... that <b><a href=\"/wiki/Ptolemy_I_Soter\" title=\"Ptolemy I Soter\">Ptolemy I Soter</a></b> <i>(pictured)</i>, a companion of <a href=\"/wiki/Alexander_the_Great\" title=\"Alexander the Great\">Alexander the Great</a>, founded the <a href=\"/wiki/Ptolemaic_dynasty\" title=\"Ptolemaic dynasty\">Ptolemaic dynasty</a> to which <a href=\"/wiki/Cleopatra\" title=\"Cleopatra\">Cleopatra</a> belonged?</li>\n",
      "<li>... that the novella <i><b><a href=\"/wiki/Aus_dem_Leben_eines_Taugenichts\" title=\"Aus dem Leben eines Taugenichts\">Aus dem Leben eines Taugenichts</a></b></i> was translated as <i>Memoirs of a Good-for-Nothing</i> several times, the first in 1866 by <a href=\"/wiki/Charles_Godfrey_Leland\" title=\"Charles G\n"
     ]
    }
   ],
   "source": [
    "print(contents[15000:16000])"
   ]
  },
  {
   "cell_type": "markdown",
   "metadata": {},
   "source": [
    "### Exercise 6: Use `BeautifulSoup` package to parse the raw HTML text more meaningfully and search for a particular text"
   ]
  },
  {
   "cell_type": "code",
   "execution_count": 76,
   "metadata": {},
   "outputs": [],
   "source": [
    "from bs4 import BeautifulSoup"
   ]
  },
  {
   "cell_type": "code",
   "execution_count": 77,
   "metadata": {},
   "outputs": [],
   "source": [
    "soup = BeautifulSoup(contents, 'html.parser')"
   ]
  },
  {
   "cell_type": "markdown",
   "metadata": {},
   "source": [
    "#### What is this new `soup` object?"
   ]
  },
  {
   "cell_type": "code",
   "execution_count": 78,
   "metadata": {},
   "outputs": [
    {
     "data": {
      "text/plain": [
       "bs4.BeautifulSoup"
      ]
     },
     "execution_count": 78,
     "metadata": {},
     "output_type": "execute_result"
    }
   ],
   "source": [
    "type(soup)"
   ]
  },
  {
   "cell_type": "markdown",
   "metadata": {},
   "source": [
    "### Exercise 7: Can we somehow read intelligible text from this `soup` object?"
   ]
  },
  {
   "cell_type": "code",
   "execution_count": 79,
   "metadata": {},
   "outputs": [],
   "source": [
    "txt_dump=soup.text"
   ]
  },
  {
   "cell_type": "code",
   "execution_count": 80,
   "metadata": {},
   "outputs": [
    {
     "data": {
      "text/plain": [
       "str"
      ]
     },
     "execution_count": 80,
     "metadata": {},
     "output_type": "execute_result"
    }
   ],
   "source": [
    "type(txt_dump)"
   ]
  },
  {
   "cell_type": "code",
   "execution_count": 81,
   "metadata": {},
   "outputs": [
    {
     "data": {
      "text/plain": [
       "15986"
      ]
     },
     "execution_count": 81,
     "metadata": {},
     "output_type": "execute_result"
    }
   ],
   "source": [
    "len(txt_dump)"
   ]
  },
  {
   "cell_type": "code",
   "execution_count": 82,
   "metadata": {},
   "outputs": [
    {
     "name": "stdout",
     "output_type": "stream",
     "text": [
      " (11 lb) in mass, with short ears and tail. The rock hyrax is found across Africa and the Middle East, at elevations up to 4,200 metres (13,800 ft). It resides in habitats with rock crevices which it uses to escape from predators. Along with the other hyrax species and the manatee, these are the animals most closely related to the elephant.\n",
      "\n",
      "Photograph: Charles J. Sharp\n",
      "\n",
      "Recently featured: \n",
      "World War I\n",
      "Soyuz TMA-14M\n",
      "Embryonic stem cell\n",
      "\n",
      "\n",
      "Archive\n",
      "More featured pictures\n",
      "\n",
      "\n",
      "\n",
      "\n",
      "\n",
      "Other areas of Wikipedia\n",
      "\n",
      "Community portal – Bulletin board, projects, resources and activities covering a wide range of Wikipedia areas.\n",
      "Help desk – Ask questions about using Wikipedia.\n",
      "Local embassy – For Wikipedia-related communication in languages other than English.\n",
      "Reference desk – Serving as virtual librarians, Wikipedia volunteers tackle your questions on a wide range of subjects.\n",
      "Site news – Announcements, updates, articles and press releases on Wikipedia and the Wikimedia Foundation.\n",
      "Village pump – For disc\n"
     ]
    }
   ],
   "source": [
    "print(txt_dump[10000:11000])"
   ]
  },
  {
   "cell_type": "markdown",
   "metadata": {},
   "source": [
    "### Exercise 8: Extract the text from the section *'From today's featured article'*"
   ]
  },
  {
   "cell_type": "code",
   "execution_count": 83,
   "metadata": {},
   "outputs": [],
   "source": [
    "# First extract the starting and end indecies of the text we are interested in\n",
    "idx1=txt_dump.find(\"From today's featured article\")\n",
    "idx2=txt_dump.find(\"Recently featured\")"
   ]
  },
  {
   "cell_type": "code",
   "execution_count": 84,
   "metadata": {},
   "outputs": [
    {
     "name": "stdout",
     "output_type": "stream",
     "text": [
      "\n",
      "\n",
      "\n",
      "Archie vs. Predator is a comic book series written by Alex de Campi (pictured) of Dark Horse Comics and drawn by Fernando Ruiz of Archie Comics. It features Predator, a deadly alien trophy hunter, who stalks the clean-cut teenager Archie Andrews and his high school classmates, until the survivors realize they are being hunted and fight back. A four-issue limited series was released in the US in 2015 between April and July, and a hardcover collection went on sale in November. Archie Comics proposed the idea to Dark Horse, which holds the license to comics featuring 20th Century Fox's Predator. The series received positive reviews from critics, who enjoyed the strange matchup and dark humor. The April issue was the top seller for both publishers, and garnered an average review rating of 7.9 out of 10 according to the review aggregator Comic Book Roundup. The series won a Ghastly Award for Best Limited Series. (Full article...)\n",
      "\n",
      "\n",
      "\n"
     ]
    }
   ],
   "source": [
    "print(txt_dump[idx1+len(\"From today's featured article\"):idx2])"
   ]
  },
  {
   "cell_type": "markdown",
   "metadata": {},
   "source": [
    "### Exercise 9: Try to extract the important historical events that happened on today's date..."
   ]
  },
  {
   "cell_type": "code",
   "execution_count": 85,
   "metadata": {},
   "outputs": [],
   "source": [
    "idx3=txt_dump.find(\"On this day\")"
   ]
  },
  {
   "cell_type": "code",
   "execution_count": 86,
   "metadata": {},
   "outputs": [
    {
     "name": "stdout",
     "output_type": "stream",
     "text": [
      "\n",
      "\n",
      "November 12\n",
      "\n",
      "\n",
      "\n",
      "William Heffelfinger\n",
      "\n",
      "1892 – William Heffelfinger (pictured) was paid $500 by the Allegheny Athletic Association, becoming the first professional American football player on record.\n",
      "1912 – The bodies of Robert Falcon Scott and his companions were discovered, roughly eight months after their deaths during the ill-fated British Antarctic Expedition 1910.\n",
      "1928 – At least 110 people died after the British ocean liner SS Vestris was abandoned as it sank in the western Atlantic Ocean.\n",
      "1940 – World War II: Free French forces captured Gabon from Vichy France.\n",
      "2011 – A blast in Iran's Shahid Modarres missile base led to the death of 17 members of the Revolutionary Guards, including Hassan Tehrani Moghaddam, a key figure in Iran's missile program.\n",
      "Claude of France (b. 1547) · William Henry Barlow (d. 1902) · Naomi Wolf (b. 1962)\n",
      "\n",
      "\n",
      "More anniversaries: \n",
      "November 11\n",
      "November 12\n",
      "November 13\n",
      "\n",
      "\n",
      "Archive\n",
      "By email\n",
      "List of historical anniversaries\n",
      "\n",
      "\n",
      "\n",
      "\n",
      "From today's featured list\n",
      "\n",
      "Gary Able\n"
     ]
    }
   ],
   "source": [
    "print(txt_dump[idx3+len(\"On this day\"):idx3+len(\"On this day\")+1000])"
   ]
  },
  {
   "cell_type": "markdown",
   "metadata": {},
   "source": [
    "### Exercise 10: Use advanced BS4 technique to extract relevant text without guessing or hard coding where to look"
   ]
  },
  {
   "cell_type": "code",
   "execution_count": 87,
   "metadata": {},
   "outputs": [
    {
     "name": "stdout",
     "output_type": "stream",
     "text": [
      "1892 – William Heffelfinger (pictured) was paid $500 by the Allegheny Athletic Association, becoming the first professional American football player on record.\n",
      "1912 – The bodies of Robert Falcon Scott and his companions were discovered, roughly eight months after their deaths during the ill-fated British Antarctic Expedition 1910.\n",
      "1928 – At least 110 people died after the British ocean liner SS Vestris was abandoned as it sank in the western Atlantic Ocean.\n",
      "1940 – World War II: Free French forces captured Gabon from Vichy France.\n",
      "2011 – A blast in Iran's Shahid Modarres missile base led to the death of 17 members of the Revolutionary Guards, including Hassan Tehrani Moghaddam, a key figure in Iran's missile program.\n",
      "November 11\n",
      "November 12\n",
      "November 13\n",
      "Archive\n",
      "By email\n",
      "List of historical anniversaries\n"
     ]
    }
   ],
   "source": [
    "for d in soup.find_all('div'):\n",
    "        if (d.get('id')=='mp-otd'):\n",
    "            for i in d.find_all('ul'):\n",
    "                print(i.text)"
   ]
  },
  {
   "cell_type": "code",
   "execution_count": 109,
   "metadata": {},
   "outputs": [],
   "source": [
    "text_list=[]\n",
    "for d in soup.find_all('div'):\n",
    "        if (d.get('id')=='mp-otd'):\n",
    "            for i in d.find_all('ul'):\n",
    "                text_list.append(i.text)"
   ]
  },
  {
   "cell_type": "code",
   "execution_count": 110,
   "metadata": {},
   "outputs": [
    {
     "data": {
      "text/plain": [
       "3"
      ]
     },
     "execution_count": 110,
     "metadata": {},
     "output_type": "execute_result"
    }
   ],
   "source": [
    "len(text_list)"
   ]
  },
  {
   "cell_type": "code",
   "execution_count": 111,
   "metadata": {},
   "outputs": [
    {
     "name": "stdout",
     "output_type": "stream",
     "text": [
      "1892 – William Heffelfinger (pictured) was paid $500 by the Allegheny Athletic Association, becoming the first professional American football player on record.\n",
      "1912 – The bodies of Robert Falcon Scott and his companions were discovered, roughly eight months after their deaths during the ill-fated British Antarctic Expedition 1910.\n",
      "1928 – At least 110 people died after the British ocean liner SS Vestris was abandoned as it sank in the western Atlantic Ocean.\n",
      "1940 – World War II: Free French forces captured Gabon from Vichy France.\n",
      "2011 – A blast in Iran's Shahid Modarres missile base led to the death of 17 members of the Revolutionary Guards, including Hassan Tehrani Moghaddam, a key figure in Iran's missile program.\n",
      "----------------------------------------------------------------------------------------------------\n",
      "November 11\n",
      "November 12\n",
      "November 13\n",
      "----------------------------------------------------------------------------------------------------\n",
      "Archive\n",
      "By email\n",
      "List of historical anniversaries\n",
      "----------------------------------------------------------------------------------------------------\n"
     ]
    }
   ],
   "source": [
    "for i in text_list:\n",
    "    print(i)\n",
    "    print('-'*100)"
   ]
  },
  {
   "cell_type": "code",
   "execution_count": 112,
   "metadata": {},
   "outputs": [
    {
     "name": "stdout",
     "output_type": "stream",
     "text": [
      "1892 – William Heffelfinger (pictured) was paid $500 by the Allegheny Athletic Association, becoming the first professional American football player on record.\n",
      "1912 – The bodies of Robert Falcon Scott and his companions were discovered, roughly eight months after their deaths during the ill-fated British Antarctic Expedition 1910.\n",
      "1928 – At least 110 people died after the British ocean liner SS Vestris was abandoned as it sank in the western Atlantic Ocean.\n",
      "1940 – World War II: Free French forces captured Gabon from Vichy France.\n",
      "2011 – A blast in Iran's Shahid Modarres missile base led to the death of 17 members of the Revolutionary Guards, including Hassan Tehrani Moghaddam, a key figure in Iran's missile program.\n"
     ]
    }
   ],
   "source": [
    "print(text_list[0])"
   ]
  },
  {
   "cell_type": "markdown",
   "metadata": {},
   "source": [
    "### Functionalize this process i.e. write a compact function to extract \"On this day\" text from Wikipedia Home Page"
   ]
  },
  {
   "cell_type": "code",
   "execution_count": 122,
   "metadata": {},
   "outputs": [],
   "source": [
    "def wiki_on_this_day(url=\"https://en.wikipedia.org/wiki/Main_Page\"):\n",
    "    \"\"\"\n",
    "    Extracts the text corresponding to the \"On this day\" section on the Wikipedia Home Page.\n",
    "    Accepts the Wikipedia Home Page URL as a string, a default URL is provided.\n",
    "    \"\"\"\n",
    "    import requests\n",
    "    from bs4 import BeautifulSoup\n",
    "    \n",
    "    wiki_home = str(url)\n",
    "    response = requests.get(wiki_home)\n",
    "    \n",
    "    def status_check(r):\n",
    "        if r.status_code==200:\n",
    "            return 1\n",
    "        else:\n",
    "            return -1\n",
    "    \n",
    "    status = status_check(response)\n",
    "    if status==1:\n",
    "        contents = decode_content(response,encoding_check(response))\n",
    "    else:\n",
    "        print(\"Sorry could not reach the web page!\")\n",
    "        return -1\n",
    "    \n",
    "    soup = BeautifulSoup(contents, 'html.parser')\n",
    "    text_list=[]\n",
    "    \n",
    "    for d in soup.find_all('div'):\n",
    "            if (d.get('id')=='mp-otd'):\n",
    "                for i in d.find_all('ul'):\n",
    "                    text_list.append(i.text)\n",
    "    \n",
    "    return (text_list[0])"
   ]
  },
  {
   "cell_type": "code",
   "execution_count": 123,
   "metadata": {},
   "outputs": [
    {
     "name": "stdout",
     "output_type": "stream",
     "text": [
      "1892 – William Heffelfinger (pictured) was paid $500 by the Allegheny Athletic Association, becoming the first professional American football player on record.\n",
      "1912 – The bodies of Robert Falcon Scott and his companions were discovered, roughly eight months after their deaths during the ill-fated British Antarctic Expedition 1910.\n",
      "1928 – At least 110 people died after the British ocean liner SS Vestris was abandoned as it sank in the western Atlantic Ocean.\n",
      "1940 – World War II: Free French forces captured Gabon from Vichy France.\n",
      "2011 – A blast in Iran's Shahid Modarres missile base led to the death of 17 members of the Revolutionary Guards, including Hassan Tehrani Moghaddam, a key figure in Iran's missile program.\n"
     ]
    }
   ],
   "source": [
    "print(wiki_on_this_day())"
   ]
  },
  {
   "cell_type": "markdown",
   "metadata": {},
   "source": [
    "#### A wrong URL produces an error message as expected"
   ]
  },
  {
   "cell_type": "code",
   "execution_count": 124,
   "metadata": {},
   "outputs": [
    {
     "name": "stdout",
     "output_type": "stream",
     "text": [
      "Sorry could not reach the web page!\n",
      "-1\n"
     ]
    }
   ],
   "source": [
    "print(wiki_on_this_day(\"https://en.wikipedia.org/wiki/Main_Page1\"))"
   ]
  }
 ],
 "metadata": {
  "kernelspec": {
   "display_name": "Python 3",
   "language": "python",
   "name": "python3"
  },
  "language_info": {
   "codemirror_mode": {
    "name": "ipython",
    "version": 3
   },
   "file_extension": ".py",
   "mimetype": "text/x-python",
   "name": "python",
   "nbconvert_exporter": "python",
   "pygments_lexer": "ipython3",
   "version": "3.8.5"
  },
  "latex_envs": {
   "LaTeX_envs_menu_present": true,
   "autoclose": false,
   "autocomplete": true,
   "bibliofile": "biblio.bib",
   "cite_by": "apalike",
   "current_citInitial": 1,
   "eqLabelWithNumbers": true,
   "eqNumInitial": 1,
   "hotkeys": {
    "equation": "Ctrl-E",
    "itemize": "Ctrl-I"
   },
   "labels_anchors": false,
   "latex_user_defs": false,
   "report_style_numbering": false,
   "user_envs_cfg": false
  }
 },
 "nbformat": 4,
 "nbformat_minor": 2
}
