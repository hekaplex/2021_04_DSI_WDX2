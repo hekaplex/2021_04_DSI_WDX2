{
 "cells": [
  {
   "cell_type": "markdown",
   "metadata": {},
   "source": [
    "## Numbers"
   ]
  },
  {
   "cell_type": "code",
   "execution_count": 6,
   "metadata": {},
   "outputs": [
    {
     "output_type": "stream",
     "name": "stdout",
     "text": [
      "Balance = 100.1\nBalance = 200.2\nBalance = 300.29999999999995\nBalance = 300.3\nBalance = 200.20\nBalance = 100.1\n"
     ]
    }
   ],
   "source": [
    "\n",
    "balance = 100.10\n",
    "print(\"Balance =\", balance)\n",
    "#balance = balance + 100.10\n",
    "balance += 100.10\n",
    "print(\"Balance =\", balance)\n",
    "balance += 100.10\n",
    "print(\"Balance =\", balance)\n",
    "balance = round(balance, 2)\n",
    "print(\"Balance =\", balance)\n",
    "#balance = balance + 100.10\n",
    "balance -= 100.10\n",
    "print(\"Balance = {:.2f}\".format(balance))\n",
    "balance -= 100.10\n",
    "print(\"Balance =\", round(balance,2))\n"
   ]
  },
  {
   "cell_type": "code",
   "execution_count": 7,
   "metadata": {},
   "outputs": [
    {
     "output_type": "stream",
     "name": "stdout",
     "text": [
      "pow(balance, pow):  9.132835977508634e+94\nsqrt(balance):  10.00499875062461\nceil(balance):  101\nfloor(balance):  100\n"
     ]
    }
   ],
   "source": [
    "import math as m\n",
    "pw = 47.47\n",
    "print(\"pow(balance, pow): \",m.pow(balance, pw))\n",
    "print(\"sqrt(balance): \",m.sqrt(balance))\n",
    "print(\"ceil(balance): \",m.ceil(balance))\n",
    "print(\"floor(balance): \",m.floor(balance))\n"
   ]
  },
  {
   "cell_type": "code",
   "execution_count": 8,
   "metadata": {},
   "outputs": [],
   "source": [
    "radius = 12\n",
    "circumference = m.pi * radius * 2    # 75.39822368615503\n",
    "area = m.pi * m.pow(radius, 2)       # 452.3893421169302\n",
    "area = m.pi * radius**2              # 452.3893421169302\n"
   ]
  },
  {
   "cell_type": "code",
   "execution_count": 9,
   "metadata": {},
   "outputs": [
    {
     "output_type": "stream",
     "name": "stdout",
     "text": [
      "452.3893421169302 75.39822368615503\n"
     ]
    }
   ],
   "source": [
    "print(area,circumference)"
   ]
  },
  {
   "cell_type": "code",
   "execution_count": 10,
   "metadata": {},
   "outputs": [
    {
     "output_type": "stream",
     "name": "stdout",
     "text": [
      "area: 452.3893421169302, circumference: 75.39822368615503\narea: 75.39822368615503, circumference: 452.3893421169302\n"
     ]
    }
   ],
   "source": [
    "print(\"area: {}, circumference: {}\".format(area,circumference))\n",
    "print(\"area: {}, circumference: {}\".format(circumference,area))\n"
   ]
  },
  {
   "cell_type": "code",
   "execution_count": 11,
   "metadata": {},
   "outputs": [
    {
     "output_type": "execute_result",
     "data": {
      "text/plain": [
       "452.3893421169302"
      ]
     },
     "metadata": {},
     "execution_count": 11
    }
   ],
   "source": [
    "area"
   ]
  },
  {
   "cell_type": "code",
   "execution_count": 12,
   "metadata": {},
   "outputs": [
    {
     "output_type": "stream",
     "name": "stdout",
     "text": [
      "basic float 452.39\nmore decimal float 452.3893\nstill more decimal float 452.389342\nstill more  fancy format          452.39\npercentage 45238.934212%\n"
     ]
    }
   ],
   "source": [
    "print(\"basic float {:.2f}\".format(area))\n",
    "print(\"more decimal float {:.4f}\".format(area))\n",
    "print(\"still more decimal float {:.6f}\".format(area))\n",
    "print(\"still more  fancy format {:15,.2f}\".format(area))\n",
    "print(\"percentage {:2%}\".format(area))"
   ]
  },
  {
   "cell_type": "code",
   "execution_count": 13,
   "metadata": {},
   "outputs": [
    {
     "output_type": "stream",
     "name": "stdout",
     "text": [
      "integer basic 45200\ninteger basic 45,200\ninteger basic 45.200\n"
     ]
    }
   ],
   "source": [
    "arn = int(area)*100\n",
    "print(\"integer basic {:d}\".format(arn))\n",
    "print(\"integer basic {:,d}\".format(arn))\n",
    "print(\"integer basic {:,d}\".format(arn).replace(',','.'))\n"
   ]
  },
  {
   "cell_type": "code",
   "execution_count": 14,
   "metadata": {},
   "outputs": [
    {
     "output_type": "stream",
     "name": "stdout",
     "text": [
      "unscientific decimal 1.05218359963419410432e+20 \nbasic float 1.05e+20\nmore decimal float 1.0522e+20\nstill more decimal float 1.052184e+20\n"
     ]
    }
   ],
   "source": [
    "areabig = pow(area,circumference/10)\n",
    "print(\"unscientific decimal {:.20e} \".format(areabig))\n",
    "print(\"basic float {:.2e}\".format(areabig))\n",
    "print(\"more decimal float {:.4e}\".format(areabig))\n",
    "print(\"still more decimal float {:.6e}\".format(areabig))"
   ]
  },
  {
   "cell_type": "code",
   "execution_count": 15,
   "metadata": {},
   "outputs": [
    {
     "output_type": "stream",
     "name": "stdout",
     "text": [
      "Description        Price   Qty\nHammer             9.99     3\nNails             14.50    10\n"
     ]
    }
   ],
   "source": [
    "print(\"{:10} {:>12} {:>5}\".format(\"Description\", \"Price\", \"Qty\"))\n",
    "print(\"{:10} {:12.2f} {:5d}\".format(\"Hammer\", 9.99, 3))\n",
    "print(\"{:10} {:12.2f} {:5d}\".format(\"Nails\", 14.5, 10))"
   ]
  },
  {
   "cell_type": "code",
   "execution_count": 16,
   "metadata": {},
   "outputs": [],
   "source": [
    "import locale as lc"
   ]
  },
  {
   "cell_type": "code",
   "execution_count": 17,
   "metadata": {},
   "outputs": [
    {
     "output_type": "execute_result",
     "data": {
      "text/plain": [
       "'en_US'"
      ]
     },
     "metadata": {},
     "execution_count": 17
    }
   ],
   "source": [
    "#May have to do for Mac\n",
    "lc.setlocale(lc.LC_ALL,\"en_US\")"
   ]
  },
  {
   "cell_type": "code",
   "execution_count": 18,
   "metadata": {},
   "outputs": [
    {
     "output_type": "execute_result",
     "data": {
      "text/plain": [
       "'English_United States.1252'"
      ]
     },
     "metadata": {},
     "execution_count": 18
    }
   ],
   "source": [
    "lc.setlocale(lc.LC_ALL,\"us\")"
   ]
  },
  {
   "cell_type": "code",
   "execution_count": 19,
   "metadata": {},
   "outputs": [
    {
     "output_type": "stream",
     "name": "stdout",
     "text": [
      "$34109.35\n$34,109.35\n"
     ]
    }
   ],
   "source": [
    "currency_val = area*circumference\n",
    "print(lc.currency(currency_val))\n",
    "print(lc.currency(currency_val,grouping=True))"
   ]
  },
  {
   "cell_type": "code",
   "execution_count": 20,
   "metadata": {},
   "outputs": [
    {
     "output_type": "stream",
     "name": "stdout",
     "text": [
      "¤34109.35\n¤34,109.35\n"
     ]
    },
    {
     "output_type": "execute_result",
     "data": {
      "text/plain": [
       "'English_United States.1252'"
      ]
     },
     "metadata": {},
     "execution_count": 20
    }
   ],
   "source": [
    "lc.setlocale(lc.LC_ALL,\"en_UK\")\n",
    "currency_val = area*circumference\n",
    "print(lc.currency(currency_val))\n",
    "print(lc.currency(currency_val,grouping=True))\n",
    "lc.setlocale(lc.LC_ALL,\"us\")"
   ]
  },
  {
   "cell_type": "code",
   "execution_count": 21,
   "metadata": {},
   "outputs": [
    {
     "output_type": "stream",
     "name": "stdout",
     "text": [
      "34,109\n34,109.352810\n"
     ]
    }
   ],
   "source": [
    "print(lc.format_string(\"%d\",currency_val,grouping=True))\n",
    "print(lc.format_string(\"%2f\",currency_val,grouping=True))"
   ]
  },
  {
   "cell_type": "code",
   "execution_count": 33,
   "metadata": {},
   "outputs": [],
   "source": [
    "order_total = float(input(\"Enter order total: \"))\n",
    "print()               \n",
    "\n",
    "# determine discount percent\n",
    "if order_total > 0 and order_total < 100:\n",
    "    discount_percent = 0\n",
    "elif order_total >= 100 and order_total < 250:\n",
    "    discount_percent = .1\n",
    "elif order_total >= 250:\n",
    "    discount_percent = .2\n",
    "\n",
    "# calculate the results\n",
    "discount = round(order_total * discount_percent,2)\n",
    "#discount = order_total * discount_percent\n",
    "subtotal = order_total - discount\n",
    "sales_tax = round(subtotal * .05,2)\n",
    "#sales_tax = subtotal * .05\n",
    "invoice_total = subtotal + sales_tax\n",
    "\n",
    "# display the results\n",
    "print(\"Order total:     {:10,.2f}\".format(order_total))\n",
    "print(\"Discount amount: {:10,.2f}\".format(discount))\n",
    "print(\"Subtotal:        {:10,.2f}\".format(subtotal))\n",
    "print(\"Sales tax:       {:10,.2f}\".format(sales_tax))\n",
    "print(\"Invoice total:   {:10,.2f}\".format(invoice_total))\n",
    "print()\n"
   ]
  },
  {
   "cell_type": "code",
   "execution_count": 1,
   "metadata": {},
   "outputs": [],
   "source": [
    "from decimal import Decimal"
   ]
  },
  {
   "cell_type": "code",
   "execution_count": 22,
   "metadata": {},
   "outputs": [
    {
     "output_type": "stream",
     "name": "stdout",
     "text": [
      "3410.935281016481894766911864\n"
     ]
    }
   ],
   "source": [
    "dec = Decimal(currency_val)\n",
    "disc = Decimal(\".1\")\n",
    "dsc = disc * dec\n",
    "print(dsc)"
   ]
  },
  {
   "cell_type": "code",
   "execution_count": 23,
   "metadata": {},
   "outputs": [
    {
     "output_type": "stream",
     "name": "stdout",
     "text": [
      "3410.935\n"
     ]
    }
   ],
   "source": [
    "dec = Decimal(\"34109.35\")\n",
    "disc = Decimal(\".1\")\n",
    "dsc = disc * dec\n",
    "print(dsc)\n",
    "\n",
    "\n"
   ]
  },
  {
   "cell_type": "code",
   "execution_count": 25,
   "metadata": {},
   "outputs": [
    {
     "output_type": "stream",
     "name": "stdout",
     "text": [
      "6821.870\n11938.2725\n"
     ]
    }
   ],
   "source": [
    "print(dsc * Decimal(2))\n",
    "print(dsc * Decimal(3.5))"
   ]
  },
  {
   "cell_type": "code",
   "execution_count": null,
   "metadata": {},
   "outputs": [],
   "source": []
  },
  {
   "cell_type": "markdown",
   "metadata": {},
   "source": [
    "## Strings"
   ]
  },
  {
   "cell_type": "code",
   "execution_count": 31,
   "metadata": {},
   "outputs": [
    {
     "output_type": "execute_result",
     "data": {
      "text/plain": [
       "'Andrew'"
      ]
     },
     "metadata": {},
     "execution_count": 31
    }
   ],
   "source": [
    "children = ['Andrew','Laura','Joseph']\n",
    "child = children[0]\n",
    "child"
   ]
  },
  {
   "cell_type": "code",
   "execution_count": 91,
   "metadata": {},
   "outputs": [
    {
     "data": {
      "text/plain": [
       "'w'"
      ]
     },
     "execution_count": 91,
     "metadata": {},
     "output_type": "execute_result"
    }
   ],
   "source": [
    "child[5]"
   ]
  },
  {
   "cell_type": "code",
   "execution_count": 32,
   "metadata": {},
   "outputs": [
    {
     "output_type": "stream",
     "name": "stdout",
     "text": [
      "119\n87\n"
     ]
    }
   ],
   "source": [
    "print(ord(child[5]))\n",
    "print(ord(child[5].upper()))"
   ]
  },
  {
   "cell_type": "code",
   "execution_count": 33,
   "metadata": {},
   "outputs": [
    {
     "output_type": "stream",
     "name": "stdout",
     "text": [
      "6\n3\n"
     ]
    }
   ],
   "source": [
    "#string len\n",
    "print(len(child))\n",
    "#list len\n",
    "print(len(children))"
   ]
  },
  {
   "cell_type": "code",
   "execution_count": 34,
   "metadata": {},
   "outputs": [
    {
     "output_type": "stream",
     "name": "stdout",
     "text": [
      "And\ndr\new\nAndre\n"
     ]
    }
   ],
   "source": [
    "print(child[:3])\n",
    "print(child[2:4])\n",
    "print(child[4:])\n",
    "print(child[:-1])"
   ]
  },
  {
   "cell_type": "code",
   "execution_count": 35,
   "metadata": {},
   "outputs": [
    {
     "output_type": "stream",
     "name": "stdout",
     "text": [
      "rewrewrewrewrewrew\n"
     ]
    }
   ],
   "source": [
    "print(child[3:] * len(child))"
   ]
  },
  {
   "cell_type": "code",
   "execution_count": 36,
   "metadata": {},
   "outputs": [
    {
     "output_type": "stream",
     "name": "stdout",
     "text": [
      "False\nTrue\n"
     ]
    }
   ],
   "source": [
    "print('z' in child)\n",
    "print('w' in child)"
   ]
  },
  {
   "cell_type": "code",
   "execution_count": 37,
   "metadata": {},
   "outputs": [
    {
     "output_type": "stream",
     "name": "stdout",
     "text": [
      "False\nFalse\nFalse\nFalse\nFalse\nFalse\n      country  koolaidy   \n      COUNTRY  KOOLAIDY   \n      Country  Koolaidy   \nCountry  koolaidy   \n      Country  koolaidy\nCountry  koolaidy\n      Country  koolaidy   \n      Country  koolaidy   \n      Country  koolaidy   \n"
     ]
    }
   ],
   "source": [
    "stmt = '      Country  koolaidy   '\n",
    "print(stmt.isalpha())\n",
    "print(stmt.islower())\n",
    "print(stmt.isupper())\n",
    "print(stmt.isdigit())\n",
    "print(stmt.startswith('e'))\n",
    "print(stmt.endswith('e'))\n",
    "print(stmt.lower())\n",
    "print(stmt.upper())\n",
    "print(stmt.title())\n",
    "print(stmt.lstrip())\n",
    "print(stmt.rstrip())\n",
    "print(stmt.strip())\n",
    "print(stmt.ljust(20))\n",
    "print(stmt.rjust(20))\n",
    "print(stmt.center(20))"
   ]
  },
  {
   "cell_type": "code",
   "execution_count": 38,
   "metadata": {},
   "outputs": [
    {
     "output_type": "stream",
     "name": "stdout",
     "text": [
      "15\n7\n"
     ]
    }
   ],
   "source": [
    "print (stmt.find(\"k\"))\n",
    "print (stmt.find(\"o\"))\n",
    "#print (stmt.find(\"y\"),9)"
   ]
  },
  {
   "cell_type": "code",
   "execution_count": 39,
   "metadata": {},
   "outputs": [
    {
     "output_type": "stream",
     "name": "stdout",
     "text": [
      "string\n functions\n"
     ]
    }
   ],
   "source": [
    "str_a = \"string functions\"\n",
    "i = str_a.find(\" \")\n",
    "print(str_a[0:i])\n",
    "print(str_a[i:len(str_a)])"
   ]
  },
  {
   "cell_type": "code",
   "execution_count": 40,
   "metadata": {},
   "outputs": [
    {
     "output_type": "execute_result",
     "data": {
      "text/plain": [
       "list"
      ]
     },
     "metadata": {},
     "execution_count": 40
    }
   ],
   "source": [
    "split_a = str_a.split()\n",
    "type(split_a)"
   ]
  },
  {
   "cell_type": "code",
   "execution_count": 41,
   "metadata": {},
   "outputs": [
    {
     "output_type": "execute_result",
     "data": {
      "text/plain": [
       "['string', 'functions']"
      ]
     },
     "metadata": {},
     "execution_count": 41
    }
   ],
   "source": [
    "split_a"
   ]
  },
  {
   "cell_type": "code",
   "execution_count": 42,
   "metadata": {},
   "outputs": [
    {
     "output_type": "error",
     "ename": "IndexError",
     "evalue": "list index out of range",
     "traceback": [
      "\u001b[1;31m---------------------------------------------------------------------------\u001b[0m",
      "\u001b[1;31mIndexError\u001b[0m                                Traceback (most recent call last)",
      "\u001b[1;32m<ipython-input-42-3ff3eebec7dd>\u001b[0m in \u001b[0;36m<module>\u001b[1;34m\u001b[0m\n\u001b[1;32m----> 1\u001b[1;33m \u001b[0msplit_a\u001b[0m\u001b[1;33m[\u001b[0m\u001b[1;36m2\u001b[0m\u001b[1;33m]\u001b[0m\u001b[1;33m\u001b[0m\u001b[1;33m\u001b[0m\u001b[0m\n\u001b[0m",
      "\u001b[1;31mIndexError\u001b[0m: list index out of range"
     ]
    }
   ],
   "source": [
    "split_a[2]"
   ]
  },
  {
   "cell_type": "code",
   "execution_count": 131,
   "metadata": {},
   "outputs": [
    {
     "name": "stdout",
     "output_type": "stream",
     "text": [
      "['Andrew', 'Laura', 'Joseph']\n"
     ]
    }
   ],
   "source": [
    "print(children)"
   ]
  },
  {
   "cell_type": "code",
   "execution_count": 43,
   "metadata": {},
   "outputs": [
    {
     "output_type": "execute_result",
     "data": {
      "text/plain": [
       "'Laura'"
      ]
     },
     "metadata": {},
     "execution_count": 43
    }
   ],
   "source": [
    "newsplit = \"Andrew|Laura|Joseph\".split(\"|\")\n",
    "newsplit[1]"
   ]
  },
  {
   "cell_type": "code",
   "execution_count": 44,
   "metadata": {},
   "outputs": [
    {
     "output_type": "execute_result",
     "data": {
      "text/plain": [
       "['Andrew', 'Laura', 'Joseph']"
      ]
     },
     "metadata": {},
     "execution_count": 44
    }
   ],
   "source": [
    "newsplit"
   ]
  },
  {
   "cell_type": "code",
   "execution_count": 45,
   "metadata": {},
   "outputs": [
    {
     "output_type": "stream",
     "name": "stdout",
     "text": [
      "AndrewLaura\n"
     ]
    }
   ],
   "source": [
    "join1 = \"\"\n",
    "join1  += newsplit[0]\n",
    "join1  += newsplit[1]\n",
    "print(join1)\n"
   ]
  },
  {
   "cell_type": "code",
   "execution_count": 46,
   "metadata": {},
   "outputs": [
    {
     "output_type": "stream",
     "name": "stdout",
     "text": [
      "AndrewLaura\n"
     ]
    }
   ],
   "source": [
    "join1  = newsplit[0] + \"\" + newsplit[1]\n",
    "print(join1)\n"
   ]
  },
  {
   "cell_type": "code",
   "execution_count": 47,
   "metadata": {},
   "outputs": [
    {
     "output_type": "execute_result",
     "data": {
      "text/plain": [
       "['Andrew', 'Laura', 'Joseph']"
      ]
     },
     "metadata": {},
     "execution_count": 47
    }
   ],
   "source": [
    "children"
   ]
  },
  {
   "cell_type": "code",
   "execution_count": 48,
   "metadata": {},
   "outputs": [
    {
     "output_type": "execute_result",
     "data": {
      "text/plain": [
       "'Andrew|Laura|Joseph'"
      ]
     },
     "metadata": {},
     "execution_count": 48
    }
   ],
   "source": [
    "\"|\".join(children)"
   ]
  },
  {
   "cell_type": "code",
   "execution_count": 49,
   "metadata": {},
   "outputs": [
    {
     "output_type": "execute_result",
     "data": {
      "text/plain": [
       "'Andrew|Laura|Joseph'"
      ]
     },
     "metadata": {},
     "execution_count": 49
    }
   ],
   "source": [
    "tuple1 = ('Andrew', 'Laura', 'Joseph')\n",
    "\"|\".join(list(tuple1))"
   ]
  },
  {
   "cell_type": "code",
   "execution_count": 50,
   "metadata": {},
   "outputs": [
    {
     "output_type": "execute_result",
     "data": {
      "text/plain": [
       "'Andrew'"
      ]
     },
     "metadata": {},
     "execution_count": 50
    }
   ],
   "source": [
    "child"
   ]
  },
  {
   "cell_type": "code",
   "execution_count": 148,
   "metadata": {},
   "outputs": [
    {
     "data": {
      "text/plain": [
       "'A!n!d!r!e!w'"
      ]
     },
     "execution_count": 148,
     "metadata": {},
     "output_type": "execute_result"
    }
   ],
   "source": [
    "\"!\".join(child)"
   ]
  },
  {
   "cell_type": "markdown",
   "metadata": {},
   "source": [
    "## Date and Time"
   ]
  },
  {
   "cell_type": "code",
   "execution_count": 51,
   "metadata": {},
   "outputs": [],
   "source": [
    "from datetime import date,time,datetime\n"
   ]
  },
  {
   "cell_type": "code",
   "execution_count": 52,
   "metadata": {},
   "outputs": [
    {
     "output_type": "execute_result",
     "data": {
      "text/plain": [
       "datetime.date(2021, 5, 28)"
      ]
     },
     "metadata": {},
     "execution_count": 52
    }
   ],
   "source": [
    "date.today()"
   ]
  },
  {
   "cell_type": "code",
   "execution_count": 53,
   "metadata": {},
   "outputs": [
    {
     "output_type": "execute_result",
     "data": {
      "text/plain": [
       "datetime.datetime(2021, 5, 28, 16, 4, 43, 109326)"
      ]
     },
     "metadata": {},
     "execution_count": 53
    }
   ],
   "source": [
    "datetime.now()"
   ]
  },
  {
   "cell_type": "code",
   "execution_count": 54,
   "metadata": {},
   "outputs": [],
   "source": [
    "bigdate = date(1319,2,13)"
   ]
  },
  {
   "cell_type": "code",
   "execution_count": 55,
   "metadata": {},
   "outputs": [
    {
     "output_type": "stream",
     "name": "stdout",
     "text": [
      "1319-02-13\n"
     ]
    }
   ],
   "source": [
    "print(bigdate)"
   ]
  },
  {
   "cell_type": "code",
   "execution_count": 161,
   "metadata": {},
   "outputs": [
    {
     "data": {
      "text/plain": [
       "datetime.date(1319, 2, 13)"
      ]
     },
     "execution_count": 161,
     "metadata": {},
     "output_type": "execute_result"
    }
   ],
   "source": [
    "bigdate"
   ]
  },
  {
   "cell_type": "code",
   "execution_count": 63,
   "metadata": {},
   "outputs": [
    {
     "output_type": "stream",
     "name": "stdout",
     "text": [
      "2021-05-15 10:07:37\n2021-05-15 10:07:37\n"
     ]
    }
   ],
   "source": [
    "cur_time = str(datetime.now())\n",
    "#2021-05-15 10:07:37.810569\n",
    "print(datetime.strptime( \n",
    "    \"2021-05-15 10:07:37\", \n",
    "    \"%Y-%m-%d %H:%M:%S\"))\n",
    "print(datetime.strptime(\"05/15/21 100737\",\"%m/%d/%y %H%M%S\"))"
   ]
  },
  {
   "cell_type": "code",
   "execution_count": 64,
   "metadata": {},
   "outputs": [
    {
     "output_type": "stream",
     "name": "stdout",
     "text": [
      "2021-05-28 16:09:32\n05/28/21 160932\nFri, May 05/28/21 160932\nFriday, May 05/28/21 160932\n0409:32PM 962429\n"
     ]
    }
   ],
   "source": [
    "print(datetime.strftime(datetime.now(),\"%Y-%m-%d %H:%M:%S\"))\n",
    "print(datetime.strftime(datetime.now(),\"%m/%d/%y %H%M%S\"))\n",
    "print(datetime.strftime(datetime.now(),\"%a, %b %m/%d/%y %H%M%S\"))\n",
    "print(datetime.strftime(datetime.now(),\"%A, %B %m/%d/%y %H%M%S\"))\n",
    "print(datetime.strftime(datetime.now(),\"%I%M:%S%p %f\"))"
   ]
  },
  {
   "cell_type": "code",
   "execution_count": 65,
   "metadata": {},
   "outputs": [
    {
     "output_type": "stream",
     "name": "stdout",
     "text": [
      "5/28/2021 4:09:52 PM\n5/28/2021\n"
     ]
    }
   ],
   "source": [
    "#default for locale\n",
    "print(datetime.strftime(datetime.now(),\"%c\"))\n",
    "print(datetime.strftime(datetime.now(),\"%x\"))"
   ]
  },
  {
   "cell_type": "code",
   "execution_count": 67,
   "metadata": {},
   "outputs": [],
   "source": [
    "from datetime import timedelta"
   ]
  },
  {
   "cell_type": "code",
   "execution_count": 68,
   "metadata": {},
   "outputs": [],
   "source": [
    "#timespan\n",
    "wks_3 = timedelta(weeks=3)\n",
    "day_1 = timedelta(days=1)\n",
    "hour_4 = timedelta(hours=4)\n",
    "micro_47=timedelta(microseconds=47)"
   ]
  },
  {
   "cell_type": "code",
   "execution_count": 69,
   "metadata": {},
   "outputs": [
    {
     "output_type": "execute_result",
     "data": {
      "text/plain": [
       "datetime.timedelta"
      ]
     },
     "metadata": {},
     "execution_count": 69
    }
   ],
   "source": [
    "type(wks_3)"
   ]
  },
  {
   "cell_type": "code",
   "execution_count": 70,
   "metadata": {},
   "outputs": [
    {
     "output_type": "execute_result",
     "data": {
      "text/plain": [
       "datetime.date(2021, 5, 28)"
      ]
     },
     "metadata": {},
     "execution_count": 70
    }
   ],
   "source": [
    "date.today()"
   ]
  },
  {
   "cell_type": "code",
   "execution_count": 71,
   "metadata": {},
   "outputs": [
    {
     "output_type": "stream",
     "name": "stdout",
     "text": [
      "Saturday, June 06/19/21 121102 464972\n"
     ]
    }
   ],
   "source": [
    "#day2 =date.today()\n",
    "day2 =datetime.now()\n",
    "dtFuture = day2 +wks_3 + day_1 - hour_4\n",
    "print(datetime.strftime(dtFuture,\"%A, %B %m/%d/%y %H%M%S %f\"))"
   ]
  },
  {
   "cell_type": "code",
   "execution_count": 72,
   "metadata": {},
   "outputs": [
    {
     "output_type": "stream",
     "name": "stdout",
     "text": [
      "1886400.0\n0\n47\n1886400047.0\n"
     ]
    }
   ],
   "source": [
    "print((wks_3 + day_1 - hour_4).total_seconds())\n",
    "print((wks_3 + day_1 - hour_4).microseconds)\n",
    "print((wks_3 + day_1 - hour_4 + micro_47).microseconds)\n",
    "print(((wks_3 + day_1 - hour_4).total_seconds() * 1000) + (wks_3 + day_1 - hour_4 + micro_47).microseconds)\n"
   ]
  },
  {
   "cell_type": "code",
   "execution_count": 73,
   "metadata": {},
   "outputs": [
    {
     "output_type": "stream",
     "name": "stdout",
     "text": [
      "month:  5\nday:  28\nyear:  2021\n"
     ]
    }
   ],
   "source": [
    "day3 = date.today()\n",
    "print(\"month: \",day3.month)\n",
    "print(\"day: \",day3.day)\n",
    "print(\"year: \",day3.year)\n"
   ]
  },
  {
   "cell_type": "code",
   "execution_count": 74,
   "metadata": {},
   "outputs": [
    {
     "output_type": "stream",
     "name": "stdout",
     "text": [
      "sec: 57\nhour: 16\nminute: 12\nmicrosec: 479433\n"
     ]
    }
   ],
   "source": [
    "day4= datetime.now()\n",
    "print(\"sec:\",day4.second)\n",
    "print(\"hour:\",day4.hour)\n",
    "print(\"minute:\",day4.minute)\n",
    "print(\"microsec:\",day4.microsecond)"
   ]
  },
  {
   "cell_type": "code",
   "execution_count": 75,
   "metadata": {},
   "outputs": [],
   "source": [
    "halloween = date(\n",
    "    date.today().year\n",
    "    ,10\n",
    "    ,31\n",
    ")"
   ]
  },
  {
   "cell_type": "code",
   "execution_count": 76,
   "metadata": {},
   "outputs": [
    {
     "output_type": "execute_result",
     "data": {
      "text/plain": [
       "datetime.date(2021, 10, 31)"
      ]
     },
     "metadata": {},
     "execution_count": 76
    }
   ],
   "source": [
    "halloween"
   ]
  },
  {
   "cell_type": "code",
   "execution_count": 78,
   "metadata": {},
   "outputs": [
    {
     "output_type": "stream",
     "name": "stdout",
     "text": [
      "hours to halloween:  3744\nminutes to halloween:  224640\nseconds to halloween:  13478400\nmicroseconds to halloween:  13478400000\n"
     ]
    }
   ],
   "source": [
    "print(\"hours to halloween: \",(halloween - day3).days * 24 )\n",
    "print(\"minutes to halloween: \",(halloween - day3).days * 24 *60 )\n",
    "print(\"seconds to halloween: \",(halloween - day3).days * 24 *60 * 60 )\n",
    "print(\"microseconds to halloween: \",(halloween - day3).days * 24 *60 * 60 * 1000)"
   ]
  },
  {
   "cell_type": "code",
   "execution_count": 79,
   "metadata": {},
   "outputs": [],
   "source": [
    "def add_numbers(upper):\n",
    "    total = 0\n",
    "    for num in range(upper + 1):\n",
    "        total += num\n",
    "        #print(total)\n",
    "    return total"
   ]
  },
  {
   "cell_type": "code",
   "execution_count": 85,
   "metadata": {},
   "outputs": [
    {
     "output_type": "execute_result",
     "data": {
      "text/plain": [
       "4950"
      ]
     },
     "metadata": {},
     "execution_count": 85
    }
   ],
   "source": [
    "add_numbers(99)"
   ]
  },
  {
   "cell_type": "code",
   "execution_count": 86,
   "metadata": {},
   "outputs": [],
   "source": [
    "def add_numbers(upper):\n",
    "    if upper == 0:\n",
    "        return upper\n",
    "    else: \n",
    "        #print(upper + add_numbers(upper - 1))\n",
    "        return upper + add_numbers(upper - 1)"
   ]
  },
  {
   "cell_type": "code",
   "execution_count": 87,
   "metadata": {},
   "outputs": [
    {
     "output_type": "execute_result",
     "data": {
      "text/plain": [
       "4950"
      ]
     },
     "metadata": {},
     "execution_count": 87
    }
   ],
   "source": [
    "add_numbers(99)"
   ]
  },
  {
   "cell_type": "code",
   "execution_count": 88,
   "metadata": {},
   "outputs": [],
   "source": [
    "def factorial_numbers(upper):\n",
    "    if upper == 0:\n",
    "        return 1\n",
    "    else: \n",
    "        #print(upper + add_numbers(upper - 1))\n",
    "        return upper * factorial_numbers(upper - 1)"
   ]
  },
  {
   "cell_type": "code",
   "execution_count": 92,
   "metadata": {},
   "outputs": [
    {
     "output_type": "execute_result",
     "data": {
      "text/plain": [
       "1.183661789987937e-60"
      ]
     },
     "metadata": {},
     "execution_count": 92
    }
   ],
   "source": [
    "float(factorial_numbers(6))/float(factorial_numbers(49))"
   ]
  },
  {
   "cell_type": "code",
   "execution_count": 104,
   "metadata": {},
   "outputs": [],
   "source": [
    "def fib_numbers(upper):\n",
    "    if upper == 0:\n",
    "        return 0\n",
    "    if upper == 1:\n",
    "        return 1   \n",
    "    else: \n",
    "        #print( fib_numbers(upper - 1) + fib_numbers(upper - 2))\n",
    "        return fib_numbers(upper - 1) + fib_numbers(upper - 2)"
   ]
  },
  {
   "cell_type": "code",
   "execution_count": 105,
   "metadata": {
    "tags": []
   },
   "outputs": [
    {
     "output_type": "stream",
     "name": "stdout",
     "text": [
      "0\n1\n1\n2\n3\n5\n8\n13\n21\n34\n55\n89\n144\n233\n377\n610\n987\n1597\n2584\n4181\n"
     ]
    }
   ],
   "source": [
    "for i in range(0,20):\n",
    "    print(fib_numbers(i))"
   ]
  },
  {
   "cell_type": "code",
   "execution_count": 106,
   "metadata": {},
   "outputs": [
    {
     "output_type": "execute_result",
     "data": {
      "text/plain": [
       "range(0, 13)"
      ]
     },
     "metadata": {},
     "execution_count": 106
    }
   ],
   "source": [
    "range(13)"
   ]
  },
  {
   "cell_type": "code",
   "execution_count": 107,
   "metadata": {},
   "outputs": [
    {
     "output_type": "execute_result",
     "data": {
      "text/plain": [
       "'9'"
      ]
     },
     "metadata": {},
     "execution_count": 107
    }
   ],
   "source": [
    "\"9\".upper()"
   ]
  },
  {
   "cell_type": "code",
   "execution_count": 119,
   "metadata": {},
   "outputs": [
    {
     "output_type": "stream",
     "name": "stdout",
     "text": [
      "zipper\n"
     ]
    }
   ],
   "source": [
    "import random\n",
    "words = [\n",
    "    \"aardvark\",\n",
    "    \"air\",\n",
    "    \"zipper\",\n",
    "    \"zoo\"\n",
    "    ]\n",
    "\n",
    "print(words[random.randint(0,len(words)-1)])"
   ]
  },
  {
   "cell_type": "code",
   "execution_count": 116,
   "metadata": {},
   "outputs": [
    {
     "output_type": "stream",
     "name": "stdout",
     "text": [
      "<module 'random' from 'C:\\\\Program Files\\\\Microsoft SQL Server\\\\150\\\\PYTHON_SERVER\\\\lib\\\\random.py'>\n"
     ]
    }
   ],
   "source": [
    "print(random)"
   ]
  },
  {
   "cell_type": "code",
   "execution_count": 124,
   "metadata": {},
   "outputs": [
    {
     "output_type": "execute_result",
     "data": {
      "text/plain": [
       "'zipper'"
      ]
     },
     "metadata": {},
     "execution_count": 124
    }
   ],
   "source": [
    "random.choice(words)"
   ]
  },
  {
   "cell_type": "code",
   "execution_count": null,
   "metadata": {},
   "outputs": [],
   "source": []
  },
  {
   "cell_type": "code",
   "execution_count": null,
   "metadata": {},
   "outputs": [],
   "source": []
  }
 ],
 "metadata": {
  "kernelspec": {
   "name": "python371jvsc74a57bd07dbb69f2fe16ee411a1d001fc5a919d66021ed1f9a71b5ac22cd67380668a935",
   "display_name": "Python 3.7.1 64-bit"
  },
  "language_info": {
   "codemirror_mode": {
    "name": "ipython",
    "version": 3
   },
   "file_extension": ".py",
   "mimetype": "text/x-python",
   "name": "python",
   "nbconvert_exporter": "python",
   "pygments_lexer": "ipython3",
   "version": "3.7.1"
  }
 },
 "nbformat": 4,
 "nbformat_minor": 4
}