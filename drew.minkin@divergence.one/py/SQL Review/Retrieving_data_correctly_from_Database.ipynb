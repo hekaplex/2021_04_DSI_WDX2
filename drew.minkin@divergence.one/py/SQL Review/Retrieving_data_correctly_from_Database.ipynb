{
  "metadata": {
    "kernelspec": {
      "display_name": "Python 3",
      "language": "python",
      "name": "python3"
    },
    "language_info": {
      "mimetype": "text/x-python",
      "nbconvert_exporter": "python",
      "name": "python",
      "pygments_lexer": "ipython3",
      "version": "3.5.4",
      "file_extension": ".py",
      "codemirror_mode": {
        "version": 3,
        "name": "ipython"
      }
    }
  },
  "nbformat_minor": 2,
  "nbformat": 4,
  "cells": [
    {
      "cell_type": "markdown",
      "source": "### Task 1: (Connect to the supplied petsDB, and (OPTIONAL) write a function to check if the connection is done)",
      "metadata": {}
    },
    {
      "cell_type": "code",
      "source": "### Write your code below this comment",
      "metadata": {},
      "execution_count": 1,
      "outputs": []
    },
    {
      "cell_type": "markdown",
      "source": "### Task 2: (What are the different age groups in the persons database)",
      "metadata": {}
    },
    {
      "cell_type": "code",
      "source": "### Write your code below this comment",
      "metadata": {},
      "execution_count": 2,
      "outputs": []
    },
    {
      "cell_type": "markdown",
      "source": "### Task 3: Which age group has maximum number of people?",
      "metadata": {}
    },
    {
      "cell_type": "code",
      "source": "### Write your code below this comment",
      "metadata": {},
      "execution_count": 3,
      "outputs": []
    },
    {
      "cell_type": "markdown",
      "source": "### Task 4: How many people do not have a full name (Last name is blank/null)",
      "metadata": {}
    },
    {
      "cell_type": "code",
      "source": "### Write your code below this comment",
      "metadata": {},
      "execution_count": 4,
      "outputs": []
    },
    {
      "cell_type": "markdown",
      "source": "### Task 5: How many people has more than one pet? (*)",
      "metadata": {}
    },
    {
      "cell_type": "code",
      "source": "### Write your code bellow this comment",
      "metadata": {},
      "execution_count": 5,
      "outputs": []
    },
    {
      "cell_type": "markdown",
      "source": "### Task 6: How many pets have received treaments?\n",
      "metadata": {}
    },
    {
      "cell_type": "code",
      "source": "### Write your code below this comment",
      "metadata": {},
      "execution_count": 6,
      "outputs": []
    },
    {
      "cell_type": "markdown",
      "source": "### Task 7: How many pets have received treatment that we know the type of?",
      "metadata": {}
    },
    {
      "cell_type": "code",
      "source": "### Write your code below this comment",
      "metadata": {},
      "execution_count": 7,
      "outputs": []
    },
    {
      "cell_type": "markdown",
      "source": "### Task 8: How many pets are there from the city called \"east port\"",
      "metadata": {}
    },
    {
      "cell_type": "code",
      "source": "### Write your code below this comment",
      "metadata": {},
      "execution_count": 8,
      "outputs": []
    },
    {
      "cell_type": "markdown",
      "source": "### Task 9: How many pets are there from the city called \"east port\" and who received a treatment?",
      "metadata": {}
    },
    {
      "cell_type": "code",
      "source": "### Write your code below this comment",
      "metadata": {},
      "execution_count": 9,
      "outputs": []
    }
  ]
}