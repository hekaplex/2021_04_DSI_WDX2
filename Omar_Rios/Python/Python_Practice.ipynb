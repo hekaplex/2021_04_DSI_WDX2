{
 "cells": [
  {
   "cell_type": "markdown",
   "metadata": {},
   "source": [
    "PYTHON LISTS USING A HOUSE EXAMPLE"
   ]
  },
  {
   "cell_type": "code",
   "execution_count": 21,
   "metadata": {},
   "outputs": [],
   "source": [
    "# Area variables in square meters in a home \r\n",
    "hall = 11.25\r\n",
    "kit = 18.0\r\n",
    "liv = 20.0\r\n",
    "bed  = 10.75 \r\n",
    "bath = 9.50"
   ]
  },
  {
   "cell_type": "code",
   "execution_count": 22,
   "metadata": {},
   "outputs": [
    {
     "name": "stdout",
     "output_type": "stream",
     "text": [
      "(['hallway', 11.25], ['kitchen', 18.0], ['living room', 20.0], ['bedroom', 10.75], ['bathroom', 9.5])\n"
     ]
    }
   ],
   "source": [
    "house = [\"hallway\", hall], [\"kitchen\", kit], [\"living room\", liv] , [\"bedroom\", bed], [\"bathroom\", bath]\r\n",
    "print(house)\r\n",
    "#TYPE = Tuple "
   ]
  },
  {
   "cell_type": "code",
   "execution_count": 23,
   "metadata": {},
   "outputs": [
    {
     "data": {
      "text/plain": [
       "['bathroom', 9.5]"
      ]
     },
     "execution_count": 23,
     "metadata": {},
     "output_type": "execute_result"
    }
   ],
   "source": [
    "house[1]\r\n",
    "house[-1]\r\n",
    "\r\n",
    "#-1 returns the last index \r\n",
    "#Returns index of the tuple"
   ]
  },
  {
   "cell_type": "markdown",
   "metadata": {},
   "source": [
    "CALLING LISTS BY SLICING METHOD"
   ]
  },
  {
   "cell_type": "code",
   "execution_count": 27,
   "metadata": {},
   "outputs": [
    {
     "name": "stdout",
     "output_type": "stream",
     "text": [
      "(['hallway', 11.25], ['kitchen', 18.0], ['living room', 20.0], ['bedroom', 10.75])\n",
      "(['kitchen', 18.0], ['living room', 20.0])\n"
     ]
    }
   ],
   "source": [
    "front = house[:4]\r\n",
    "print(front)\r\n",
    "#Calls the first 4 \r\n",
    "\r\n",
    "front2 = house[1:3] #This returns the first index written but will exclude the last index written (Ex: This will return index 1 through index 2, index 3 will not be included. it is ony the end)\r\n",
    "print(front2) "
   ]
  },
  {
   "cell_type": "markdown",
   "metadata": {},
   "source": [
    "LIST MANIPULATION\r\n",
    "\r\n",
    "we will use a new data type of list since tuples are immutable "
   ]
  },
  {
   "cell_type": "code",
   "execution_count": 2,
   "metadata": {},
   "outputs": [
    {
     "name": "stdout",
     "output_type": "stream",
     "text": [
      "['hallway', 11.25, 'kitchen', 18.0, 'living room', 20.0, 'bedroom', 10.75, 'bathroom', 9.5]\n"
     ]
    },
    {
     "data": {
      "text/plain": [
       "list"
      ]
     },
     "execution_count": 2,
     "metadata": {},
     "output_type": "execute_result"
    }
   ],
   "source": [
    "home = ['hallway', 11.25, 'kitchen', 18.0, 'living room', 20.0, 'bedroom', 10.75, 'bathroom', 9.5]\r\n",
    "print(home)\r\n",
    "type(home)"
   ]
  },
  {
   "cell_type": "code",
   "execution_count": 3,
   "metadata": {},
   "outputs": [
    {
     "name": "stdout",
     "output_type": "stream",
     "text": [
      "['hallway', 11.25, 'kitchen', 18.0, 'living room', 20.0, 'bedroom', 10.75, 'restroom', 9.5]\n"
     ]
    }
   ],
   "source": [
    "home[-2] = 'restroom'  # This looks up the index and replaces it with the input, datatypes don't even have to match \r\n",
    "print(home)"
   ]
  },
  {
   "cell_type": "markdown",
   "metadata": {},
   "source": [
    "Extending a list "
   ]
  },
  {
   "cell_type": "code",
   "execution_count": 6,
   "metadata": {},
   "outputs": [
    {
     "name": "stdout",
     "output_type": "stream",
     "text": [
      "['hallway', 11.25, 'kitchen', 18.0, 'living room', 20.0, 'bedroom', 10.75, 'restroom', 9.5, 'poolhouse', 24.5]\n",
      "['hallway', 11.25, 'kitchen', 18.0, 'living room', 20.0, 'bedroom', 10.75, 'restroom', 9.5, 'poolhouse', 24.5, 'garage', 15.45]\n"
     ]
    }
   ],
   "source": [
    "home_1 = home + [\"poolhouse\" , 24.5]\r\n",
    "\r\n",
    "print(home_1)\r\n",
    "\r\n",
    "home_2 = home_1 + ['garage', 15.45]\r\n",
    "\r\n",
    "print(home_2)"
   ]
  },
  {
   "cell_type": "markdown",
   "metadata": {},
   "source": [
    "Deleting an element from a list "
   ]
  },
  {
   "cell_type": "code",
   "execution_count": 11,
   "metadata": {},
   "outputs": [
    {
     "name": "stdout",
     "output_type": "stream",
     "text": [
      "['hallway', 11.25, 'kitchen', 18.0, 'living room', 20.0, 'bedroom', 10.75, 'restroom', 15.45]\n"
     ]
    }
   ],
   "source": [
    "del(home_2[-3:-1])\r\n",
    "\r\n",
    "print(home_2) #If you keep calling the delete function, it will delete the element in the index. So be careful of this. "
   ]
  }
 ],
 "metadata": {
  "interpreter": {
   "hash": "4cf07085783094883272b2e82d371f1f162c3f5f3be213c552f66d05fe79e10a"
  },
  "kernelspec": {
   "display_name": "Python 3.9.1 64-bit",
   "name": "python3"
  },
  "language_info": {
   "codemirror_mode": {
    "name": "ipython",
    "version": 3
   },
   "file_extension": ".py",
   "mimetype": "text/x-python",
   "name": "python",
   "nbconvert_exporter": "python",
   "pygments_lexer": "ipython3",
   "version": "3.9.1"
  },
  "orig_nbformat": 4
 },
 "nbformat": 4,
 "nbformat_minor": 2
}